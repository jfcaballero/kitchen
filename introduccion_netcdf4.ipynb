{
  "nbformat": 4,
  "nbformat_minor": 0,
  "metadata": {
    "colab": {
      "provenance": [],
      "toc_visible": true,
      "authorship_tag": "ABX9TyPM85U3zZC5ox8sQPpD0ipD",
      "include_colab_link": true
    },
    "kernelspec": {
      "name": "python3",
      "display_name": "Python 3"
    },
    "language_info": {
      "name": "python"
    }
  },
  "cells": [
    {
      "cell_type": "markdown",
      "metadata": {
        "id": "view-in-github",
        "colab_type": "text"
      },
      "source": [
        "<a href=\"https://colab.research.google.com/github/waveology/kitchen/blob/main/introduccion_netcdf4.ipynb\" target=\"_parent\"><img src=\"https://colab.research.google.com/assets/colab-badge.svg\" alt=\"Open In Colab\"/></a>"
      ]
    },
    {
      "cell_type": "markdown",
      "source": [
        "#Introducción a NetCDF4"
      ],
      "metadata": {
        "id": "OKxdyfs0dDzI"
      }
    },
    {
      "cell_type": "markdown",
      "source": [
        "![netcdf4.png](data:image/png;base64,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)"
      ],
      "metadata": {
        "id": "3CTDkvVRePNC"
      }
    },
    {
      "cell_type": "markdown",
      "source": [
        "* [Web del proyecto](https://unidata.github.io/netcdf4-python/)\n",
        "* [Referencia de la API](https://unidata.github.io/netcdf4-python/#header-functions)"
      ],
      "metadata": {
        "id": "W5qDt3D0eUYS"
      }
    },
    {
      "cell_type": "markdown",
      "source": [
        "* **¿Qué es netCDF4?** En este contexto es una intefaz Python para la librería C de NetCDFextensión de Python que permite trabajar con fichero en formato NetCDF.\n",
        "\n",
        "* **¿Cómo se usa netCDF4?** Asignando un fichero netCDF a un objeto Python y operando con sus respectivos métodos.\n",
        "\n",
        "* **¿Cuándo usar netCDF4?** Cuando sea preciso leer/escribir datos en formato netCDf y acceder a opciones avanzadas del formato.\n",
        "\n",
        "* **¿Por qué netCDF4?** Porque es una interfaz directa a la librería de quienes mantienen el formato.\n",
        "\n",
        "\n"
      ],
      "metadata": {
        "id": "7oKnRm2be5RO"
      }
    },
    {
      "cell_type": "markdown",
      "source": [
        "##Instalación"
      ],
      "metadata": {
        "id": "KPjr8VEThYS7"
      }
    },
    {
      "cell_type": "markdown",
      "source": [
        "* La extensión NetCDF4 puede instalarse a través de múltiples repositorios de paquetes como `conda`\n",
        "\n",
        "* En este notebook la instalaremos mediante `pip`\n"
      ],
      "metadata": {
        "id": "FRyNuTfShsv1"
      }
    },
    {
      "cell_type": "code",
      "source": [
        "# Instalación de NetCDF4\n",
        "# -----------------------\n",
        "!pip -q install netcdf4"
      ],
      "metadata": {
        "id": "Q1c0CuMUhjDi"
      },
      "execution_count": 6,
      "outputs": []
    },
    {
      "cell_type": "markdown",
      "source": [
        "Adicionalmente instalaremos la extensión `Cartopy`"
      ],
      "metadata": {
        "id": "eFGAjYMjkH_w"
      }
    },
    {
      "cell_type": "code",
      "source": [
        "# Esta línea parece ser necesaria en Colab\n",
        "# ----------------------------------------------\n",
        "!pip -q install --no-binary shapely shapely --force\n",
        "\n",
        "# Instalación de Cartopy\n",
        "# ------------------------\n",
        "!pip -q install cartopy"
      ],
      "metadata": {
        "colab": {
          "base_uri": "https://localhost:8080/"
        },
        "id": "jXi0KIegkHCD",
        "outputId": "1dca10cd-84ce-42cd-e4ae-b5af96659e5d"
      },
      "execution_count": 11,
      "outputs": [
        {
          "output_type": "stream",
          "name": "stdout",
          "text": [
            "\u001b[?25l     \u001b[90m━━━━━━━━━━━━━━━━━━━━━━━━━━━━━━━━━━━━━━━━\u001b[0m \u001b[32m0.0/275.5 kB\u001b[0m \u001b[31m?\u001b[0m eta \u001b[36m-:--:--\u001b[0m\r\u001b[2K     \u001b[91m━━━━━━━━━━━━━━━━━━━━━━━━━━━━━━━━━━\u001b[0m\u001b[91m╸\u001b[0m\u001b[90m━━━━\u001b[0m \u001b[32m245.8/275.5 kB\u001b[0m \u001b[31m7.7 MB/s\u001b[0m eta \u001b[36m0:00:01\u001b[0m\r\u001b[2K     \u001b[90m━━━━━━━━━━━━━━━━━━━━━━━━━━━━━━━━━━━━━━━\u001b[0m \u001b[32m275.5/275.5 kB\u001b[0m \u001b[31m5.2 MB/s\u001b[0m eta \u001b[36m0:00:00\u001b[0m\n",
            "\u001b[?25h  Installing build dependencies ... \u001b[?25l\u001b[?25hdone\n",
            "  Getting requirements to build wheel ... \u001b[?25l\u001b[?25hdone\n",
            "  Installing backend dependencies ... \u001b[?25l\u001b[?25hdone\n",
            "  Preparing metadata (pyproject.toml) ... \u001b[?25l\u001b[?25hdone\n",
            "\u001b[2K     \u001b[90m━━━━━━━━━━━━━━━━━━━━━━━━━━━━━━━━━━━━━━━━\u001b[0m \u001b[32m17.6/17.6 MB\u001b[0m \u001b[31m74.6 MB/s\u001b[0m eta \u001b[36m0:00:00\u001b[0m\n",
            "\u001b[?25h  Building wheel for shapely (pyproject.toml) ... \u001b[?25l\u001b[?25hdone\n",
            "\u001b[31mERROR: pip's dependency resolver does not currently take into account all the packages that are installed. This behaviour is the source of the following dependency conflicts.\n",
            "numba 0.56.4 requires numpy<1.24,>=1.18, but you have numpy 1.25.0 which is incompatible.\n",
            "tensorflow 2.12.0 requires numpy<1.24,>=1.22, but you have numpy 1.25.0 which is incompatible.\u001b[0m\u001b[31m\n",
            "\u001b[2K     \u001b[90m━━━━━━━━━━━━━━━━━━━━━━━━━━━━━━━━━━━━━━━━\u001b[0m \u001b[32m10.9/10.9 MB\u001b[0m \u001b[31m83.5 MB/s\u001b[0m eta \u001b[36m0:00:00\u001b[0m\n",
            "\u001b[?25h  Installing build dependencies ... \u001b[?25l\u001b[?25hdone\n",
            "  Getting requirements to build wheel ... \u001b[?25l\u001b[?25hdone\n",
            "  Preparing metadata (pyproject.toml) ... \u001b[?25l\u001b[?25hdone\n",
            "\u001b[2K     \u001b[90m━━━━━━━━━━━━━━━━━━━━━━━━━━━━━━━━━━━━━━━━\u001b[0m \u001b[32m46.5/46.5 kB\u001b[0m \u001b[31m4.0 MB/s\u001b[0m eta \u001b[36m0:00:00\u001b[0m\n",
            "\u001b[?25h  Building wheel for cartopy (pyproject.toml) ... \u001b[?25l\u001b[?25hdone\n"
          ]
        }
      ]
    },
    {
      "cell_type": "markdown",
      "source": [
        "##Descarga de datos"
      ],
      "metadata": {
        "id": "f2UvJrJpjieu"
      }
    },
    {
      "cell_type": "markdown",
      "source": [
        "Descargamos un fichero de datos del reanálisis ERA del ECMWF. En este caso se trata de campos de viento y temperatura en los niveles de presión de 1000, 850, 500 y 300 hPa, correspondientes a las 12:00 UTC del día 15 de cada mes de 2020.\n",
        "\n",
        "Estos datos están disponibles gratuitamente en el portal de C3S de Copernicus: https://cds.climate.copernicus.eu/cdsapp#!/dataset/reanalysis-era5-pressure-levels?tab=form\n",
        "\n"
      ],
      "metadata": {
        "id": "tV5E0j-yjXhX"
      }
    },
    {
      "cell_type": "code",
      "source": [
        "ifile = 'era5_pl_vt_2020_europa_025.rar'\n",
        "!wget -q --no-check-certificate https://owncloud.aemet.es/index.php/s/yWpdSTonSFuJz6c/download -O {ifile} && unrar -o+ e {ifile} && rm -f {ifile}\n",
        "!mv era5_pl_vt_2020_europa_025.nc era5_2000.nc"
      ],
      "metadata": {
        "colab": {
          "base_uri": "https://localhost:8080/"
        },
        "id": "XIWJsvPXjbPu",
        "outputId": "87961e4e-0219-4416-949b-6bf694feb0d6"
      },
      "execution_count": 9,
      "outputs": [
        {
          "output_type": "stream",
          "name": "stdout",
          "text": [
            "\n",
            "UNRAR 5.61 beta 1 freeware      Copyright (c) 1993-2018 Alexander Roshal\n",
            "\n",
            "\n",
            "Extracting from era5_pl_vt_2020_europa_025.rar\n",
            "\n",
            "Extracting  era5_pl_vt_2020_europa_025.nc                                \b\b\b\b  0%\b\b\b\b  1%\b\b\b\b  2%\b\b\b\b  3%\b\b\b\b  4%\b\b\b\b  5%\b\b\b\b  6%\b\b\b\b  7%\b\b\b\b  8%\b\b\b\b  9%\b\b\b\b 10%\b\b\b\b 11%\b\b\b\b 12%\b\b\b\b 13%\b\b\b\b 14%\b\b\b\b 15%\b\b\b\b 16%\b\b\b\b 17%\b\b\b\b 18%\b\b\b\b 19%\b\b\b\b 20%\b\b\b\b 21%\b\b\b\b 22%\b\b\b\b 23%\b\b\b\b 24%\b\b\b\b 25%\b\b\b\b 26%\b\b\b\b 27%\b\b\b\b 28%\b\b\b\b 29%\b\b\b\b 30%\b\b\b\b 31%\b\b\b\b 32%\b\b\b\b 33%\b\b\b\b 34%\b\b\b\b 35%\b\b\b\b 36%\b\b\b\b 37%\b\b\b\b 38%\b\b\b\b 39%\b\b\b\b 40%\b\b\b\b 41%\b\b\b\b 42%\b\b\b\b 43%\b\b\b\b 44%\b\b\b\b 45%\b\b\b\b 46%\b\b\b\b 47%\b\b\b\b 48%\b\b\b\b 49%\b\b\b\b 50%\b\b\b\b 51%\b\b\b\b 52%\b\b\b\b 53%\b\b\b\b 54%\b\b\b\b 55%\b\b\b\b 56%\b\b\b\b 57%\b\b\b\b 58%\b\b\b\b 59%\b\b\b\b 60%\b\b\b\b 61%\b\b\b\b 62%\b\b\b\b 63%\b\b\b\b 64%\b\b\b\b 65%\b\b\b\b 66%\b\b\b\b 67%\b\b\b\b 68%\b\b\b\b 69%\b\b\b\b 70%\b\b\b\b 71%\b\b\b\b 72%\b\b\b\b 73%\b\b\b\b 74%\b\b\b\b 75%\b\b\b\b 76%\b\b\b\b 77%\b\b\b\b 78%\b\b\b\b 79%\b\b\b\b 80%\b\b\b\b 81%\b\b\b\b 82%\b\b\b\b 83%\b\b\b\b 84%\b\b\b\b 85%\b\b\b\b 86%\b\b\b\b 87%\b\b\b\b 88%\b\b\b\b 89%\b\b\b\b 90%\b\b\b\b 91%\b\b\b\b 92%\b\b\b\b 93%\b\b\b\b 94%\b\b\b\b 95%\b\b\b\b 96%\b\b\b\b 97%\b\b\b\b 98%\b\b\b\b 99%\b\b\b\b\b  OK \n",
            "All OK\n"
          ]
        }
      ]
    },
    {
      "cell_type": "code",
      "source": [
        "# Importa netCDF4\n",
        "# ----------------\n",
        "import netCDF4\n",
        "\n",
        "# Extensión base de Cartopy\n",
        "# --------------------------\n",
        "import cartopy.crs as ccrs\n",
        "\n",
        "# Extensión gráfica genérica de Python\n",
        "# ------------------------------------\n",
        "import matplotlib.pyplot as plt\n",
        "\n",
        "# Extensión de cálculo con arrays\n",
        "# -------------------------------\n",
        "import numpy as np"
      ],
      "metadata": {
        "id": "C8Sr-a36hdPi"
      },
      "execution_count": 12,
      "outputs": []
    }
  ]
}