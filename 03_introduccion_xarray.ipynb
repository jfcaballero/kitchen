{
  "nbformat": 4,
  "nbformat_minor": 0,
  "metadata": {
    "colab": {
      "provenance": [],
      "toc_visible": true,
      "authorship_tag": "ABX9TyP37XyDIGJ9XqwdpiU2hZUQ",
      "include_colab_link": true
    },
    "kernelspec": {
      "name": "python3",
      "display_name": "Python 3"
    },
    "language_info": {
      "name": "python"
    }
  },
  "cells": [
    {
      "cell_type": "markdown",
      "metadata": {
        "id": "view-in-github",
        "colab_type": "text"
      },
      "source": [
        "<a href=\"https://colab.research.google.com/github/waveology/kitchen/blob/main/03_introduccion_xarray.ipynb\" target=\"_parent\"><img src=\"https://colab.research.google.com/assets/colab-badge.svg\" alt=\"Open In Colab\"/></a>"
      ]
    },
    {
      "cell_type": "markdown",
      "source": [
        "---\n",
        "<html><img src=\"https://owncloud.aemet.es/index.php/s/lwiFbCGBRAJHlF7/download?path=%2F&files=logo.png\"></html>\n",
        "\n",
        "\n",
        "* **Autor:** Ernesto Barrera\n",
        "* **Institución:** AEMET\n",
        "---"
      ],
      "metadata": {
        "id": "TrGMZNkX6zbz"
      }
    },
    {
      "cell_type": "markdown",
      "source": [
        "#Introducción a xarray"
      ],
      "metadata": {
        "id": "DrBstcBls5da"
      }
    },
    {
      "cell_type": "markdown",
      "source": [
        "![dataset-diagram-logo.webp](data:image/webp;base64,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)"
      ],
      "metadata": {
        "id": "uwHSgjV4sOdb"
      }
    },
    {
      "cell_type": "markdown",
      "source": [
        "* [Web del proyecto](https://github.com/pydata/xarray)\n",
        "* [Referencia de la API](https://docs.xarray.dev/en/stable/index.html)\n",
        "* [Galería](https://docs.xarray.dev/en/stable/gallery.html)"
      ],
      "metadata": {
        "id": "rP7uCHmKsfvw"
      }
    },
    {
      "cell_type": "markdown",
      "source": [
        "* **¿Qué es xarray?** Una extensión de Python para el tratamiento de datos multidimensionales con etiquetas.\n",
        "\n",
        "* **¿Cómo se usa xarray?** Importando el módulo en Python.\n",
        "\n",
        "* **¿Cuándo usar xarray?** Cuando se requiera el tratamiento de datos multidimensionales forma sencilla y eficiente\n",
        "\n",
        "* **¿Por qué xarray?** Porque se comporta como una versión multimensional de Pandas, se construye sobre Numpy y tiene su propia interfaz a Cartopy"
      ],
      "metadata": {
        "id": "RbJjsLxetM0N"
      }
    },
    {
      "cell_type": "markdown",
      "source": [
        "##Descarga de ficheros de datos"
      ],
      "metadata": {
        "id": "7wCRZOa2tW2X"
      }
    },
    {
      "cell_type": "code",
      "execution_count": null,
      "metadata": {
        "id": "NjrQjN2me0-O"
      },
      "outputs": [],
      "source": [
        "# Datos de temperatura a 2 metros - ERA5 - [1987-2020]  -  res=0.25º\n",
        "# -------------------------------------------------------------------\n",
        "ifile = 'era5_t2m_1987_2020_europa_025.rar'\n",
        "!wget -q --no-check-certificate https://owncloud.aemet.es/index.php/s/Ns1t4FXmZoi5hK4/download -O {ifile} && unrar -o+ e {ifile} && rm -f {ifile}\n",
        "\n",
        "# Datos de temperatura en niveles verticales - ERA5 - [2020]  -  res=0.25º\n",
        "# -----------------------------------------------------------------------\n",
        "ifile = 'era5_pl_t_2020_global_025.rar'\n",
        "!wget -q --no-check-certificate https://owncloud.aemet.es/index.php/s/NoAwwclSdzI1A1g/download -O {ifile} && unrar -o+ e {ifile} && rm -f {ifile}\n",
        "\n",
        "# Máscara tierra-suelo - ERA5 - [1987-2020]  -  res=0.25º\n",
        "# ----------------------------------------------------------\n",
        "ifile = 'era5_t2m_1987_2020_europa_025_lsm.rar'\n",
        "!wget -q --no-check-certificate https://owncloud.aemet.es/index.php/s/leirUBqlMnLxIAL/download -O {ifile} && unrar -o+ e {ifile} && rm -f {ifile}\n",
        "\n",
        "# Datos del año 2017\n",
        "# -------------------\n",
        "ifile = 'era5_t2m_europa_05_2017.rar'\n",
        "!wget -q --no-check-certificate https://owncloud.aemet.es/index.php/s/Vhr5GyRlTt3fSgg/download -O {ifile} && unrar -o+ e {ifile} && rm -f {ifile}\n",
        "\n",
        "# Datos del año 2018\n",
        "# -------------------\n",
        "ifile = 'era5_t2m_europa_05_2018.rar'\n",
        "!wget -q --no-check-certificate https://owncloud.aemet.es/index.php/s/HJ0IteRty8Mh29Y/download -O {ifile} && unrar -o+ e {ifile} && rm -f {ifile}\n",
        "\n",
        "# Datos del año 2019\n",
        "# -------------------\n",
        "ifile = 'era5_t2m_europa_05_2019.rar'\n",
        "!wget -q --no-check-certificate https://owncloud.aemet.es/index.php/s/HFUtgstnA4Cqg75/download -O {ifile} && unrar -o+ e {ifile} && rm -f {ifile}\n",
        "\n",
        "# Datos de viento a 10m y temperatura a 2m - ERA5 - 2020 - res=0.25ºC\n",
        "# --------------------------------------------------------------------\n",
        "ifile = 'era5_t2m_w10_2020_europa_025.rar'\n",
        "!wget -q --no-check-certificate https://owncloud.aemet.es/index.php/s/7tJ8c3UpRK9sqVE/download -O {ifile} && unrar -o+ e {ifile} && rm -f {ifile}\n",
        "\n",
        "\n"
      ]
    },
    {
      "cell_type": "markdown",
      "source": [
        "##Carga de extensiones xarray y Matplotlib"
      ],
      "metadata": {
        "id": "_4fE168Ptm0k"
      }
    },
    {
      "cell_type": "code",
      "source": [
        "# Tratamiento de datos multidimensionales\n",
        "# ------------------------------------------------\n",
        "import xarray as xr\n",
        "\n",
        "# Librería gráfica\n",
        "# -------------------------------\n",
        "import matplotlib.pyplot as plt"
      ],
      "metadata": {
        "id": "-lxdjRe5ti4f"
      },
      "execution_count": null,
      "outputs": []
    },
    {
      "cell_type": "markdown",
      "source": [
        "##Lectura de datos\n",
        "---"
      ],
      "metadata": {
        "id": "UruUXayRrxFk"
      }
    },
    {
      "cell_type": "markdown",
      "source": [
        "En xarray podemos abrir ficheros con la función [open_dataset](https://docs.xarray.dev/en/stable/generated/xarray.open_dataset.html). El argumento puede ser un fichero local o bien la URL de un servidor remoto OpenDAP. Aquí trabajaremos con un fichero local que contiene 33 años de reanálisis de datos de temperaturas superficial en Europa."
      ],
      "metadata": {
        "id": "XihASK6dP0N5"
      }
    },
    {
      "cell_type": "code",
      "source": [
        "ds = xr.open_dataset('/content/era5_t2m_1987_2020_europa_025.nc')"
      ],
      "metadata": {
        "id": "WwrRVHO_t136"
      },
      "execution_count": null,
      "outputs": []
    },
    {
      "cell_type": "code",
      "source": [
        "# Esto es un tipo de dato Dataset\n",
        "# --------------------------------\n",
        "ds"
      ],
      "metadata": {
        "id": "NLd7a2dNvYnB"
      },
      "execution_count": null,
      "outputs": []
    },
    {
      "cell_type": "code",
      "source": [
        "# Variables del Dataset\n",
        "# ----------------------\n",
        "ds.data_vars"
      ],
      "metadata": {
        "id": "eApjU7y6veGi"
      },
      "execution_count": null,
      "outputs": []
    },
    {
      "cell_type": "code",
      "source": [
        "# Dimensiones del Dataset\n",
        "# ------------------------\n",
        "ds.dims"
      ],
      "metadata": {
        "id": "tfGYMSjeSClx"
      },
      "execution_count": null,
      "outputs": []
    },
    {
      "cell_type": "code",
      "source": [
        "# Coordenadas del Dataset\n",
        "# -----------------------\n",
        "ds.coords"
      ],
      "metadata": {
        "id": "U89JoP6VSQh9"
      },
      "execution_count": null,
      "outputs": []
    },
    {
      "cell_type": "markdown",
      "source": [
        "Las variables del Dataset son datos de tipo DataArray y se puede acceder ellos de la misma forma que se accede a las columnas en Pandas"
      ],
      "metadata": {
        "id": "YWIe12asSzdX"
      }
    },
    {
      "cell_type": "code",
      "source": [
        "# Acceso mediante el nombre entre paréntesis\n",
        "# -------------------------------------------\n",
        "ds['t2m']"
      ],
      "metadata": {
        "id": "Cq-X6yI6vvW_"
      },
      "execution_count": null,
      "outputs": []
    },
    {
      "cell_type": "code",
      "source": [
        "# Acceso concatenando el nombre con un punto\n",
        "# -------------------------------------------\n",
        "ds.t2m"
      ],
      "metadata": {
        "id": "4zLCdukpv4fH"
      },
      "execution_count": null,
      "outputs": []
    },
    {
      "cell_type": "markdown",
      "source": [
        "##Selección: *isel, sel y slice*\n",
        "---"
      ],
      "metadata": {
        "id": "aeCk6DSjr6hu"
      }
    },
    {
      "cell_type": "markdown",
      "source": [
        "xarray se asienta en Numpy y por eso los DataArray comparten métodos y su trato resulta familiar."
      ],
      "metadata": {
        "id": "NZ0eTilax4CC"
      }
    },
    {
      "cell_type": "code",
      "source": [
        "# Extracción del DataArray de temperaturas del Dataset\n",
        "# Los datos están en K y los pasamos a ºC\n",
        "# ------------------------------------------------------\n",
        "t2m = ds.t2m - 273.15"
      ],
      "metadata": {
        "id": "aeXLa7GPwnBO"
      },
      "execution_count": null,
      "outputs": []
    },
    {
      "cell_type": "code",
      "source": [
        "# Podemos usar shape para inspeccionar las dimensiones\n",
        "# ---------------------------------------------------\n",
        "t2m.shape"
      ],
      "metadata": {
        "id": "6A1HttScwtgO"
      },
      "execution_count": null,
      "outputs": []
    },
    {
      "cell_type": "markdown",
      "source": [
        "En Numpy seleccionaríamos elementos del array de esta manera:"
      ],
      "metadata": {
        "id": "TEq9xP51yHTN"
      }
    },
    {
      "cell_type": "code",
      "source": [
        "# Selección al estilo Numpy, indicando valores o rangos de los índices\n",
        "# ---------------------------------------------------------------------\n",
        "t2m[0, 10:15, 15:25]"
      ],
      "metadata": {
        "id": "Rhtn3aDVyMVt"
      },
      "execution_count": null,
      "outputs": []
    },
    {
      "cell_type": "markdown",
      "source": [
        "En xarray disponemos de dos operadores muy cómodos:\n",
        "\n",
        "*   ***isel*** : selecciona por índices\n",
        "*   ***sel***  : selecciona por valores\n",
        "\n",
        "Veamos unos ejemplos seleccionando tiempos (más info [aquí](https://docs.xarray.dev/en/stable/user-guide/time-series.html)):"
      ],
      "metadata": {
        "id": "OLwte7RByd6T"
      }
    },
    {
      "cell_type": "code",
      "source": [
        "# Selección de los datos correspondientes al primer valor de tiempo\n",
        "# -----------------------------------------------------------------\n",
        "t2m.isel(time=0)"
      ],
      "metadata": {
        "id": "jpyXdnKXy2PW"
      },
      "execution_count": null,
      "outputs": []
    },
    {
      "cell_type": "code",
      "source": [
        "# Selección de los datos correspondientes a un valor específico del tiempo\n",
        "# ------------------------------------------------------------------------\n",
        "t2m.sel(time='1987-02-20T12:00:00')"
      ],
      "metadata": {
        "id": "7cJzvVPMzmT4"
      },
      "execution_count": null,
      "outputs": []
    },
    {
      "cell_type": "code",
      "source": [
        "# ¿Y si el valor específico del tiempo no está presente en los datos?\n",
        "# Usamos 'method' para especificar que use el tiempo más próximo.\n",
        "# Más métodos: None, \"nearest\", \"pad\", \"ffill\", \"backfill\", \"bfill\"\n",
        "# -------------------------------------------------------------------------------\n",
        "#\n",
        "# Esto dará error porque ese tiempo no está en los datos\n",
        "# -------------------------------------------------------\n",
        "# t2m.sel(time='1987-02-18T12:00:00')\n",
        "\n",
        "# El valor más próximo\n",
        "# ----------------------------------------------------\n",
        "t2m.sel(time='1987-02-18T12:00:00',method='nearest')"
      ],
      "metadata": {
        "id": "ctSjBZ290L1G"
      },
      "execution_count": null,
      "outputs": []
    },
    {
      "cell_type": "markdown",
      "source": [
        "Para especificar un rango en lugar de un valor concreto usamos la función ***slice***:"
      ],
      "metadata": {
        "id": "pM6vjnqxZ4yA"
      }
    },
    {
      "cell_type": "code",
      "source": [
        "# Selección de los datos correspondientes a un periodo de tiempo\n",
        "# ---------------------------------------------------------------\n",
        "t2m.sel(time=slice('1987-02-20T12:00:00', '1987-04-16T12:00:00'))"
      ],
      "metadata": {
        "id": "59x86ZllYcRU"
      },
      "execution_count": null,
      "outputs": []
    },
    {
      "cell_type": "code",
      "source": [
        "# Selección de los datos correspondientes a un periodo de tiempo\n",
        "# especificando solo mes y año\n",
        "# ---------------------------------------------------------------\n",
        "t2m.sel(time=slice('1993-07', '1994-02'))"
      ],
      "metadata": {
        "id": "VrgmsPG8Yyao"
      },
      "execution_count": null,
      "outputs": []
    },
    {
      "cell_type": "markdown",
      "source": [
        "Las funciones ***sel***, ***isel*** y ***slice*** funcionan exactamente igual con el resto de coordenadas. Algunos ejemplos con la latitud y la longitud:"
      ],
      "metadata": {
        "id": "NdfZbzq6aHzI"
      }
    },
    {
      "cell_type": "code",
      "source": [
        "# Selección de una ventana geográfica:\n",
        "# norte = 40º sur = 30º / oeste = -30º / este = 0º\n",
        "# Nota: en ERA5 las latitudes se almanenan invertidas\n",
        "# --------------------------------------------------------\n",
        "t2m.sel(latitude=slice(40,30), longitude=slice(-20,0))"
      ],
      "metadata": {
        "id": "tCLzeDdJaaVW"
      },
      "execution_count": null,
      "outputs": []
    },
    {
      "cell_type": "code",
      "source": [
        "# isel y sel admiten múltiples selectores simultáneos\n",
        "# Selección de datos en una fecha específica y en una ventana geográfica:\n",
        "# ---------------------------------------------------------------------------------------\n",
        "t2m.sel(time='1987-02-20T12:00:00',latitude=slice(40,30), longitude=slice(-20,0))"
      ],
      "metadata": {
        "id": "1Hkj6r7mbhld"
      },
      "execution_count": null,
      "outputs": []
    },
    {
      "cell_type": "code",
      "source": [
        "# También pueden encadenarse y funcionan igualemente con Datasets\n",
        "# ---------------------------------------------------------------\n",
        "ds.isel(time=0).sel(latitude=slice(40,30), longitude=slice(-20,0))"
      ],
      "metadata": {
        "id": "tqCr3yv_duP8"
      },
      "execution_count": null,
      "outputs": []
    },
    {
      "cell_type": "markdown",
      "source": [
        "##Gráficos\n",
        "---"
      ],
      "metadata": {
        "id": "p1B8wbi_sBVV"
      }
    },
    {
      "cell_type": "markdown",
      "source": [
        "xarray tiene una prestación muy cómoda en relación con los gráficos: intenta deducir a partir de las dimensiones de los datos qué tipo de dibujo queremos.\n",
        "\n",
        "Por ejemplo si eliminamos la dimensión temporal, la función *plot()* representará un mapa.\n",
        "\n",
        "Notas:\n",
        "\n",
        "* cmap = 'jet' especifica un mapa de color. Más opciones [aquí](https://matplotlib.org/stable/tutorials/colors/colormaps.html).\n",
        "* El ajuste de la escala de color es automático pero podemos usar los argumentos vmn/vmax para ajustarlos."
      ],
      "metadata": {
        "id": "ZNpYJLEVe2S4"
      }
    },
    {
      "cell_type": "code",
      "source": [
        "# Seleccionamos un tiempo y una ventana geográfica  f(x,y,t) --> f=f(x,y)\n",
        "# ------------------------------------------------------------------------\n",
        "t2m.isel(time=0).sel(latitude = slice(45,36) , longitude = slice(-13,5)).plot(size = 5)"
      ],
      "metadata": {
        "id": "XIqIj0UhfbmX"
      },
      "execution_count": null,
      "outputs": []
    },
    {
      "cell_type": "code",
      "source": [
        "# Seleccionamos rangos de las tres variables:  f(x,y,t) --> f=f(x,y,t)\n",
        "# -----------------------------------------------------------------------------------------------------\n",
        "t2m.sel(time=slice('2001-01','2004-05'), latitude=slice(45,36), longitude=slice(-13,5)).plot(size=5)\n"
      ],
      "metadata": {
        "id": "6MaFy65fi2Z-"
      },
      "execution_count": null,
      "outputs": []
    },
    {
      "cell_type": "code",
      "source": [
        "# Seleccionamos un rango de tiempos y las coordenadas de un punto:  f(x,y,t) --> f=f(t)\n",
        "# ----------------------------------------------------------------------------------------\n",
        "t2m.sel(time=slice('2001-01','2004-05')).sel(latitude=40.4,longitude=-3.7,method = 'nearest').plot(size=5)"
      ],
      "metadata": {
        "id": "EZUYfpG5kFdU"
      },
      "execution_count": null,
      "outputs": []
    },
    {
      "cell_type": "markdown",
      "source": [
        "**Sobre la personalización de los gráficos**: la función *plot()* admite varios argumentos que permiten hacer ajustes en los gráficos (más info [aquí](https://docs.xarray.dev/en/stable/user-guide/plotting.html)). Una alternativa sencilla pasa por crear un contenedor y pasar los ejes como argumento a *plot()*:"
      ],
      "metadata": {
        "id": "EIe61zQlkpOM"
      }
    },
    {
      "cell_type": "code",
      "source": [
        "# Creamos una figura\n",
        "# --------------------\n",
        "fig, ax = plt.subplots()\n",
        "\n",
        "# Pasamos los ejes como argumento\n",
        "# ----------------------------------\n",
        "t2m.sel(time=slice('2001-01','2005-12')).sel(latitude=40.4, longitude=-3.7, method = 'nearest').plot(ax=ax)\n",
        "\n",
        "# Personalizamos el gráfico añadiendo elementos\n",
        "# ----------------------------------------------\n",
        "ax.grid(True)\n",
        "ax.set_xlabel('Tiempo')\n",
        "ax.set_ylabel('Temperatura')\n",
        "ax.set_title('Evolución de la temperatura a 2m en el periodo 2001-2005, en Madrid')"
      ],
      "metadata": {
        "id": "OSYgwJMClsuX"
      },
      "execution_count": null,
      "outputs": []
    },
    {
      "cell_type": "markdown",
      "source": [
        "Veamos un ejemplo con un fichero que contiene además una coordenada vertical."
      ],
      "metadata": {
        "id": "FF9uUo4SqK3H"
      }
    },
    {
      "cell_type": "code",
      "source": [
        "# Leemos el fichero\n",
        "# --------------------\n",
        "ds = xr.open_dataset('/content/era5_pl_t_2020_global_025.nc')"
      ],
      "metadata": {
        "id": "Jus5kls6qS2_"
      },
      "execution_count": null,
      "outputs": []
    },
    {
      "cell_type": "code",
      "source": [
        "# Dataset\n",
        "# ----------\n",
        "ds"
      ],
      "metadata": {
        "id": "oQAR09vlqv9W"
      },
      "execution_count": null,
      "outputs": []
    },
    {
      "cell_type": "code",
      "source": [
        "# Extraemos el DataArray de temperaturas temp = temp(t,x,y,z)\n",
        "# Pasamos de Kelvin a ºC\n",
        "# -------------------------------------------------------------\n",
        "t = ds.t - 273.15"
      ],
      "metadata": {
        "id": "PY9A-_xyrCwW"
      },
      "execution_count": null,
      "outputs": []
    },
    {
      "cell_type": "code",
      "source": [
        "# Extraemos el mapa correspondiente al primer valor de tiempo y al último nivel de presión (1000 hPa)\n",
        "# Trazamos un paralelo y un meridiano para los cortes verticales\n",
        "# -----------------------------------------------------------------\n",
        "fig,ax = plt.subplots()\n",
        "t.isel(time=0).isel(level=-1).plot(cmap='jet', ax=ax)\n",
        "ax.axhline(y=-25)\n",
        "ax.axvline(x=25)"
      ],
      "metadata": {
        "id": "IOnDxVYHriD6"
      },
      "execution_count": null,
      "outputs": []
    },
    {
      "cell_type": "code",
      "source": [
        "# Corte vertical por un meridiano que pasa por África\n",
        "# --------------------------------------------------------\n",
        "t.isel(time=0).sel(longitude=25,method='nearest').plot(cmap='jet',yincrease=False,size=5)"
      ],
      "metadata": {
        "id": "2VFOQITXsSdy"
      },
      "execution_count": null,
      "outputs": []
    },
    {
      "cell_type": "code",
      "source": [
        "# Corte vertical por un paralelo en la latitud de Australia\n",
        "# Especificamos que la coordenada vertical disminuye con la altura con yincrease=False\n",
        "# --------------------------------------------------------------------------------------\n",
        "t.isel(time=0).sel(longitude=-25,method='nearest').plot(cmap='jet',yincrease=False,size=5)"
      ],
      "metadata": {
        "id": "CUIka8wrs6Sd"
      },
      "execution_count": null,
      "outputs": []
    },
    {
      "cell_type": "markdown",
      "source": [
        "##Estadística\n",
        "---"
      ],
      "metadata": {
        "id": "cs5UWXnKsHs_"
      }
    },
    {
      "cell_type": "markdown",
      "source": [
        "En xarray podemos usar las mismas funciones estadísticas que tenemos en Numpy"
      ],
      "metadata": {
        "id": "jDQZf8YDTFsJ"
      }
    },
    {
      "cell_type": "code",
      "source": [
        "# Volvemos a abrir el fichero de temperaturas en superficie\n",
        "# -------------------------------------------------------------\n",
        "ds = xr.open_dataset('/content/era5_t2m_1987_2020_europa_025.nc')\n",
        "\n",
        "# Inspeccionamos el contenido\n",
        "# ----------------------------\n",
        "ds\n",
        "\n",
        "# Extraemos el DataArray y pasamos de Kelvin a ºC\n",
        "# ------------------------------------------------\n",
        "t2m = ds.t2m - 273.15"
      ],
      "metadata": {
        "id": "iuoaHEmoTn09"
      },
      "execution_count": null,
      "outputs": []
    },
    {
      "cell_type": "code",
      "source": [
        "# Métodos de numpy para estadística\n",
        "# -----------------------------------\n",
        "# Valor medio\n",
        "# -----------------\n",
        "media = t2m.mean()\n",
        "\n",
        "# El resultado es un DataArray\n",
        "# ----------------------------\n",
        "print(media)\n",
        "\n",
        "# Extracción del valor de\n",
        "# un DataArray de un solo elemento\n",
        "# -----------------------------------\n",
        "print(media.item())"
      ],
      "metadata": {
        "id": "qP6VE9l9UO3y"
      },
      "execution_count": null,
      "outputs": []
    },
    {
      "cell_type": "code",
      "source": [
        "# Análogamente para otras funciones estadísticas\n",
        "# -----------------------------------------------\n",
        "d = {\n",
        "    'dev_std'            :  t2m.std(),\n",
        "    'varianza'           :  t2m.var(),\n",
        "    'mediana'            :  t2m.median(),\n",
        "    'percentil5'         :  t2m.quantile(0.05),\n",
        "    'percentil95'        :  t2m.quantile(0.95),\n",
        "    'minimo'             :  t2m.min(),\n",
        "    'maximo'             :  t2m.max(),\n",
        "}\n",
        "\n",
        "for stat in d :\n",
        "  print('%s = %.3f' % (stat, d[stat].item()))"
      ],
      "metadata": {
        "id": "6IhZJxpub0Iy"
      },
      "execution_count": null,
      "outputs": []
    },
    {
      "cell_type": "markdown",
      "source": [
        "Las funciones estadísticas pueden usarse sobre dimensiones diferentes si se especifican con el argumento ***dim***:"
      ],
      "metadata": {
        "id": "S-eYuFLJcxR2"
      }
    },
    {
      "cell_type": "code",
      "source": [
        "# Estructura de t2m\n",
        "# -----------------\n",
        "t2m.coords"
      ],
      "metadata": {
        "id": "uAri2ylRdib2"
      },
      "execution_count": null,
      "outputs": []
    },
    {
      "cell_type": "code",
      "source": [
        "# Media temporal de temperaturas\n",
        "# ------------------------------\n",
        "t2m.mean(dim='time').plot(cmap='jet', size=5)"
      ],
      "metadata": {
        "id": "b_vr4MSgX70h"
      },
      "execution_count": null,
      "outputs": []
    },
    {
      "cell_type": "code",
      "source": [
        "# El percentil 95 es el valor que solo es superado por un 5% de los datos\n",
        "# -----------------------------------------------------------------------\n",
        "t2m.quantile(0.95,dim='time').plot(cmap='jet')"
      ],
      "metadata": {
        "id": "zepuHzxAfFhN"
      },
      "execution_count": null,
      "outputs": []
    },
    {
      "cell_type": "code",
      "source": [
        "# La desviación estándar mide la dispersión en torno al valor medio\n",
        "# ---------------------------------------------------------------------\n",
        "fig,ax = plt.subplots(ncols=3, nrows=1, figsize=(15,5))\n",
        "\n",
        "t2m.std(dim='time').plot(ax=ax[0], cmap='jet')\n",
        "ax[0].set_title('Desviación estándar')\n",
        "\n",
        "t2m.min(dim='time').plot(ax=ax[1], cmap='jet', vmin=-30,vmax=50)\n",
        "ax[1].set_title('Mínimas')\n",
        "\n",
        "t2m.max(dim='time').plot(ax=ax[2], cmap='jet', vmin=-30,vmax=50)\n",
        "ax[2].set_title('Máximas')\n",
        "\n",
        "# Título superior\n",
        "# ----------------\n",
        "plt.suptitle('Temperaturas en superficie')"
      ],
      "metadata": {
        "id": "CqlrPyoGgAOz"
      },
      "execution_count": null,
      "outputs": []
    },
    {
      "cell_type": "markdown",
      "source": [
        "Vamos a calcular una climatología. Siguiendo la recomendación de la Organización Meteorológica Mundial tomaremos un periodo de 30 años como referencia (1981-2010)."
      ],
      "metadata": {
        "id": "E046gfKIqvWV"
      }
    },
    {
      "cell_type": "code",
      "source": [
        "# Promediamos todos los mapas en la ventana de tiempo 1981-2010\n",
        "# ---------------------------------------------------------------\n",
        "clim = t2m.sel(time=slice('1981-01','2010-12')).mean(dim='time')\n",
        "clim"
      ],
      "metadata": {
        "id": "F1is5GBmqthK"
      },
      "execution_count": null,
      "outputs": []
    },
    {
      "cell_type": "code",
      "source": [
        "# Dibujamos\n",
        "# ------------------\n",
        "clim.plot(cmap='jet')"
      ],
      "metadata": {
        "id": "o-bfR-7krPMK"
      },
      "execution_count": null,
      "outputs": []
    },
    {
      "cell_type": "markdown",
      "source": [
        "En la función ***sel*** podemos añadir condiciones para restringir el periodo especificado con la función ***slice***. Por ejemplo, si quisiéramos la climatología del mes de agosto haríamos lo siguiente:"
      ],
      "metadata": {
        "id": "Fduht9ujrx_x"
      }
    },
    {
      "cell_type": "code",
      "source": [
        "# Climatología del mes de agosto en el periodo 1981-2010\n",
        "# ---------------------------------------------------------\n",
        "clim_agosto = t2m.sel(time = slice('1981-01','2010-12') and t2m.time.dt.month.isin([8,])).mean(dim='time')\n"
      ],
      "metadata": {
        "id": "gsADOaNfrwqO"
      },
      "execution_count": null,
      "outputs": []
    },
    {
      "cell_type": "markdown",
      "source": [
        "Ahora podemos calcular las anomalías correspondientes a un día de agosto cualquiera sin más que sustraer la climatología:"
      ],
      "metadata": {
        "id": "ETqEy8lqsmLi"
      }
    },
    {
      "cell_type": "code",
      "source": [
        "# Calcula la anomalía del 25/08/2020 restando la climatología de agosto en el periodo [1981-2010]\n",
        "# -------------------------------------------------------------------------------------------------\n",
        "(t2m.sel(time='2020-08-25T12:00:00') - clim_agosto).plot(cmap='seismic')\n"
      ],
      "metadata": {
        "id": "Ed_oP5HkszAH"
      },
      "execution_count": null,
      "outputs": []
    },
    {
      "cell_type": "markdown",
      "source": [
        "Calculamos ahora la anomalía anual"
      ],
      "metadata": {
        "id": "n5K8pfQuuY96"
      }
    },
    {
      "cell_type": "code",
      "source": [
        "# Calcula la anomalías de todos los días restando a cada un la climatología anual del periodo [1981-2010]\n",
        "# -------------------------------------------------------------------------------------.-----------------\n",
        "anom = t2m - clim"
      ],
      "metadata": {
        "id": "_yXrGRNsufef"
      },
      "execution_count": null,
      "outputs": []
    },
    {
      "cell_type": "markdown",
      "source": [
        "Promediando todos los datos de cada mapa podemos generar una serie temporal de anomalías:"
      ],
      "metadata": {
        "id": "GJ1g_AM6vXQ6"
      }
    },
    {
      "cell_type": "code",
      "source": [
        "# Calcula la serie temporal de anomalías y la representa\n",
        "# -------------------------------------------------------\n",
        "anom.mean(dim=('longitude','latitude')).plot()"
      ],
      "metadata": {
        "id": "P17SWjpNvn1-"
      },
      "execution_count": null,
      "outputs": []
    },
    {
      "cell_type": "code",
      "source": [
        "anom.sel(time=slice('1990-01','1991-12')).mean(dim=('longitude','latitude')).plot()"
      ],
      "metadata": {
        "id": "4QAtOmMewi7K"
      },
      "execution_count": null,
      "outputs": []
    },
    {
      "cell_type": "markdown",
      "source": [
        "##Remuestreo\n",
        "---"
      ],
      "metadata": {
        "id": "TCqN2s7isYbH"
      }
    },
    {
      "cell_type": "markdown",
      "source": [
        "Nuestras anomalías de temperatura contienen la variación natural del ciclo estacional. Eso dificulta cualquier diagnóstico de evolución de largo plazo. Necesitaríamos empaquetar todos los datos de cada año y promediarlos. Podemos realizar esa operación con la función ***resample()***.\n",
        "\n",
        "* Es muy flexible y acepta periodos del tipo \"2W\", \"3M\" o \"5Y\" para muestrear cada 2 semanas, 3 meses o cinco años, por ejemplo.\n",
        "* Más info sobre \"alias\" de tiempo [aquí](https://pandas.pydata.org/pandas-docs/stable/user_guide/timeseries.html#offset-aliases8) para usar con ***resample()***"
      ],
      "metadata": {
        "id": "pkiY-SgMwXBl"
      }
    },
    {
      "cell_type": "code",
      "source": [
        "# Remuestreamos la serie temporal original sustituyendo\n",
        "# los valores de cada año por su promedio\n",
        "# ------------------------------------------------------\n",
        "anom_anual = anom.resample(time='Y').mean(dim='time')\n",
        "anom_anual.time"
      ],
      "metadata": {
        "id": "1qURUa0qx01X"
      },
      "execution_count": null,
      "outputs": []
    },
    {
      "cell_type": "markdown",
      "source": [
        "En estas condiciones resulta más fácil diagnosticar un cambio de largo plazo:"
      ],
      "metadata": {
        "id": "Xx19CQI-zw8D"
      }
    },
    {
      "cell_type": "code",
      "source": [
        "anom_anual.mean(dim=('longitude','latitude')).plot()"
      ],
      "metadata": {
        "id": "zFuLSFTu0AON"
      },
      "execution_count": null,
      "outputs": []
    },
    {
      "cell_type": "code",
      "source": [
        "# Un ejemplo de evolución de anomalías en regiones distintas sobre un\n",
        "# mismo gráfico\n",
        "# ---------------------------------------------------------------------\n",
        "fig,ax = plt.subplots()\n",
        "\n",
        "# Evolución de anomalías en el área completa (20N-60N)\n",
        "# ---------------------------------------------------------\n",
        "anom_anual.mean(dim=('longitude','latitude')).plot(ax=ax,label='Área completa (20N-60N)')\n",
        "\n",
        "# Evolución de anomalías en la franja de latitudes 20N-40N\n",
        "# ---------------------------------------------------------\n",
        "anom_anual.sel(latitude=slice(40,20)).mean(dim=('longitude','latitude')).plot(ax=ax,label='Sur (20N-40N)')\n",
        "\n",
        "# Evolución de anomalías en la franja de latitudes 40N-60N\n",
        "# ---------------------------------------------------------\n",
        "anom_anual.sel(latitude=slice(60,40)).mean(dim=('longitude','latitude')).plot(ax=ax,label='Norte (40N-60N)')\n",
        "\n",
        "# Información en el gráfico\n",
        "# ---------------------------\n",
        "ax.set_title('Evolución de anomalías de temperatura a 2m (1C)')\n",
        "ax.set_xlabel('Longitud')\n",
        "ax.set_ylabel('Latitud')\n",
        "ax.grid(True)\n",
        "ax.legend()\n"
      ],
      "metadata": {
        "id": "3jzh6j1_0Wg-"
      },
      "execution_count": null,
      "outputs": []
    },
    {
      "cell_type": "markdown",
      "source": [
        "##Agrupamientos\n",
        "---"
      ],
      "metadata": {
        "id": "M50YLTU0sOHv"
      }
    },
    {
      "cell_type": "markdown",
      "source": [
        "Los agrupamientos permiten aplicar a los datos una estrategia de \"dividir-aplicar-combinar\":\n",
        "* se realiza una separación por grupos en base a algún criterio,\n",
        "* se aplica alguna operación sobre cada grupo\n",
        "* se vuelven a recombinar los grupos\n",
        "\n",
        "Podemos hacer agrupamientos con las funciones ***groupby_bin()*** y ***groupby()***"
      ],
      "metadata": {
        "id": "cqwn19bK03jK"
      }
    },
    {
      "cell_type": "code",
      "source": [
        "for i,d in anom_anual.groupby_bins('latitude', bins=4) :\n",
        "    print(i,d.dims,d.shape)"
      ],
      "metadata": {
        "id": "lNpArSu302jq"
      },
      "execution_count": null,
      "outputs": []
    },
    {
      "cell_type": "code",
      "source": [
        "anom_anual.groupby_bins('latitude', bins=4).mean(dim=('longitude','latitude')).plot(x='time', hue='latitude_bins')"
      ],
      "metadata": {
        "id": "Ctgo_tvk2uF6"
      },
      "execution_count": null,
      "outputs": []
    },
    {
      "cell_type": "markdown",
      "source": [
        "Con la función groupby() podemos especificar otros criterios para el agrupamiento. En este ejemplo vamos a generar mapas promedio de temperatura superficial para cada estación del año.\n",
        "\n",
        "* Más \"coordenadas virtuales de tiempo\" [aquí](https://docs.xarray.dev/en/stable/user-guide/time-series.html)\n"
      ],
      "metadata": {
        "id": "0WqCDG5Z35x6"
      }
    },
    {
      "cell_type": "code",
      "source": [
        "# Generamos un grupo con los datos de temperatura correspondientes a cada\n",
        "# estación (DJF/MAM/JJA/SON) y a continuación promediamos cada grupo\n",
        "# -----------------------------------------------------------------------------------------\n",
        "estaciones = t2m.groupby('time.season').mean(dim='time')\n",
        "print(estaciones)"
      ],
      "metadata": {
        "id": "hepfcPE034SL"
      },
      "execution_count": null,
      "outputs": []
    },
    {
      "cell_type": "code",
      "source": [
        "# Dibujamos el primer miembro del grupo\n",
        "# ----------------------------------------\n",
        "estaciones[0].plot()"
      ],
      "metadata": {
        "id": "zwiadkKB5NjT"
      },
      "execution_count": null,
      "outputs": []
    },
    {
      "cell_type": "code",
      "source": [
        "estaciones.plot(col='season')"
      ],
      "metadata": {
        "id": "ofJiRcK_5tBm"
      },
      "execution_count": null,
      "outputs": []
    },
    {
      "cell_type": "code",
      "source": [
        "estaciones.plot(col='season',col_wrap=2,cmap='jet')"
      ],
      "metadata": {
        "id": "0W0H1DRP5ukD"
      },
      "execution_count": null,
      "outputs": []
    },
    {
      "cell_type": "markdown",
      "source": [
        "Un ejemplo con mapas mensuales"
      ],
      "metadata": {
        "id": "0UreBVRh6EL5"
      }
    },
    {
      "cell_type": "code",
      "source": [
        "t2m.groupby('time.month').mean(dim='time').plot(col='month',col_wrap=4,cmap='jet',size=2)"
      ],
      "metadata": {
        "id": "zGX08Ut76LaC"
      },
      "execution_count": null,
      "outputs": []
    },
    {
      "cell_type": "markdown",
      "source": [
        "##Máscaras\n",
        "---"
      ],
      "metadata": {
        "id": "Pyokb1vVshVq"
      }
    },
    {
      "cell_type": "markdown",
      "source": [
        "Las máscaras permiten elegir qué parte de los datos queremos usar. A diferencia de las funciones isel() y sel(), las máscaras preservan las dimensiones originales de los datos. Podemos enmascarar nuestros datos de forma muy eficaz mediante la función ***where()*** que acepta una o más condiciones de selección. Esta función puede encadenarse a otras como hemos visto anteriormente.\n",
        "\n",
        "* Mas información sobre el [enmascaramiento de datos con ***where()***]((https://docs.xarray.dev/en/stable/user-guide/indexing.html#masking-with-where)"
      ],
      "metadata": {
        "id": "zoXa-b1oID4N"
      }
    },
    {
      "cell_type": "markdown",
      "source": [
        "El criterio de enmascaramiento puede estar ***basado en los valores de los datos***. En el siguiente ejemplo seleccionamos el mapa correspondiente al primer valor de tiempo y seguidamente enmascaramos los valores de temperatura menores o iguales que cero:"
      ],
      "metadata": {
        "id": "FsUAIO2_LPPF"
      }
    },
    {
      "cell_type": "code",
      "source": [
        "# Máscara por valor: retenemos solo los valores de\n",
        "# temperatura que son mayores que cero\n",
        "# --------------------------------------------------------\n",
        "t2m.isel(time=0).where(t2m.isel(time=0)>10).plot(cmap='jet')"
      ],
      "metadata": {
        "id": "oxbnIyJnI-Rl"
      },
      "execution_count": null,
      "outputs": []
    },
    {
      "cell_type": "code",
      "source": [
        "# Creamos un DataArray con datos del primer\n",
        "# valor de tiempo\n",
        "# -----------------------------------------\n",
        "z = t2m.isel(time=0)\n",
        "\n",
        "# Encadenamos máscaras que retienen solamente\n",
        "# los valores de temperatura en el intervalo (10,20)\n",
        "# ---------------------------------------------------\n",
        "z.where(z>10).where(z<20).plot(cmap='jet')"
      ],
      "metadata": {
        "id": "agoOSqCpMhKF"
      },
      "execution_count": null,
      "outputs": []
    },
    {
      "cell_type": "code",
      "source": [
        "# El mismo resultado incluyendo múltiples argumentos\n",
        "# en la misma llamada a la función where()\n",
        "# -------------------------------------------------\n",
        "z.where((z>10) & (z<20)).plot(cmap='jet')"
      ],
      "metadata": {
        "id": "lb_d3VQ7N2kD"
      },
      "execution_count": null,
      "outputs": []
    },
    {
      "cell_type": "markdown",
      "source": [
        "Se puede enmascarar el DataArray entero con un criterio basado en un campo y después hacer una selección. Es importante tener en cuenta el orden de las operaciones para optimizar recursos."
      ],
      "metadata": {
        "id": "89cQXRa5P7FN"
      }
    },
    {
      "cell_type": "code",
      "source": [
        "# Creamos un DataArray con datos del primer\n",
        "# valor de tiempo\n",
        "# -----------------------------------------\n",
        "z = t2m.isel(time=0)\n",
        "\n",
        "# Enmascaramos todo el DataArray t2m para retener\n",
        "# valores de temperatura en el intervalo (10,20) y a\n",
        "# continuación seleccionamos el campo correspondiente al índice\n",
        "# de tiempo número 40.\n",
        "# La operación sería más eficiente invirtiendo el orden de\n",
        "# las funciones.\n",
        "# -------------------------------------------------------------------\n",
        "t2m.where((z>10) & (z<20)).isel(time=40).plot(cmap='jet')\n",
        "\n",
        "# La misma operación sería más eficiente invirtiendo\n",
        "#el orden de las funciones.\n",
        "# -------------------------------------------------------------------\n",
        "# t2m.isel(time=40).where((z>10) & (z<20)).plot(cmap='jet')\n"
      ],
      "metadata": {
        "id": "cE7-bOvcPGDq"
      },
      "execution_count": null,
      "outputs": []
    },
    {
      "cell_type": "markdown",
      "source": [
        "Es posible rellenar la zona enmascarada con valores prestablecidos que indicamos en el segundo argumento de ***where()***"
      ],
      "metadata": {
        "id": "Gz9KvkLQUa9N"
      }
    },
    {
      "cell_type": "code",
      "source": [
        "# rellenando la zona correspondiente a temperturas inferiores\n",
        "# a 0ºC con el valor cero\n",
        "# -----------------------------------------------------------\n",
        "z.where(z<10, 0).plot(cmap='jet')"
      ],
      "metadata": {
        "id": "KeB7yWi7Uk4X"
      },
      "execution_count": null,
      "outputs": []
    },
    {
      "cell_type": "markdown",
      "source": [
        "Las máscaras pueden definirse también **en base a las coordenadas**. En el siguiente ejemplo retenemos solo los datos de la mitad norte del dominio geográfico"
      ],
      "metadata": {
        "id": "Eo_nGlz6U3Ig"
      }
    },
    {
      "cell_type": "code",
      "source": [
        "# Retenemos solamente los datos de latitud superior a 40ºN\n",
        "# y asignamos el valor cero al resto\n",
        "# ---------------------------------------------------------\n",
        "z.where(z.latitude>40,0).plot(cmap='jet')"
      ],
      "metadata": {
        "id": "xduh6NSMVMF-"
      },
      "execution_count": null,
      "outputs": []
    },
    {
      "cell_type": "code",
      "source": [
        "# Retenemos los datos de z (01/01/1987) con latitud superior\n",
        "# a 40ºN y asignamos al resto los datos del campo de temperaturas\n",
        "# correspondiente al índice de tiempo 36 (30/06/1987)\n",
        "# -------------------------------------------------------------\n",
        "z.where(z.latitude>40, t2m.isel(time=36)).plot(cmap='jet')"
      ],
      "metadata": {
        "id": "P6NUIeITVnkF"
      },
      "execution_count": null,
      "outputs": []
    },
    {
      "cell_type": "markdown",
      "source": [
        "Determinados campos se usan habitualmente para discriminar por tipos de superficie. Por ejemplo, el denominado *máscara tierra mar* (land sea mask) que toma valores cero o uno para indicar qué coordenadas corresponden al océano o a a tierra respectivamente"
      ],
      "metadata": {
        "id": "FiLLofQwXv42"
      }
    },
    {
      "cell_type": "code",
      "source": [
        "# Leemos los datos de la máscara tierra mar\n",
        "# Seleccionamos la correspondiente al primer\n",
        "# valor de tiempo y asumimos que no cambia\n",
        "# ------------------------------------------\n",
        "lsm = xr.open_dataset('/content/era5_t2m_1987_2020_europa_025_lsm.nc').lsm.isel(time=0)"
      ],
      "metadata": {
        "id": "d40Be6NQY9a4"
      },
      "execution_count": null,
      "outputs": []
    },
    {
      "cell_type": "code",
      "source": [
        "# Retenemos los datos de temperatura correspondientes\n",
        "# a tierra (lsm=1)\n",
        "# ---------------------------------\n",
        "z.where(lsm > 0).plot(cmap='jet')"
      ],
      "metadata": {
        "id": "YaM_c6qKfHDq"
      },
      "execution_count": null,
      "outputs": []
    },
    {
      "cell_type": "markdown",
      "source": [
        "A continuación repetiremos el experimento que hicimos anteriormente para determinar la evolución temporal de anomalías de temperatura. En esta ocasión, discriminando entre el mar y la tierra"
      ],
      "metadata": {
        "id": "qYumSnI_flfp"
      }
    },
    {
      "cell_type": "code",
      "source": [
        "# Climatología 1991-2020\n",
        "# ------------------------\n",
        "clim = t2m.sel(time=slice('1991-01','2020-12')).mean(dim='time')\n",
        "\n",
        "# Anomalias diarias respecto de la climatología 1991-2020\n",
        "# --------------------------------------------------------\n",
        "anom = t2m - clim\n",
        "\n",
        "# Anomalías anuales respecto de la climatología 1991-2020\n",
        "# ------------------------------------------------------------\n",
        "#anom_anual = anom.sel(time=slice('1991-01','2020-12')).resample(time='Y').mean(dim='time')\n",
        "anom_anual = anom.resample(time='Y').mean(dim='time')"
      ],
      "metadata": {
        "id": "yiX06RNRf-lU"
      },
      "execution_count": null,
      "outputs": []
    },
    {
      "cell_type": "code",
      "source": [
        "fig, ax = plt.subplots()\n",
        "anom_anual.where(lsm < 1).mean(dim=('latitude','longitude')).plot(ax=ax,label='mar')\n",
        "anom_anual.where(lsm > 0).mean(dim=('latitude','longitude')).plot(ax=ax,label='tierra')\n",
        "anom_anual.mean(dim=('latitude','longitude')).plot(ax=ax,label='total')\n",
        "ax.legend()\n",
        "ax.grid()\n",
        "ax.set_title('Evolución de la anomalía media anual ($^\\circ$C)')\n",
        "ax.set_xlabel('Tiempo')\n",
        "ax.set_ylabel('Anomalía')"
      ],
      "metadata": {
        "id": "BdAUBy-Cgfyt"
      },
      "execution_count": null,
      "outputs": []
    },
    {
      "cell_type": "markdown",
      "source": [
        "##Múltiples fuentes\n",
        "---"
      ],
      "metadata": {
        "id": "HAcyrYB2smN2"
      }
    },
    {
      "cell_type": "markdown",
      "source": [
        "Suele ser habitual que en los repositorios de datos estos se encuentren fragmentados en multitud de ficheros para facilitar el acceso y optimizar el ancho de banda de los servidores. Sin embargo, trabajar con múltiples ficheros puede dificultar la operativa de análisis.\n",
        "\n",
        "xarray ofrece un mecanismo muy cómodo para resolver este problema. Se trata de la función mfdataset(), que permite abrir múltiples ficheros asignándolos al mismo dataset"
      ],
      "metadata": {
        "id": "gOuKWclBjRXW"
      }
    },
    {
      "cell_type": "code",
      "source": [
        "# Declaramos los nombres de varios ficheros de datos\n",
        "# en una lista\n",
        "# ------------------------------------------------------\n",
        "ficheros = ['/content/era5_t2m_europa_05_2017.nc',\n",
        "            '/content/era5_t2m_europa_05_2018.nc',\n",
        "            '/content/era5_t2m_europa_05_2019.nc']"
      ],
      "metadata": {
        "id": "1J6D66QWj7wh"
      },
      "execution_count": null,
      "outputs": []
    },
    {
      "cell_type": "code",
      "source": [
        "# Los abrimos todos asignándólos a un único dataset\n",
        "# ------------------------------------------------\n",
        "ds = xr.open_mfdataset(ficheros)"
      ],
      "metadata": {
        "id": "52bRaNBCkNTq"
      },
      "execution_count": null,
      "outputs": []
    },
    {
      "cell_type": "code",
      "source": [
        "t2m = ds.t2m\n",
        "t2m.mean(dim=('longitude','latitude')).plot()"
      ],
      "metadata": {
        "id": "j7_CGFHflQhW"
      },
      "execution_count": null,
      "outputs": []
    },
    {
      "cell_type": "code",
      "source": [
        "t2m.sel(latitude=slice(45,35),longitude=slice(-10,0)).mean(dim='time').plot(cmap='jet')"
      ],
      "metadata": {
        "id": "Q5pH6SholgGc"
      },
      "execution_count": null,
      "outputs": []
    },
    {
      "cell_type": "markdown",
      "source": [
        "##Salida en NetCDF\n",
        "---"
      ],
      "metadata": {
        "id": "09yqcvY-stMd"
      }
    },
    {
      "cell_type": "markdown",
      "source": [
        "Para guardar el resultado de nuestro trabajo en formato NetCDF usamos la función to_netcdf() que, a efectos prácticos, puede usarse tanto en Datasets como en DataArrays."
      ],
      "metadata": {
        "id": "ogg8DOPClqsg"
      }
    },
    {
      "cell_type": "code",
      "source": [
        "# Leemos datos de viento y temperatura\n",
        "# --------------------------------------\n",
        "ds = xr.open_dataset('/content/era5_t2m_w10_2020_europa_025.nc').isel(time=slice(0,10))\n",
        "\n",
        "# Inspeccionamos el contenido del dataset\n",
        "# ----------------------------------------\n",
        "ds"
      ],
      "metadata": {
        "id": "MkyAKnpmob-W"
      },
      "execution_count": null,
      "outputs": []
    },
    {
      "cell_type": "code",
      "source": [
        "# Eliminamos el viento del dataset\n",
        "# Nos quedamos solo con la temperatura\n",
        "# -------------------------------------\n",
        "nuevo_ds = ds.drop(['u10','v10'])\n",
        "nuevo_ds"
      ],
      "metadata": {
        "id": "Zx2OWAHuo55K"
      },
      "execution_count": null,
      "outputs": []
    },
    {
      "cell_type": "code",
      "source": [
        "# Guardamos el nuevo dataset en formato NetCDF\n",
        "# -------------------------------------------------\n",
        "nuevo_ds.to_netcdf('/content/temperatura.nc', mode='w')"
      ],
      "metadata": {
        "id": "XPssya_IpLnO"
      },
      "execution_count": null,
      "outputs": []
    },
    {
      "cell_type": "code",
      "source": [
        "# El fichero creado contiene un dataset solamente\n",
        "# con la temperatura\n",
        "# ------------------------------------------------\n",
        "xr.open_dataset('/content/temperatura.nc')"
      ],
      "metadata": {
        "id": "7twZMc6OpnCJ"
      },
      "execution_count": null,
      "outputs": []
    },
    {
      "cell_type": "markdown",
      "source": [
        "Podemos operar de igual manera a nivel de DataArray"
      ],
      "metadata": {
        "id": "Cj2q0IT8qC_b"
      }
    },
    {
      "cell_type": "code",
      "source": [
        "# Extraemos DataArray con las componentes vectoriales\n",
        "# del viento a 10 metros\n",
        "# ---------------------------------------------------\n",
        "u = ds.u10\n",
        "v = ds.v10\n",
        "\n",
        "# Creamos un nuevo dataset solamente con el viento\n",
        "# y guardamos el resultado en un nuevo fichero NetCDF\n",
        "# --------------------------------------------------\n",
        "xr.Dataset({'u':u,'v':v}).to_netcdf('/content/viento.nc','w')"
      ],
      "metadata": {
        "id": "1kGLfawdqIq5"
      },
      "execution_count": null,
      "outputs": []
    },
    {
      "cell_type": "code",
      "source": [
        "# El fichero creado contiene un dataset solamente\n",
        "# con el viento\n",
        "# ------------------------------------------------\n",
        "xr.open_dataset('/content/viento.nc')"
      ],
      "metadata": {
        "id": "T7dTIf04qqAp"
      },
      "execution_count": null,
      "outputs": []
    },
    {
      "cell_type": "markdown",
      "source": [
        "##Compresión de datos\n",
        "---"
      ],
      "metadata": {
        "id": "m82GPPbEq43a"
      }
    },
    {
      "cell_type": "markdown",
      "source": [
        "El formato NetCDF permite la compresión sin pérdida de información. Para usarla en nuestros ficheros basta con declararla en el diccionario ***enconding***.\n",
        "La eficiencia de la compresión dependerá de los datos."
      ],
      "metadata": {
        "id": "BirRhIKgq8lV"
      }
    },
    {
      "cell_type": "code",
      "source": [
        "# Leemos datos de viento y temperatura\n",
        "# --------------------------------------\n",
        "ds = xr.open_dataset('/content/era5_t2m_w10_2020_europa_025.nc')\n",
        "\n",
        "# Inspeccionamos el contenido del dataset\n",
        "# ----------------------------------------\n",
        "ds\n"
      ],
      "metadata": {
        "id": "WiD_Au7yrWgt"
      },
      "execution_count": null,
      "outputs": []
    },
    {
      "cell_type": "code",
      "source": [
        "t2m = ds.t2m\n",
        "\n",
        "# El diccionario encoding contiene metadatos del array de temperaturas\n",
        "# ---------------------------------------------------------------------\n",
        "t2m.encoding"
      ],
      "metadata": {
        "id": "P3SuNiuyr013"
      },
      "execution_count": null,
      "outputs": []
    },
    {
      "cell_type": "code",
      "source": [
        "# En algunas plataformas la compresión no funciona correctamente\n",
        "# si no está instalada la librería NetCDF4 de Python\n",
        "# -------------------------------------------------------\n",
        "! pip -q install netcdf4"
      ],
      "metadata": {
        "id": "i_sQ8toC8NYi"
      },
      "execution_count": null,
      "outputs": []
    },
    {
      "cell_type": "code",
      "source": [
        "# Creamos un Dataset a partir del DataArray asignándole\n",
        "# un nombre a la variable.\n",
        "# ------------------------------------------------------\n",
        "temperatura = t2m.to_dataset(name='temperatura')\n",
        "\n",
        "# Guardamos el Dataset en un fichero NetCDF sin compresión\n",
        "# ---------------------------------------------------------\n",
        "temperatura.to_netcdf('/content/t2m_sin_compresion.nc','w')\n",
        "\n",
        "# Guardamos el Dataset en un fichero NetCDF especificando en el encoding\n",
        "# que queremos compresión 'zlib' con un nivel 4\n",
        "# ---------------------------------------------------------------------\n",
        "temperatura.to_netcdf('/content/t2m_con_compresion.nc','w', encoding={'temperatura':{'zlib':True,'complevel':4}})"
      ],
      "metadata": {
        "id": "hAwxwkfvsI1i"
      },
      "execution_count": null,
      "outputs": []
    },
    {
      "cell_type": "code",
      "source": [
        "# Obtenemos una compresión del 33%\n",
        "# ----------------------------------\n",
        "!ls -larth *_compresion.nc"
      ],
      "metadata": {
        "id": "98OfqHRHuayO"
      },
      "execution_count": null,
      "outputs": []
    },
    {
      "cell_type": "markdown",
      "source": [
        "##Más herramientas\n",
        "\n",
        "* [Acceso a datos NetCDF de Copernicus/ECMWF](https://colab.research.google.com/github/waveology/kitchen/blob/main/00_acceso_a_datos_netcdf_copernicus_ecmwf.ipynb)\n",
        "\n",
        "* [Introducción al trabajo con NetCDF](https://colab.research.google.com/github/waveology/kitchen/blob/main/01_introduccion_al_trabajo_con_netcdf.ipynb)\n",
        "\n",
        "* [Introducción a cdo](https://colab.research.google.com/github/waveology/kitchen/blob/main/02_introduccion_cdo.ipynb)\n",
        "\n",
        "* [Introducción a Cartopy](https://colab.research.google.com/github/waveology/kitchen/blob/main/04_introduccion_cartopy.ipynb)\n",
        "\n",
        "* [Introducción a Netcdf4](https://colab.research.google.com/github/waveology/kitchen/blob/main/05_introduccion_netcdf4.ipynb)\n",
        "\n",
        "* [Introducción a nco](https://colab.research.google.com/github/waveology/kitchen/blob/main/06_introducci%C3%B3n_nco.ipynb)\n"
      ],
      "metadata": {
        "id": "nA770WHb4t78"
      }
    }
  ]
}