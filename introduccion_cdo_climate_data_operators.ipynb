{
  "nbformat": 4,
  "nbformat_minor": 0,
  "metadata": {
    "colab": {
      "provenance": [],
      "toc_visible": true,
      "authorship_tag": "ABX9TyM5jFwfYD3S02ukbN+tOli/",
      "include_colab_link": true
    },
    "kernelspec": {
      "name": "python3",
      "display_name": "Python 3"
    },
    "language_info": {
      "name": "python"
    }
  },
  "cells": [
    {
      "cell_type": "markdown",
      "metadata": {
        "id": "view-in-github",
        "colab_type": "text"
      },
      "source": [
        "<a href=\"https://colab.research.google.com/github/waveology/kitchen/blob/main/introduccion_cdo_climate_data_operators.ipynb\" target=\"_parent\"><img src=\"https://colab.research.google.com/assets/colab-badge.svg\" alt=\"Open In Colab\"/></a>"
      ]
    },
    {
      "cell_type": "markdown",
      "source": [
        "# Climate Data Operators (*cdo*)\n"
      ],
      "metadata": {
        "id": "CuUyJZcnv8ux"
      }
    },
    {
      "cell_type": "markdown",
      "source": [
        "![Sin título.png](data:image/png;base64,iVBORw0KGgoAAAANSUhEUgAAATkAAAA8CAIAAACSOVqhAAAAAXNSR0IArs4c6QAAAARnQU1BAACxjwv8YQUAAAAJcEhZcwAADsMAAA7DAcdvqGQAACu+SURBVHhe7X0HXBRn/j5lF3bZRmfpVUB6FxFBLCj2hhpL2mnaxfxyuXiJqReTS/NS7lLuEs8UTUyisXesoCgoiHSQ3lkWdpe6C8su/2d2hmVhAWnJ/3LZ5zPizDvvvO87M+/z/T7fd96Z1ddbNl+PxHQPakUHHXT474MB9b8OOujw3w0dV3XQ4bcBHVd10OG3AR1XddDht4FJjS3xGAxvK364o4ufjZ2bhSWPwWTQ6IYG+n19enKloru3t71bViluyW2oy6itKmxqlMik1JGTxuMzZruZW75w9ii1rYMO/+uYCFfpBgZ+fPsl3n4Rji7GNFqVRFTU1FjaImzqaG+VSUFR5EE6qGvN5oBR0635zmYWPb29t2urThfm5gnqexQKsqgJQ8dVHX5vGB9XwdKZzm5bQiLBk7sNNeeLC7Ibaps7OxTwpCPDUF/fwoTtb2u3yNM32N4RnnZfZtrNqnK5UknlGD90XNXh94ZxcNXLyubpqDn4C994vCCnWiJSjkpRbRjo6zvwTFf5Bi2dHlAkbPzsxtUioYDaN07ouKrD7w2Gel5u1KqVObWiBSNDwweCwl+KSyhuFrxx8VRSSSEiz/HRVAUc0iqTpddUXiotgjB+bEY0Uu4JBYq+cTvYMAdnM6bJxdIialsHHf7XcX+uWpiwXpmXMNfD690r5/ffSR9+fAgOFrTDX7WsJVJGXNplXdfKSqraxHFunghxa8Qt1FH6KkLr47/7QMdVHX5vuI8GtueavpOwsru3d9fF0zWtYipVDZJ7enosBsOKxbHn8qw53HJRi1QmczW3UNFuRKio3WcI6OkrlMqiZkGlWDQWlpIYRQOjCAaNjhVZr3ykFiDwNjKkIcPokfYYAW3PoNH0iZoJyJWKIYNnxoY0aIfeScTnIwFVo/BRzlQN5GTS6FN1ymoY6uvjSnYrescbEOkwXozGVRD170vX1LdJQFRoVyqVBG6Mso/FZATZOi7wnB7p5DrN0hoemGvMePfq+XKhYHNwuHJsXRN9KL226secLNiC5q5OKvV+GIWr5kyTj5Ylso2Nd5w+Ui5qplI1gBr/HDN/wbTpb1w4nVpVRqVOAmjJ7iWrmXQjWB9YL6lcXilqOV2Ul1pZKlcq0Zv/Mic+p6EOKdQBUwdPS+vts+Jwg4SdHVTSCLDlcN9auGJ3ctKExwiGRQDffkfsgteSTlaoxZEOvwxGnAsB4r2bsLJaLHrt/EktoipNjIxWBoR8v+HRk4889fr8JQs9fdBfeQymPgD+E3+JP/eFoYHB7brqj1KvBto5fLgs0dKERVUxCTDo9FAHp1ku7mv8g6mkwYBZWekb6GNta8PhUEmTAyyUr43dyYKcf6elfJl+/eecO3Ay/1i+7o9Rc2AXAH++vQPPjMo9peAyGBGOLqSOGB3IE2zvyDFmUNsThZGhobOpOYQJudnR053bWA/zRG6yjYwdeWZjVEcoRLMoHUbH8JcJsuqFOfHQcm9fOdsp76FSAcJt9AXYOX65ZvP+DQ+v8A1E0EjtGj9IjwqiNra1Hs3PRv/eOXcRqqZ2TwIyee+xvOxFnr7WrGHYuMo3qFgogMtFA6ikSaNL3nOxpPBkYe6JgpyfcjLh8D9IufDUzFgvKxsofMLf/mISUVX0WAsfe86REObgDLXFMjImN3EZ309OauxoIzfXB4Y+H7tgjHUE2zt9uGzt5M3H7wTDc3VDUJiPje3rSacGedS+Prqh4cbgGT9vfmxTcAQsKJU+UYCoH6dehcaGC26VSV89fwI9e2NwOLV7EjAw0L9SVgxbM8/Di0rqB5/NjXP3PJaf3ascFFLCN4bYOca4eqANakvPYzCwkOsksAsaG7KW2h4ZKRWl4KiHhZV2x7VisRE1RLu4u5hZqO0FyoThw1+IC+wNc3AyZTDJXWpwjI3RyFnO7iP5LpQGQcSiG1HbIwPni/AVYTZELFriZGo2xHLBzM1wdMEFcTe3pKkuCNqGJjmZmkMjWLM5aC0OwC6s4Fj4W1Ttam5pw+ZgQfnYi6unaXzJFOREflVRZmRROJDKocPIGGYc2Meaj/jq7cvncgX1ZAqBvj6IqOdi5r+TsNKOa0olDofrlWXirs5Avt0oxhWysL6t9f2UyzUSEYiFbSS2dcuqJaLtUXFZdTVNne1kzpEwyjgw7DRMybGCbPB/6XR/SFPNSReJASHOZhZ70q+vCwy9VVNZ0NSIxGA7x4+XJy7x9oee3BgUDgphV49CkeDl+8aCZXfqqlv6A+lHwmYi0EWUqzlCw+dwITEgfUXSLioJ0T7PdCOakZ8Nz7PGL7hKLMqsq0b6Em+/95esjnGdBpWOdhoZ0u7W14DVyP/3JWsQR8Abz/PwXuUXtMjLF7vUMXy4yqElePvNdvWAMcWBaJgdl7fY2+9gTiauHriExm+NiM5uqNVsCQlcrvWBYScLc3DlQZWdcYuC7B1x7LrAMFi0LSEzuuTyvMY6MvMKn4DdS9agIjTywdBIGzY3rbrCjMl6b8mq1X7BMEC4/t7WNikVJaDu+4tXX68sxQpkf4zbNA8La5Cfa8zE+b69aKVcoSjrHzWAEcG5CzvaO3u631uyeq1/iIelNZQ5KjqSd5fMo8NIGCo4YfOejoq7VlF6rbKUSgIIj0r7U8z8V+YlmIzBZt8ffX3mJqwZTs7VrSLNTg+eJ5ffezpqzjMnfpr8PETIUZABvQoujkyBX0JX+zn3Tnv3gF6Ab4HgL2luev9qUmdPT4Ct/b9Wb0yvqcThl0uL0b8RkD9x9EB7dzeczLqA0L+cOTJs2wz6nQ+YYMXm4CwgGXIa6jT9lS2H+2LcwoPZmd9mpsGxg42vz1+Kq50nqEeUj6bC5f71wqm8xnoek/nWwuXQk08cOdCrVNpzTd9bvAon8knqle7eXnRuGM2yFqHaiMBJbp8VB2q9delMaYuQTBwJUM3wZls8Z7x16ex7V5PQkjV+If83K+52TeW95ibw/6W5Cd9n3fom4yYEPOoCwa6W38PdeefyuQWe07eGR7+WdLKhvRX0ZtKNPK1s8BeN2Xnu2OMzZsPSvZp0QtTVhTNyM7eEjaBqxcUxMHC3sII9Eku73rtyPs7d66moWJzvfQfGJg37LQsWPR3k4cVhUjJJLpfIRDmlyc8fvZFDpizbIQm3HyzH5TKptKqx6JOzB/5DmPThwI/4ZMG8ZQ7mfCY1ZCCTtt3nkIliqAaOdvFwt7D8OuMGtU1CXw/SFJ1saoiKvoK+RadvCQqb7+5JJfXj64ybLuYWcDvU9kQBhlSKW+AeQTY1W2a7eKDrXCgphGMnU0jsy0z7MOUSPJi0V367tgrebLo1H+lwVq+cO472PBEZA9n555gF++6kZzdQzkcNBIFQcbsXr/5uwyPfrn94/4ZHDm7aBu/9wpmjEAiaXAXJYRFAVJSMjo6WCDra3CwssYuMJH/KzoSZ6JT3wPt9mX7d09LG0oSN9BW+ATj2o2sXQc6Onu7z9wqO5t2FK0PROAy1v7VouT/f7k8nD6H9RE2jAoeASHfra0FI0AZm6Mfs243tbSH2TtgLdQoFC3uBRqIlEC+wFxWiFjh/eEisdMq78wX16jF2MhTHpStsakQhEpk0t7G+rk1CjG2o6tIEmRn/iKLEzXCwBYKG4ikdmh4K/rwTO57dM9s/UE1UgE435djEBK87lOhMpdBoWnEzHVfCyzXi06feyU6M6s83AOfIxyu3bdw2zUZNVKD/kF3JCd5U0hRhEFfhVKGF4E9qWyVUEqBUhNk7vzZ/Ce4flTICcAN6FL24Z9T2qMA9Q8T7cMgMbytrPY15S7jHx/LvohlTMsh0KCcTsR9CUKwjsoLeg2wjRSCZAZD19iaVFEKCbouYBQf74pyF/nx7YjRbBXQpGP4HgsL3Jm5BBz2YnRFoa78hMGx9QCj+LvT0gSNFNhApX9CQWVuNBQx86dyxjQf2QjeShagBpmFvkJ3DUzNjUBHID4dJNgY1SqRdeYIBQyDq6qQbGsKoYT3SyQ12Rz18ANq8e+X8vjtpMDqwPv9csZ5FN3725CE1fxDWqhu5YJo3GXBqAkSCSepWEC9aAPDVYCbpA2Hj4EKht/+2cDmiACh8nMgwT9enCEPs5hTDNDbpkWXxnAEuyeRyYiE35JUHL2ibNlUGdR4CTC//dcmPxA6ia+TT6Yun89UFDz2EO2PmQ0mRI84FnAAG3cIgO0d02eMF2dQ2AEYxmDvmxEPMUCnDAZHh2eL8F04fXvXtF99k3BjjtSeCNC5vvX8Ig2akMsEUThbk2nJ5CGOo7Ukgo7aqRiJe4ROIdTAENDuSl0XuUgNG4aW4Rf9ZuxlRojmTBXqgYZr953pFWZW4JdTe6VRhLkLfUHtnmBLEohDYiPeMVbMgIKq/up360fVLWPbevgGxOuwEL7isj5YlfrB0bYSjK5fBAM9RF7VPTw9aF9EdtaEBkBksQphHbasAmpGTKyBTe3oVoDTpskiEOjhtDolAI/EXShtWmNrRD+QdouRxOHnWcPg7Th/efTXJwoT93Oz50AhvL1oBca7KNSlMfhR6nPDYs2VpDDVCJ2+sSN32+bOmb+4gltd2bblZml5041UNr0RBmKXOE3/mVnb/Vee7LtoTSa3r6cUmxXlQwzZSwcETuxkDh+RWUd6KGbPgwTdHG9sZHwZxdel0f7iFQU61ry/B2w/p1KYW0FHOFeev+37P2v1f4u6eKcyuFg3zTHwk24meOtPRJdLJRZOrcK0InGDRqe1JAN3uUO6dJdP9rFkchJoIxhBAUvv6gRhvXWDojtNHNv3w1Qtnj75x8XR2Q63arwIrfQNBIfjeZ2bFgWzfZN5cte/fid99uWb/F8+f+hlVUPnGgJW+QcF2jg8f/PaRg9++dO44fGO1RKTp5IcFrlKbTGo5mC0wMXQD4lD4Q4TQuMKIYNWj1l/dvrF63xdoJP6+eObouBoJwND8kJ3x5NEDa7/74pXzJ+Z7TH80PIraN05onpuhvgFMIbXxKyB6aaIV5fgkFadivz60fyCGFB06+2nsoVvU1vAQpaQdmLHnaApldZkxMx+MUa05L4voNwGiE4feeTBD3alwyF6vC6UUheguy+OmzLUOcBUxT4i9IwIhaptAH9uY+VBo5EhhKoTTP1KvbPnxm6Si/K6ebmJE18CQHNQdgoa2Vlhx7R0gKApfOG06k3gCNEBXNAOxk+awxIRxEdGpnv7jkbPnunsfzM4c4kwADwurpo52yDxylAtS39uKCFZJQEw+FDbz7ykX4Wrg7f8vei7OAoWQy3hf60MYjFgOapk8VQsWy9HUTMNMjYiM2mqIeXUYAo5Crq/1D1Eq+9AetB/NM2WavBm/nGNMPEvDuUy4kbAmuOlwxWgXVPflsuJLpUXTLK2p3WMG7DgElzV74BG3HZfnaGquKSUATTkwtdjt70Jdr/bCHV8n3z+OHxaS5G15/VQ0s99C+EnzV1zsyQRZzZ11GoOwFNIOHGqgVr34sdTapDHAVV8bWwN9A/WoPQFlX4ij0yzn4d+VU/QpP71x9dVzx5s729TPXbSBXnWrtvqli6eOqWY7UKkaUPYp/W1svYiodWAverOhgQEZZ04Amm5c0NEO5v8lNr5T3n21/B6VqoGSliY+hzfHzZNJo5szTaBv1fXCG780NwHxM2JFyI03LpyGc4ZvJPeqgeqGP3kNkFkKmhogxSGnGTSaLYe7LSLalsMzNKCOHlKKZqkITEBFWArYL8T5q3yDEgNC0SRcMmTDRcZpPn/qMEKY1+cvHeX5qlovaLdYXR3KRyyNwAEruCZo7Qwn19RKajJmj6IXJgOsU+tqHKguTNYrR3xracLCXtiLG1VlawNCAvj2OF8nU7OtEdE4Vp0d0p1DFGU6JWMTWogN7NefVbWX9lOrE0HVybpiatXck3j8H+XZX3Jx7SlqbRBEf28WUaum9k9Ta5PFAFcjHF0qRM3qZwAE9PUWTvMxZQ59Ik/iXHHBO1fOdsl79PQHCWlNoA+l11R9fONKRXPzgdw7t+uqCdE2GOhtcAXhxAjkQDloRnmLEN2a2h4PehVKnEhnz8B0K5CtsKnhh7u31WcHq4E4tr27G+vohV9n3Hh5XsLhBx/fm7gFzvO7rHTivFTqFxp1X2aa6iC9K2XF/0pLWR8YymdzyRQS6KAVohZ4MGp7MOA3GtrbxKoHnsfzs69VlH6yYv2hzY99unIDajlTlEfaqF6lokosIr+qQQLriJPlqjkb5aJmeE641p82bf15y2PPxy74d1rK9cpSiHMij6rqmlbxn08dhglYPdzkSpRTKWpRTwZsbG9r6Rr0pKS+TSLuIhqZVl0OKwy7gIpQ3bsJq84W50GSkNkKBA1o51eJD/5j+TpIbpx7pXjg3JPLS8BGXMkdsfGQ6D/ezciur/1yzSac78fL1pW1CM8W58M6k5mLhI3lLc171m7+YeMfyJQphb0N1XOlVf0P7SaKOgElg+mmRCDCNaWUtXSkEbcqSRs1zkSjTdDhaGFg7v63r78J7/HZzWRyE10MNu/YQ0/O1Zr6A4ikXeu/+/LivULCow5BX9+28KjNQWFYTaup/Dg1uaFdQvBZqQxzdP7r3AS2kdEQ92qor59ZX/vyhVNdPXJ1fPPUzBgPC+vnTv1MbQ/GKHP3UZq5CatNJlMPcsJAQOF3dHerx6hRCVLAZzIFh7iYWcApgcwlzU3k9Nr2bhnyyHp7OyDv+wF3gUQQD+lUkmoyE5weEkd6kwbOsLtXTgaNKIF8z6GuVVIlEaFng5Od8h60AdkgGtWSlYZiVY8i1Y+gkcHT0trIkAYLAmbC4pBVi7o61XlQoDGN1tzZoX2RcVkk0i6yfNBMoezTPDUU3qNqCdZxxeDwVS9L6aEuNFVdPmDFYnta2kjlPbmNdUjFgeoG4MJC1eNiQpYXCwVIgkfF+ZozWWgwzApa29V/2QF4YE+VirlRVU6mTB02Zu+KUPVdacqZnfGUvR0Zq3bKglW0Et5ifHJAlaRGbNLOVWSAWpz1bODRMZQc+XTjYnLwSbD/tXe2qdImiQGmuZpbwuxRG0Bfnx3P1GOEKOVKafF1iKJ+8aYN3GwQ9aPUqw3EFEJVLRDYgsYcQb22a0XfsefyiJFGjYc3ZS3NcHHoi9T2mIFOI+zsUBMVQJ9GiubDJPQh8mkquYlDykTNKRWl0N5wEW3dMixkHs3eDGAvnKQmUQH0fpQ/yitv4Jt6dAcloBbUhRpxCKweSQ+0AdVpxpbYixRNkqCc9JrKa5WlIDkZUJBVa+ZBy5EysN0P8rKoy0cgOuTUUDjZEgCF17VJcIuxVEvEmuUDKCe1quxOfQ1KQyM1G4D/kB9nV6QiKoBrhRA9uaIE0gDZYA01bwROECz9BYg6tTDn9Q8mS8Y4a8OWQ8lkabvGY5VJYYAJbGNj2EJqg0CfA9d0pBdfEPjJCAE5PFcRkKQR0je5sa11wPHq68nkPXfra8lOpgmoRHgD8qG/GsKOdgRLbN3Ebh0mCGn/006mjS21NkH4WffrWGkrMWjUJqGszYglJ7L7I8de+VTN8xjgKrQZBBi1oYIVm2tMHybo7+zpLhQ0jkRUMDWrvvaj1MsNrZKhCrmvr1IsHuKUSKB29fMGEvAPDDqdZTQ1M6V0+P0ht6o/mPTiq2cnTQRbgu2pBwNyUTbxDnKRoN+7OlsupdYGwSPRkhrRkEnqDpFrk8YAl2gGhmCRkYGhlQnLmsVmGjHgabX1KiCVy5u7OkxZJtYmLCsT9qCFxUawlNdU36NQWrE5g/eyTE1Y7T1EGKldKFwxvKiJMQNVIyedaIyceBxn8Cs+jtPhfwqln9b2D8bahuwZZgqR+dawYWYODoGz3x9emdZPvMbcV4n/Sw81U+8AMhxD9mk9J3FOWBVPva0szy4cdqB4Ihjk9xRKpZOp2QMBoZsDw2Y5uaqi0eGdJwi5zMtvU1D4psBQ9bI5KCzK0YVmoB/Et98SHLYpEIvm3vBlXr7kjLlhAbrOcnRF1RsCQhy4PDSG2qGDDhNCyoXc7H6xGrN4R3ZiVAC5BfCj9jz57KfLF30y9AGcJuy3LHs6eZV/P59FJ65cItcOXStSP8VZl/jsbj+1IbDfmrgzfWb/OwDioreuk2tTgAGu9ioVYCCCSdAJyhNOtaO7e9jn1JCm5kwTpV4f28gIOckF+evaJJWt4nBHVxO6EYturN5FLuTwrwmdbmRI0y4UFcGrsxnEUTgczTCm0RV9SvKJhQ46TASSozvyBOqo1ct/3a1duyWvYvlY9tS6Lbbwltz4uD8soDL0wypYlWe3ZNeOPeEe/TN+5cVZBx9UP/qpPPB8Vn/JTJft616TqQ6R7drxqb8NNaokF+w/ufcCuT4VGOBqd28vj8HskkO9ElQCY8XEk4mBITs12EbGHpbWzRrvMcEl3mtuyhcKdsUvX+jpM2TYUI2mznYbNpdBGyYG7lEoUDWYjHVYDWmvnGvMkCsU6ueBOugwAaQcfSfxdp3GpFk6PA1jQNvJG5tLtebHkHnoA8MnclHKzb2BRwe9LH3h6BevlPQ/RAVUh1DrgFRw8OwX2yb5WHcwBrja2dNjw+F09HTLentANY6RsairU6L1yjKJOHfPhvZ28sG9mqhvLly+3GdAZQwBMte2tQbZ2htqxcAoAfWiAeAnqoaD7erpsWZzYCng26lMOugwIVw4uZv/+cH9FYJG6YDdl8mlVTW5u4987LJ/5LmHcrlEXJeSdTT+k13xZ7W/aiD6dP9rMUdSk4TqYWFALmkXEIf8650HM/qj5SnCwFyI79/427XK0j3p1xFbOvLMQK3zpUWfr94U7eJOZtAEaLzhwF4One5nzS+iPOqyVX7BYOG7V8+fL8qLdnbT1M8G+vr5TY117a0vx8ZzjY2HuF3szWms//et1ATP6caGtJpWyXd3M7bNiJ5uzX/25PCjaGP57n6Yg9MKn0Cog723U1tlMrTN1dwSvrqmVexiZoHNSnHL8AJACxYmrEVevrBcSfcKNB+BqoFTgP3ic3hni/K0v8nw3wOagcFcd69ioaBKMqmeNM3Cypdvd644f9hRfR1+CQz41eyGOl8bOwSKAtVTVsSuLLrRjRE+yWluwnoyMqZQ2JRWW1UgbHpr4YrVKqIOC/Tj5q7OvKaGFd7+PAbhObVR0NQIp8pQzQtFA/r0+nxtbO81T/zRlDWL88HSteBzq0xKToJFM95YsPS5mHlY3xm38LX5S5Ciynt/OJuaf7B0zT+Wr/PjU5O2h8DVzOLvS9bsXrza0XSs3ytE7WOtfuoAU/jnmPlhDpN5hEEA1+Gh0EjmFH17QIexYICrt2oq0bO5DEa1RKJU9qEnoYNeKy8dMrtFjWU+/ptDZlS3tUL6rvQlXhAdFiRRr1aUznZ2n+HorD0RAv21o6cnq6HOiWeG3ouqq1vFHGOGu4XV3fpaKtP4YctFYEx/+fyJvbdvkK+SourDeVlni/KxfqIg52j+3TE6VcDAQB/xeUlz00jfMV3hG1jXJlF9BWLgko4COPZno+eqvwb4a2KMLRwd0BdPHvlhyAN5HX5RDNw28g0bf749qCKWSaFgHXi8KnFLWtXQjxuQoBkYPhMdd2TL49oxKuhnoEe8/NGrVBYKBZfK7kU5ua7zD9KOVAF0nYKmBihVex4PlUq6pbWtEj++HQ6/N4lPexjqGxAfqeifNAeAmcfys5NKCrF+uigPdNU2HGihkaHhsO4O4vlwblaUs5uTlueED49z9zqWl03OodcEikKB2ifuZWUDeqvfsFEDZz1SAwCUM8qkS+washeKd9hrPgRkI1E1tT0YKET7sxKd8p7GjrYhFxDZJjAnVIcxYuA7hl2mHMSH0yytz98rMDcxsePy6Ia09m5Zmag5wdsXzCSzacLIkGbFYg+Rctcry3Lqa41otHstwsz6GvjMRP/gJV4+dAPifUhtgFHfZ2eaMZlw48iQ39QAPbw1Iho+6mRhLpVJC6N8x9CETn8wNHLp9ADk4Rgbu5pbFDcJWEZG6wPD6lrF6nm5INhKvyAYo25FL6KvBdOmW7E4EMZz3DzTqiuGDIDjaqzyC/r8ZgrKRLce8k2j1f7BkCQ/Zmes9A2CCWhspx6Uh9g5Pjd7/qPhUWgMWlva0tSjUEDqPxI+M8HLL9DWAfLBydS8SNgIowZ1CquH/BuDwud6eEnl8mqJSH3FzJkmD4VFbp8VlxgQEmrv3NzZrp4QOs/Dy8PCaqaz28vzEqzZXOgjJHpb2SAzYn5YBAeeGSJz8sUjNH5DUDj509XYBJNj3Tz/NHseBG28pw+USHkLMUuZKFcVpW+LiH4meu4q3yAHninOa4VPQHNnJ3qFp6U14t6SZgFJV0sT1qPhs7ZHzVnjHxJs51jfJoGYIgvRYaowyArC24Q7OPPZ3PymRmKCdV/fdCubzNqqpHuELxojQNyaNklxSxOTTl/rG/RqXHysizts9rBERV+5VVddJRahIlTXJe/Ja2pEh4t0cj01MlFHB6JTGBG6ylFgBQsS0e3+ODPWhjPwLhtE8hORs8k3/lzNLXfFL9s+aw46OpynpjfWBPooPDOIpzkdElE9ujLMSptMpmm2Zrt4fLbqAQTe+++kXy4t3hgcjipASGQhmgdVTbTTkPgdeD3isD9GxT4fO/9ufc03GTehLN5fvDoxIJQsCjz/cFniGr+QS6VFB+7eht35z9ot0S7UfBlw5sOlifh7JDcrpbwE1xk2Ym/iFjuu6cHszNOFuTBDn618wEbjnW81wNuPlyeKujr3Zabfqat+bva8F+IWkr6RbWS8e8nqdQGh54sLDuZkwoh/uGzti3GL+Kpr6Gtj93DYTPIjD6YMJpq30NPnTHH+D3dv8xjMf6/e5M+3IyrQYeowiKvEh3k72mHd69ta7zU34a6zjY1hoT++dgk2nsp0P8DOznf3fD1u0TMzY+a6TeMZM7WlJglwqaGj/XB+to81H5EbMhUJmxD1oQHCzg50HSrfOAF59q+0lH/dTEab37t6/rObyUghWTRkaod6S64kXnr+6vYNHJhcUTLS2CYafLGkEJ1YzRMgysUNXEL8pqkhQeA/x8yHuXnx7DHQ+JvMm9uP/zTL2T3O3bNVJvtn6pV9d9KrJC1/u3x2z61UmEX42I1BETvPHkNr0eOR/smNK2Av+aIsPC3uwuNHvv82Mw1++7lTP18oKXwhLh4twV60FlXvunj6h+yMuw21DBrtxbiFuQ3124//iJgciY8d/g4tBLVUTRsAGTP/8/qVNy6ePlWUC9Xw/OnDq/2CopyJkX/49ghHl6eP/YjGw0JhFyJ2azYHOgh7Vd8opC7fWv8Qe64pavk+69bxgpw/nTyU01D7x5lzxiK/dRg7BnEVavC7rFsQe7glt2qrWlVRq6eFVXdvz5uXzow0yKQNSCkT1Qihok850uewQB540X1Zt40MDL0srVERQtaM+moIUUhK3PUpeRhAjgDfF+jrUIlQhtT2CEA2QUf71fJ7DwSFwyUiBRHahsDw1KoypGs6VYSjTmbmJwqykYFJo2OpEDWDSOqXgcms6ubN8/CuaRVl1deAacgM93ulrBhRg7+tHUpADEJ+E5zMDI0K0oIeiOqxiVal11SojSkc4HRr268ybqgvYEN7G9xd/DQfRASat2O2qwdugebH4m5WlWfWVqM6rMe6TUuvrszp/04ISvvhbob2YBKcMPLDdoDJ5JkiEQYFLcetJPPoMCUYOhJwteweBBhCrKbOTtAVZIN1jHRwuV1d8UHKRXLyw32B7jASRUmgW8M8H8i+A4ZEObmgCoVSmV5bJezsRNUNba3oqVTWXwuwRGM8O0hNbyu+nw3BE/wNsnM4lk98M17TKjiYmqm+vr364KZtP27aSiwbt8KvWiK8p7IMAoLqYDun/esf+UmV/6dNWz9f9QBErIUJG/GtLYeXL9D4DQTiqw6t7d3djv2/ZwX5rb7cCIAhExCHU9sqICSG2oc61RQWiHKrxaI2jc+aK/r6kBMRAYwFakeAramJalvFUMua5g872cYMxMOIog9ups700ObH4NhNGSYjfVFEh4lhKFfhWj9JvQIzP8PR5U59bYGgEfcKAZIdh3uqIKd58Fc/Jgb4AVmv/EB25u266jmuHqT6zRcKshvqILoQXKEBU+JURwcRJeoPyOAxemAAtClsaiCDSfTRkuG+jYiyGtvbPr+R/NG1S+Ty8fXLTxw58N7VJCqHFm7XVn547aI68+6rFx44sBcBKi4XCIO/VD4V0FoyndrU2Eu+8zAkPzaRV4N3BJBT80ASNAPik6vI26sg4gIqVQVICTL4HwKUA7X/YcrAmUKQP3zw2xrJL/VJ4d8nhnIVgOz58W7GzrhFFiz21crSSrG4uLmpobPjzYXL4SuoTBMFOg068Wdp127VVs91nYY4Ch2jQiy6Wl6C6nbGLTyUcwdakco9dSDHNo01fvvQ3ITFpE3kUb5cqTyUewdqNsbVI97T53BuVo/Wo5pqibhXqSgTCRH9QjOTi4mRkYUJazBfKJS1NEPrQnOqM2fWVbuYW4AbEpkUnT5Y9UV8NeA82cbGUCXUtgaQiKKghKltFRAPw86KpZ2a3CwSCuDP0SRqWyVoiSkoQgHOCDYo3MGF/CoiiSA7RysWW1MxobT2blldm0Qql1+rLFU3HqfvaWUzurbSYbwYhqvAd1npuOWvz1+qUPYdL8opbBa+vWjlokl8sBc9BEJXrlAkV5S9nXwR0V28u5e5CUHU2jbJ+dIi2PJd8csgv9UfIptaIJpCPDyrf74kNN5K30DNjjguXK8oRR/9aFliR3f35eHkerGwsUosejQsChWRKT7W/L8uWGrOpIiB8zXUNzDsfxoJ/wnlucjLh9wEVvkFPTYjmvBvSiU09nKfgEBbasqUCZ3+5MwYMKpA0P9lSw2UtQgReD8RGaMerJ5mYbUxOOJkQU6XXK4pH66rfrLowZBI9SAQTI+vjR35m84nC3Odzcwfi5iN6mBh/fnEwK82/dA8OFU0z7PfOiDkJn+KWvtpsw6TwTC/EwfgBtypq1nuGwALLezo+MeKdWP/svZ1jd+Jg8TCbQbQS7Ia6vZl3bpWWeZtZR2m+ugmiFopEZ8tKejs6Xlt/hI7Lm/n2WPDfq5eG6M8XyWBGC9B9QNq5JAYHAWa8Wz0XARXLmYWm4Ij4MYRv4EGImmXm7klaAyXPpL2RttW+AYiA/nYUNorN2WaPBQa+emNq2quwlFDGJPPV+F7qySix2fMnu3qYcXixLpNey5mwc2qsr23U0kPz6DTt4TMsCF+GZFVLREhFIT4RBdHS9DCDYFh6wJCP0i5SD7ILW0WIv3xyNlwa77Wts9Ez3W3sHr53HGYOeyd4+bJoNHP9X/YGVYADnOtfwhuGazhbJdpO+bEFzU1ojScHXTs+qCwzNrqwqZGRLyC9rbts+Lgdfkc7mrCOsz+OoMY9cW9w65WmXTbjOgEb9/FXn4JXn7wnAhiTxbkwtR6W/ND7J1wQXCm5SJhgK09clqzOd5WNk9HzfGwtFL9OBX1nFmHKcHwXAU65T2pFWWw/O8vWYX7RKWOAWCjuKsjgG8PeuBml7Y0X6koPZiXdb2yHOyKcnK155nCjKPL5jY1JJUVyxXK1xcs8ba2ef70EagpqpT74b5c7e7thYcpFgpIbgCFgobylmZ0MpDhZlX53ts3yF89Qg+WyeWQfKUtwpHe5kNpyIBIVT3+BN2BCPN0US45xwCQKxUoP6+xnvz2FzQCHJcFiwVPBSkLqwGiSvsPF3V11rSKsQs261ZNJdqQVVeNxkyzsFa9b9j5z9TLEJNka1DytYoSMMTHxhbqF+Hxu1fOg5CqnXrirq6Cpob6tlZyE2jp6rxcWkw3NAzgO0A7HM27+9nN5FbVGBIcY12rJLexrlX10zilzU1p1RUgqh/fDqf2+c2UI3lZ5EXAPUJF5+8V4kSKmgTfZqbh+iz3CUQGGCyc9T1hU7moGaYBN/paRalEKoXvteeaofD3ky/ca24imqLD1GHgPRu96YO/RaG6YdBdM109DPX0cf8USiX5s4UDKkoLBvp6cMit0i5nU/P2HhkkIm4k15jhxDNz4PGI6a/EuAXRU9Nqq3IaG+AoQFSETH85c3TY6GskjOU9Gx0mg1B7p8SAEHhjYf+Lyk/NjIG7Xr3vizFqHx2mFiNzlTDBYCX+9s108Vjs7Xs8Pyejugx85HN5XlZW1LxzrQgGohcLIjHEOWwjYxDVmEZDCkiKnLDHhUJBRl01lOdMZ7cX5ywERf92+SycBnX82KDj6i8NDwur7x94tErcciTvbptMGunstsIn8P3kpO+zRv8NGB1+KYzC1QFApz0QFI4I6lJp0b7MdGFnuy2H62PFd7ewMGeyENNS+bQAcqoYSihesbSrTNSc39Qo6GizZnO3RkTP9/A+cPfWd3dukaJxXNBx9VcAgs/1gWFeVjaQ000d7Ydzs5LL740UJujwS2NMXCWBaGT7rDjES4h/judnN3a0MWl0ey7PgcuzYXN5DAY2yVm4yKzs05Orfou1rVsm6OiobRXXtrVik5gx7xu42j+4WiL6NPUq+eH2CUDH1V8NdEQ++gaImRGaUkk6/P/AOLgKGBvSYtw8toRE2nJ46TUV54sLchpriVGKvj74XuITNaCr6o0c3FpZL/Hrsd0KBe4wlLAf326Rl2+kk6ugvW3/nfTk8pJujU/jjxc6rurwe8P4uEoCjA22d1w63T/YzlFfX7+sRVggaChtaRK0t7fKpOTbZCAtj8G04XDcLax8rG3xFzmz6qpPFeZm1ddMfloSuOpuYfmXMzqu6vB7wUS4SgJK18KEeCAR4eQSwLd3NrNgGxsbEe9VE+Grok/Z3dvbJe+pbZXcra+5VVOZ11jfPNzvrEwMW8NnuZpbvHz+BLWtgw7/65g4V3XQQYdfEyMO4eqggw7/VdBxVQcdfhvQcVUHHX4b0HFVBx1+C9DT+3+576z3Zx6sWQAAAABJRU5ErkJggg==)"
      ],
      "metadata": {
        "id": "pYwYN8Jse1CS"
      }
    },
    {
      "cell_type": "markdown",
      "source": [
        "* [Web del proyecto](https://code.mpimet.mpg.de/projects/cdo/wiki/Cdo#Documentation)\n",
        "* [Guía de usuario](https://code.mpimet.mpg.de/projects/cdo/embedded/cdo.pdf)\n",
        "\n",
        "Organización de los operadores por tipo de acción:\n",
        ">* Información\n",
        "* Operaciones con ficheros\n",
        "* Selección\n",
        "* Comparación\n",
        "* Modificación\n",
        "* Aritmética\n",
        "* Estadística\n",
        "* Correlación\n",
        "* Regresión\n",
        "* Componentes principales\n",
        "* Interpolación\n",
        "* Transformación\n",
        "* Entradas y salidas\n",
        "* Miscelánea\n",
        "\n",
        "\n",
        "\n",
        "\n",
        "\n"
      ],
      "metadata": {
        "id": "wmlD1n_FeNo7"
      }
    },
    {
      "cell_type": "markdown",
      "source": [
        "## Instalación de Climate Data Operators\n"
      ],
      "metadata": {
        "id": "f889dBnOwDaO"
      }
    },
    {
      "cell_type": "markdown",
      "source": [
        "###A partir de condacolab"
      ],
      "metadata": {
        "id": "-mhogDk6Fa_h"
      }
    },
    {
      "cell_type": "code",
      "source": [
        "# Instala conda en Colab\n",
        "# Puede ser necesario ejecutar esta celda dos\n",
        "# veces para completar el reinicio del entorno\n",
        "# ---------------------------------------------\n",
        "!pip install -q condacolab\n",
        "import condacolab\n",
        "condacolab.install()"
      ],
      "metadata": {
        "id": "6V8IA5e5FjHa"
      },
      "execution_count": null,
      "outputs": []
    },
    {
      "cell_type": "code",
      "source": [
        "# Instala CDO\n",
        "# -------------\n",
        "condacolab.check()\n",
        "!mamba install -q cdo"
      ],
      "metadata": {
        "id": "1XhEOfoIFyW2"
      },
      "execution_count": null,
      "outputs": []
    },
    {
      "cell_type": "markdown",
      "source": [
        "### A partir de conda"
      ],
      "metadata": {
        "id": "MuyW4_7hEksJ"
      }
    },
    {
      "cell_type": "code",
      "source": [
        "## Consultamos la versión de Python\n",
        "## ---------------------------------\n",
        "#!python --version"
      ],
      "metadata": {
        "id": "899iiP0zAMVO"
      },
      "execution_count": null,
      "outputs": []
    },
    {
      "cell_type": "code",
      "source": [
        "# ifile = 'Miniconda3-latest-Linux-x86_64.sh'\n",
        "# !wget https://repo.anaconda.com/miniconda/{ifile}\n",
        "# ! chmod +x {ifile}\n",
        "# ! bash ./{ifile} -b -f -p /usr/local/\n",
        "# !conda install --channel defaults conda python=3.10 --yes\n",
        "# !conda update --channel defaults --all --yes\n",
        "# !conda config --add channels conda-forge\n",
        "## Especificar la versión de Python del entorno\n",
        "## ---------------------------------------------\n",
        "# os.environ['PATH'] += \":/usr/local/lib/python3.10/site-packages\"\n",
        "# !conda install cdo -y"
      ],
      "metadata": {
        "id": "hOTkn32cA3wA"
      },
      "execution_count": null,
      "outputs": []
    },
    {
      "cell_type": "markdown",
      "source": [
        "##Descarga de datos"
      ],
      "metadata": {
        "id": "2mjvewp4Kfb4"
      }
    },
    {
      "cell_type": "code",
      "source": [
        "ifile = 'era5_t2m_w10_2020_europa_025.rar'\n",
        "!wget -q --no-check-certificate https://owncloud.aemet.es/index.php/s/7tJ8c3UpRK9sqVE/download -O {ifile} && unrar -o+ e {ifile} && rm -f {ifile}\n",
        "!mv era5_t2m_w10_2020_europa_025.nc era5_2000.nc\n",
        "\n",
        "ifile = 'era5_t2m_1987_2020_europa_025_lsm.rar'\n",
        "!wget -q --no-check-certificate https://owncloud.aemet.es/index.php/s/leirUBqlMnLxIAL/download -O {ifile} && unrar -o+ e {ifile} && rm -f {ifile}\n",
        "!mv era5_t2m_1987_2020_europa_025_lsm.nc mascara_tierra_mar.nc"
      ],
      "metadata": {
        "id": "34CvCAUOKjXO"
      },
      "execution_count": null,
      "outputs": []
    },
    {
      "cell_type": "markdown",
      "source": [
        "## Operadores de [información](https://code.mpimet.mpg.de/projects/cdo/embedded/index.html#x1-560002.1)"
      ],
      "metadata": {
        "id": "A_znmINboBxO"
      }
    },
    {
      "cell_type": "code",
      "source": [
        "# Información y estadística básica\n",
        "# ---------------------------------\n",
        "!cdo info era5_2000.nc | head -n 10"
      ],
      "metadata": {
        "id": "Q7Gd884gLJnt"
      },
      "execution_count": null,
      "outputs": []
    },
    {
      "cell_type": "code",
      "source": [
        "# Información reducida\n",
        "# ---------------------------------\n",
        "!cdo sinfo era5_2000.nc | head -n 20"
      ],
      "metadata": {
        "id": "zM08cMWMmgmq"
      },
      "execution_count": null,
      "outputs": []
    },
    {
      "cell_type": "code",
      "source": [
        "# Número de parámetros\n",
        "# ---------------------------------\n",
        "!cdo npar era5_2000.nc"
      ],
      "metadata": {
        "id": "G92Jv8P8mu5i"
      },
      "execution_count": null,
      "outputs": []
    },
    {
      "cell_type": "code",
      "source": [
        "# Número de niveles\n",
        "# ---------------------------------\n",
        "!cdo nlevel era5_2000.nc"
      ],
      "metadata": {
        "id": "gQMILQ-snl4i"
      },
      "execution_count": null,
      "outputs": []
    },
    {
      "cell_type": "code",
      "source": [
        "# Número de fechas\n",
        "# ---------------------------------\n",
        "!cdo ndate era5_2000.nc"
      ],
      "metadata": {
        "id": "cEDnePN6nqxS"
      },
      "execution_count": null,
      "outputs": []
    },
    {
      "cell_type": "code",
      "source": [
        "# Número de puntos de rejilla de cada variable\n",
        "# --------------------------------------------\n",
        "!cdo ngridpoints era5_2000.nc"
      ],
      "metadata": {
        "id": "0TKQ4fuCnsk6"
      },
      "execution_count": null,
      "outputs": []
    },
    {
      "cell_type": "code",
      "source": [
        "# Formato del fichero\n",
        "# --------------------\n",
        "!cdo showformat era5_2000.nc"
      ],
      "metadata": {
        "id": "65-uwN6znnHO"
      },
      "execution_count": null,
      "outputs": []
    },
    {
      "cell_type": "code",
      "source": [
        "# Nombre de las variables\n",
        "# -----------------------\n",
        "!cdo showname era5_2000.nc"
      ],
      "metadata": {
        "id": "KZrwIWx_jYlF"
      },
      "execution_count": null,
      "outputs": []
    },
    {
      "cell_type": "code",
      "source": [
        "# Atributos NetCDF de las variables\n",
        "# ----------------.........----------\n",
        "!cdo showatts era5_2000.nc"
      ],
      "metadata": {
        "id": "-6OR9BayjZTq"
      },
      "execution_count": null,
      "outputs": []
    },
    {
      "cell_type": "markdown",
      "source": [
        "## [Operadores de ficheros](https://code.mpimet.mpg.de/projects/cdo/embedded/index.html#x1-920002.2)"
      ],
      "metadata": {
        "id": "kXX846uKp3G-"
      }
    },
    {
      "cell_type": "markdown",
      "source": [
        "Entre los más utilizados se encuentran los operadores de separación. Estos permiten distribuir la información contenida en un fichero entre varios en base a un criterio."
      ],
      "metadata": {
        "id": "jcAk_O57qHlm"
      }
    },
    {
      "cell_type": "code",
      "source": [
        "# Separa un fichero de datos anuales en 12 ficheros\n",
        "# con datos mensuales\n",
        "# ---------------------------------------------------\n",
        "!cdo splitmon era5_2000.nc mes_"
      ],
      "metadata": {
        "id": "rxLCRA72qltW"
      },
      "execution_count": null,
      "outputs": []
    },
    {
      "cell_type": "code",
      "source": [
        "# Muestra las fechas contenidas en el fichero correspondiente\n",
        "# al mes de febrero\n",
        "# ------------------------------------------------------------\n",
        "!cdo showdate mes_02.nc"
      ],
      "metadata": {
        "id": "0nBqCW1qsn7H"
      },
      "execution_count": null,
      "outputs": []
    },
    {
      "cell_type": "code",
      "source": [
        "# Separa el fichero de datos de febrero en uno por cada variable\n",
        "# ---------------------------------------------------------------\n",
        "!cdo splitvar mes_02.nc febrero_"
      ],
      "metadata": {
        "id": "zryM_VG_tVGn"
      },
      "execution_count": null,
      "outputs": []
    },
    {
      "cell_type": "markdown",
      "source": [
        "La operación inversa de aglutinar información de múltiples ficheros en uno se lleva a cabo con los operadores de prefijo *merge*"
      ],
      "metadata": {
        "id": "esHW1aC4uPtX"
      }
    },
    {
      "cell_type": "code",
      "source": [
        "# Separa el fichero de datos de febrero en uno por cada variable\n",
        "# ---------------------------------------------------------------\n",
        "!cdo mergetime mes_12.nc mes_01.nc mes_02.nc DJF.nc"
      ],
      "metadata": {
        "id": "PufqlU7BuwrM"
      },
      "execution_count": null,
      "outputs": []
    },
    {
      "cell_type": "code",
      "source": [
        "# Muestra las fechas contenidas en el fichero correspondiente\n",
        "# al mes de febrero\n",
        "# ------------------------------------------------------------\n",
        "!cdo showdate DJF.nc"
      ],
      "metadata": {
        "id": "GcopyPw3jYVl"
      },
      "execution_count": null,
      "outputs": []
    },
    {
      "cell_type": "markdown",
      "source": [
        "En muchos casos los operadores pueden encadenarse anteponiendo un guión a su nombre. Esto optimiza los procesos porque evitan la creación de ficheros intermedios y la escritura a disco es a menudo un cuello de botella en el cálculo intensivo."
      ],
      "metadata": {
        "id": "eqgYHMI51r4B"
      }
    },
    {
      "cell_type": "code",
      "source": [
        "# Encadenado de operadores\n",
        "# 1) se fusionan los datos correspondientes a los meses de verano\n",
        "# 2) la fusión resultante se separa en un fichero por cada variable\n",
        "# ----------------------------------------------------------------------\n",
        "!cdo  -splitvar -mergetime mes_06.nc mes_07.nc mes_08.nc JJA_"
      ],
      "metadata": {
        "id": "9WmPi55Z0lb_"
      },
      "execution_count": null,
      "outputs": []
    },
    {
      "cell_type": "code",
      "source": [
        "# Limpieza\n",
        "# ----------------------------------\n",
        "!rm -f mes_*.nc febrero_*.nc JJA_*.nc"
      ],
      "metadata": {
        "id": "c26qjf6OwrPC"
      },
      "execution_count": null,
      "outputs": []
    },
    {
      "cell_type": "markdown",
      "source": [
        "##Operadores de [selección](https://code.mpimet.mpg.de/projects/cdo/embedded/index.html#x1-1670002.3)"
      ],
      "metadata": {
        "id": "ArmLY9ee3Cu7"
      }
    },
    {
      "cell_type": "code",
      "source": [
        "# Selecciona los datos correspondientes a la temepetatura del invierno climatológico\n",
        "# ----------------------------------------------------------------------------------\n",
        "!cdo select,name=t2m,season=DJF era5_2000.nc DJF_t2m.nc"
      ],
      "metadata": {
        "id": "esV7B6Qx3TVc"
      },
      "execution_count": null,
      "outputs": []
    },
    {
      "cell_type": "code",
      "source": [
        "# Elimina los días 29 de febrero que encuentre en\n",
        "# el fichero de entrada (dom = day of month)\n",
        "# -------------------------------------------------------\n",
        "!cdo delete,dom=29feb DJF_t2m.nc DJF_t2m_sin_29feb.nc"
      ],
      "metadata": {
        "id": "Dre_VW3g4-zW"
      },
      "execution_count": null,
      "outputs": []
    },
    {
      "cell_type": "code",
      "source": [
        "# Comprobación\n",
        "# ------------------------------------------------------------\n",
        "!cdo showdate DJF_t2m.nc\n",
        "!cdo showdate DJF_t2m_sin_29feb.nc"
      ],
      "metadata": {
        "id": "DvahjvBl5164"
      },
      "execution_count": null,
      "outputs": []
    },
    {
      "cell_type": "markdown",
      "source": [
        "Las mismas operaciones pero encadenando los operadores.\n",
        "\n",
        "* Nótese que en general, el orden de encadenamiento puede afectar a la eficiencia.\n",
        "* Cuando existe ambigüedad en el ámbito de actuación de los operadores se usan paréntesis para clarificarla."
      ],
      "metadata": {
        "id": "HaSiI62G3TEb"
      }
    },
    {
      "cell_type": "code",
      "source": [
        "# Selecciona los datos correspondientes al invierno climatológico y eliminamos el 29 de febrero del resultado\n",
        "# -O fuerza la sobreescritura de un fichero preexistente\n",
        "# El resultado de 'select' solo existe en memoria\n",
        "# ---------------------------------------------------------------------------------------------------------\n",
        "!cdo -O  -delete,dom=29feb [ -select,name=t2m,season=DJF   era5_2000.nc ]  DJF_t2m_sin_29feb.nc"
      ],
      "metadata": {
        "id": "3YXyzG166SWF"
      },
      "execution_count": null,
      "outputs": []
    },
    {
      "cell_type": "code",
      "source": [
        "# Selecciona un rango arbitrario de fechas\n",
        "# -------------------------------------------\n",
        "!cdo seldate,'2020-07-24T00:00:00','2020-08-15T23:59:59' era5_2000.nc europa.nc\n",
        "\n",
        "## Se obtiene el mismo resultado usando el operador genérico 'select'\n",
        "## -------------------------------------------------------------------\n",
        "# !cdo -O select,startdate='2020-07-24T00:00:00',enddate='2020-08-15T23:59:59' era5_2000.nc europa.nc"
      ],
      "metadata": {
        "id": "GXOQ0ZgQ_kf1"
      },
      "execution_count": null,
      "outputs": []
    },
    {
      "cell_type": "code",
      "source": [
        "!cdo sinfo europa.nc | head -n 10"
      ],
      "metadata": {
        "id": "guzaASl6BhsA"
      },
      "execution_count": null,
      "outputs": []
    },
    {
      "cell_type": "code",
      "source": [
        "# Selecciona una ventana geográfica en torno a la península ibérica\n",
        "# ------------------------------------------------------------------\n",
        "!cdo sellonlatbox,-12,5,35,45 europa.nc  peninsula.nc"
      ],
      "metadata": {
        "id": "RoK4Nv3wBTGk"
      },
      "execution_count": null,
      "outputs": []
    },
    {
      "cell_type": "code",
      "source": [
        "# Importamos xarray y Matplotlib para inspeccionar gráficamente el contenido de los ficheros\n",
        "# -------------------------------------------------------------------------------------------\n",
        "import xarray as xr\n",
        "import matplotlib.pyplot as plt"
      ],
      "metadata": {
        "id": "QnfAlW2dCXGF"
      },
      "execution_count": null,
      "outputs": []
    },
    {
      "cell_type": "code",
      "source": [
        "# Dibujamos el fichero original y el resultante de la selección de ventana geográfica\n",
        "# ------------------------------------------------------------------------------------\n",
        "fig,(ax1,ax2) = plt.subplots(1,2, figsize=(12,4))\n",
        "t1 = xr.open_dataset('europa.nc').t2m.sel(time='20200731').plot(ax=ax1)\n",
        "t2 = xr.open_dataset('peninsula.nc').t2m.sel(time='20200731').plot(ax=ax2)"
      ],
      "metadata": {
        "id": "MRFn0tjqEJso"
      },
      "execution_count": null,
      "outputs": []
    },
    {
      "cell_type": "code",
      "source": [
        "# Remuestreo (no requiere interpolación)\n",
        "# --------------------------------------------\n",
        "!cdo samplegrid,4 peninsula.nc remuestreo_4.nc"
      ],
      "metadata": {
        "id": "tFXnEdTOSPXZ"
      },
      "execution_count": null,
      "outputs": []
    },
    {
      "cell_type": "code",
      "source": [
        "fig,(ax1,ax2) = plt.subplots(1,2, figsize=(12,4))\n",
        "xr.open_dataset('peninsula.nc').t2m.sel(time='20200731').plot(ax=ax1)\n",
        "xr.open_dataset('remuestreo_4.nc').t2m.sel(time='20200731').plot(ax=ax2)"
      ],
      "metadata": {
        "id": "aOO_Uy28Skeo"
      },
      "execution_count": null,
      "outputs": []
    },
    {
      "cell_type": "code",
      "source": [
        "# Limpieza\n",
        "# ---------\n",
        "!rm -f europa_*.nc peninsula_*.nc"
      ],
      "metadata": {
        "id": "sNKWkpomE329"
      },
      "execution_count": null,
      "outputs": []
    },
    {
      "cell_type": "markdown",
      "source": [
        "##Operadores de [selección condicional](https://code.mpimet.mpg.de/projects/cdo/embedded/index.html#x1-2180002.4)"
      ],
      "metadata": {
        "id": "kyXVeJMYTdet"
      }
    },
    {
      "cell_type": "markdown",
      "source": [
        "Permiten extraer datos de un campo en base a una máscara. Los valores de la máscara pueden ser 0 (falso) o superiores a cero (verdadero)."
      ],
      "metadata": {
        "id": "Eqr8Oklcc_wh"
      }
    },
    {
      "cell_type": "code",
      "source": [
        "# Esta máscara tiene valor 1 en tierra y valor 0 en el mar\n",
        "# --------------------------------------------------------\n",
        "!cdo showatts mascara_tierra_mar.nc"
      ],
      "metadata": {
        "id": "dY2e4aw_bVU1"
      },
      "execution_count": null,
      "outputs": []
    },
    {
      "cell_type": "code",
      "source": [
        "# Extraemos la temperatura de un día cualquiera\n",
        "# ----------------------------------------------\n",
        "!cdo select,name=t2m,date=2020-07-24T12:00:00 era5_2000.nc t.nc"
      ],
      "metadata": {
        "id": "knwifghbTcnt"
      },
      "execution_count": null,
      "outputs": []
    },
    {
      "cell_type": "code",
      "source": [
        "# Aplicamos la máscara para seleccionar solo los valores de temperatura en tierra\n",
        "# --------------------------------------------------------------------------------\n",
        "!cdo ifthen   mascara_tierra_mar.nc   t.nc   temperatura_tierra.nc"
      ],
      "metadata": {
        "id": "YJZHQnjaYBQg"
      },
      "execution_count": null,
      "outputs": []
    },
    {
      "cell_type": "code",
      "source": [
        "!cdo showvar temperatura_tierra.nc"
      ],
      "metadata": {
        "id": "VFKl4FIEYoyO"
      },
      "execution_count": null,
      "outputs": []
    },
    {
      "cell_type": "code",
      "source": [
        "fig,(ax1,ax2,ax3) = plt.subplots(1,3, figsize=(16,4))\n",
        "xr.open_dataset('t.nc').t2m.isel(time=0).plot(ax=ax1)\n",
        "xr.open_dataset('mascara_tierra_mar.nc').lsm.isel(time=0).plot(ax=ax2)\n",
        "xr.open_dataset('temperatura_tierra.nc').t2m.isel(time=0).plot(ax=ax3)"
      ],
      "metadata": {
        "id": "QuUHB6ZSWeBB"
      },
      "execution_count": null,
      "outputs": []
    },
    {
      "cell_type": "code",
      "source": [
        "# Para seleccionar la temperatura en el mar\n",
        "# Ahora encadenamos los operadores\n",
        "#------------------------------------------\n",
        "!cdo -ifnotthen  mascara_tierra_mar.nc -select,name=t2m,date=2020-07-24T12:00:00 era5_2000.nc  temperatura_mar.nc"
      ],
      "metadata": {
        "id": "DKKljubse9hH"
      },
      "execution_count": null,
      "outputs": []
    },
    {
      "cell_type": "code",
      "source": [
        "fig,(ax1,ax2,ax3) = plt.subplots(1,3, figsize=(16,4))\n",
        "xr.open_dataset('t.nc').t2m.isel(time=0).plot(ax=ax1)\n",
        "xr.open_dataset('mascara_tierra_mar.nc').lsm.isel(time=0).plot(ax=ax2)\n",
        "xr.open_dataset('temperatura_mar.nc').t2m.isel(time=0).plot(ax=ax3)"
      ],
      "metadata": {
        "id": "CcQQw_J_fNJz"
      },
      "execution_count": null,
      "outputs": []
    },
    {
      "cell_type": "markdown",
      "source": [
        "también es posible asignar un valor constante al área enmascarada"
      ],
      "metadata": {
        "id": "XRwWWUH1gNwF"
      }
    },
    {
      "cell_type": "code",
      "source": [
        "# Selección de la temperatura del mar en invierno y la de tierra en verano\n",
        "#------------------------------------------------------------------------------\n",
        "!cdo -select,name='t2m',date='2020-06-22T12:00:00' era5_2000.nc t_verano.nc\n",
        "!cdo -select,name='t2m',date='2020-12-22T12:00:00' era5_2000.nc t_invierno.nc\n",
        "!cdo -ifthenelse  mascara_tierra_mar.nc t_verano.nc t_invierno.nc hibrido.nc"
      ],
      "metadata": {
        "id": "W5U1s1tfgWe5"
      },
      "execution_count": null,
      "outputs": []
    },
    {
      "cell_type": "code",
      "source": [
        "fig,(ax1,ax2,ax3) = plt.subplots(1,3, figsize=(16,4))\n",
        "xr.open_dataset('t_verano.nc').t2m.isel(time=0).plot(ax=ax1,cmap='rainbow',vmin=280,vmax=320)\n",
        "xr.open_dataset('t_invierno.nc').t2m.isel(time=0).plot(ax=ax2,cmap='rainbow',vmin=280,vmax=320)\n",
        "xr.open_dataset('hibrido.nc').t2m.isel(time=0).plot(ax=ax3,cmap='rainbow',vmin=280,vmax=320)"
      ],
      "metadata": {
        "id": "EFUlqKZAlThp"
      },
      "execution_count": null,
      "outputs": []
    },
    {
      "cell_type": "markdown",
      "source": [
        "## Operadores de [comparación](https://code.mpimet.mpg.de/projects/cdo/embedded/index.html#x1-2390002.5)"
      ],
      "metadata": {
        "id": "xTe_NFZhp4Lf"
      }
    },
    {
      "cell_type": "markdown",
      "source": [
        "Permiten la creación de máscaras. Asignan ceros y unos en función del valor de los campos seleccionados"
      ],
      "metadata": {
        "id": "DpUbdu0YqSbm"
      }
    },
    {
      "cell_type": "code",
      "source": [
        "# Selección de datos de temperatura del 1 de julio de 2020\n",
        "# -----------------------------------------------------------\n",
        "!cdo -select,name='t2m',date='2020-07-01T12:00:00'  era5_2000.nc julio.nc\n",
        "# Selección de datos de temperatura del 1 de agosto de 2020\n",
        "# -----------------------------------------------------------\n",
        "!cdo -select,name='t2m',date='2020-08-01T12:00:00'  era5_2000.nc agosto.nc\n",
        "\n",
        "# Creación de una máscara que toma valor 1 si la temperatura en julio supera la de agosto\n",
        "# La opción -b F32 se asegura de que la comparación se realiza con la precisión necesaria\n",
        "# ----------------------------------------------------------------------------------------\n",
        "!cdo -b F32 -gt   julio.nc   agosto.nc   julio_mayor_que_agosto.nc"
      ],
      "metadata": {
        "id": "b1anj0-3qe0y"
      },
      "execution_count": null,
      "outputs": []
    },
    {
      "cell_type": "code",
      "source": [
        "fig,(ax1,ax2,ax3) = plt.subplots(1,3, figsize=(16,4))\n",
        "xr.open_dataset('julio.nc').t2m.isel(time=0).plot(ax=ax1,cmap='rainbow',vmin=280,vmax=320)\n",
        "xr.open_dataset('agosto.nc').t2m.isel(time=0).plot(ax=ax2,cmap='rainbow',vmin=280,vmax=320)\n",
        "xr.open_dataset('julio_mayor_que_agosto.nc').t2m.isel(time=0).plot(ax=ax3,cmap='rainbow',vmin=0,vmax=1)"
      ],
      "metadata": {
        "id": "Rc8M9LZSr0Cw"
      },
      "execution_count": null,
      "outputs": []
    },
    {
      "cell_type": "markdown",
      "source": [
        "##Operadores de [modificación](https://code.mpimet.mpg.de/projects/cdo/embedded/index.html#x1-2510002.6)"
      ],
      "metadata": {
        "id": "AMnbq_PZ1LxZ"
      }
    },
    {
      "cell_type": "markdown",
      "source": [
        "Permiten modificar los metadatos, los campos o partes de los campos de un fichero de datos."
      ],
      "metadata": {
        "id": "e6FTNVZ01V50"
      }
    },
    {
      "cell_type": "code",
      "source": [
        "# Atributos antes\n",
        "# ---------------------\n",
        "!cdo showatts agosto.nc\n",
        "\n",
        "# Añadimos un atributo local a la variable t2m\n",
        "# ----------------------------------------------\n",
        "!cdo setattribute,t2m@nuevo_atributo=\"propiedad interesante\" agosto.nc tmp\n",
        "\n",
        "# Añadimos un atributo global\n",
        "# ----------------------------------------------\n",
        "!cdo setattribute,fiabilidad=\"Alta\" tmp agosto_mod.nc\n",
        "\n",
        "# Borra el fichero intermedio\n",
        "# ----------------------------\n",
        "!rm -f tmp\n",
        "\n",
        "# Atributos después\n",
        "# -------------------\n",
        "!cdo showatts agosto_mod.nc"
      ],
      "metadata": {
        "id": "cWIDvbT_1mKZ"
      },
      "execution_count": null,
      "outputs": []
    },
    {
      "cell_type": "code",
      "source": [
        "# Versión que encadena la adición de los dos atributos\n",
        "# ----------------------------------------------------\n",
        "!cdo -O -setattribute,t2m@nuevo_atributo=\"propiedad interesante\" -setattribute,fiabilidad=\"Alta\" agosto.nc agosto_modificado.nc"
      ],
      "metadata": {
        "id": "_tBmhSSn5BFe"
      },
      "execution_count": null,
      "outputs": []
    },
    {
      "cell_type": "code",
      "source": [
        "# Invierte el sentido del eje de latitudes\n",
        "# ----------------------------------------\n",
        "!cdo sinfo julio.nc\n",
        "!cdo invertlat julio.nc julio_invlat.nc\n",
        "!cdo sinfo julio_invlat.nc"
      ],
      "metadata": {
        "id": "oktEOF966JU9"
      },
      "execution_count": null,
      "outputs": []
    },
    {
      "cell_type": "code",
      "source": [
        "# Para algunas aplicaciones es preferible tener un eje de latitudes crecientes\n",
        "# Por ejemplo, esta extracción de un rango de latitudes en xarray da un error\n",
        "# porque en el fichero las latitudes están dispuestas de mayor a menor\n",
        "# --------------------------------------------------------------------------------\n",
        "# xr.open_dataset('julio.nc').t2m.isel(time=0).sel(latitude=slice(25,55)).plot()\n",
        "\n",
        "# Con el fichero modificado funciona sin problemas\n",
        "# --------------------------------------------------\n",
        "xr.open_dataset('julio_invlat.nc').t2m.isel(time=0).sel(latitude=slice(25,55)).plot(size=4)"
      ],
      "metadata": {
        "id": "FfOQcWSngNNq"
      },
      "execution_count": null,
      "outputs": []
    },
    {
      "cell_type": "code",
      "source": [
        "# Definimos una región indicando las coordenadas de los vértices\n",
        "# ---------------------------------------------------------------\n",
        "!rm -f             region.txt\n",
        "!echo \"-5 30\"   >> region.txt\n",
        "!echo \"-15 40\"  >> region.txt\n",
        "!echo \"-5 50\"   >> region.txt\n",
        "!echo \"5 40\"    >> region.txt"
      ],
      "metadata": {
        "id": "3eKd9vuz88_L"
      },
      "execution_count": null,
      "outputs": []
    },
    {
      "cell_type": "code",
      "source": [
        "# Enmascaramos los datos en el exterior de la región\n",
        "# Los valores se etiquetan como no válidos (missing)\n",
        "# ---------------------------------------------------\n",
        "!cdo maskregion,region.txt agosto.nc region.nc"
      ],
      "metadata": {
        "id": "fkH9-Wxf9lre"
      },
      "execution_count": null,
      "outputs": []
    },
    {
      "cell_type": "code",
      "source": [
        "# Datos de temperatura en el interior de la región\n",
        "# --------------------------------------------------\n",
        "xr.open_dataset('region.nc').t2m.isel(time=0).plot(size=4)"
      ],
      "metadata": {
        "id": "sP6m6N5Y9zgn"
      },
      "execution_count": null,
      "outputs": []
    },
    {
      "cell_type": "markdown",
      "source": [
        "Si la máscara corresponde a una ventana delimitada por paralelos y meridianos basta con indicar las latitudes y longitudes de los contornos con *masklonlatbox*"
      ],
      "metadata": {
        "id": "5buPZrwdB80w"
      }
    },
    {
      "cell_type": "code",
      "source": [
        "# Enmascaramos los datos en el exterior de la región\n",
        "# Los valores se etiquetan como no válidos (missing)\n",
        "# ---------------------------------------------------\n",
        "!cdo -O masklonlatbox,-25,5,30,50 agosto.nc region.nc\n",
        "\n",
        "# Datos de temperatura en el interior de la región\n",
        "# --------------------------------------------------\n",
        "xr.open_dataset('region.nc').t2m.isel(time=0).plot(size=4)"
      ],
      "metadata": {
        "id": "YLaaHQ6YBfFM"
      },
      "execution_count": null,
      "outputs": []
    },
    {
      "cell_type": "markdown",
      "source": [
        "A veces es necesario invalidar determinados datos para que no sean tenidos en cuenta en el cómputo"
      ],
      "metadata": {
        "id": "eJdtu4jpCvB0"
      }
    },
    {
      "cell_type": "code",
      "source": [
        "# Invalidamos los datos de temperatura en el rango 293-298 K (20-25ºC)\n",
        "# ----------------------------------------------------------------------\n",
        "!cdo setrtomiss,293,298 julio.nc  julio_sin_293-298K.nc\n",
        "\n",
        "# Muestra el mapa sin los valores anulados\n",
        "# --------------------------------------------------------------------\n",
        "xr.open_dataset('julio_sin_293-298K.nc').t2m.isel(time=0).plot(size=4)"
      ],
      "metadata": {
        "id": "q-7IYPn1CtsJ"
      },
      "execution_count": null,
      "outputs": []
    },
    {
      "cell_type": "markdown",
      "source": [
        "##Operadores de [aritmética](https://code.mpimet.mpg.de/projects/cdo/embedded/index.html#x1-3370002.7)"
      ],
      "metadata": {
        "id": "0SobX5eMGkBO"
      }
    },
    {
      "cell_type": "markdown",
      "source": [
        "Resultan extremadamente útiles los operadores que permiten calcular nuevos campos actuando sobre los existentes.\n",
        "\n",
        "* expr:  evalúa expresiones aritméticas que se guardan en un nuevo fichero\n",
        "* aexpr  evalúa expresiones aritméticas que se anexan al fichero original\n",
        "\n",
        "Cuando las expresiones son complicadas es más conveniente que se definan en un script independiente. En ese caso, los operadores son:\n",
        "\n",
        "* exprf  \n",
        "* aexprf"
      ],
      "metadata": {
        "id": "8qIBDEcSGxY9"
      }
    },
    {
      "cell_type": "code",
      "source": [
        "!cdo seldate,'2020-12-24T12:00:00' era5_2000.nc xmas.nc\n",
        "!cdo showvar xmas.nc"
      ],
      "metadata": {
        "id": "Z9LbvIigJStz"
      },
      "execution_count": null,
      "outputs": []
    },
    {
      "cell_type": "markdown",
      "source": [
        "En este ejemplo el fichero de salida solo contiene el campo creado"
      ],
      "metadata": {
        "id": "wSigTUMWQNS7"
      }
    },
    {
      "cell_type": "code",
      "source": [
        "# Calcula el módulo del vector de viento\n",
        "# ---------------------------------------------\n",
        "!cdo expr,viento='sqrt(u10*u10+v10*v10)' xmas.nc xmas_viento.nc\n",
        "\n",
        "# Tenemos una única variable llamada 'viento'\n",
        "# --------------------------------------------\n",
        "!cdo showvar xmas_viento.nc"
      ],
      "metadata": {
        "id": "i_qpUZ3FKFbC"
      },
      "execution_count": null,
      "outputs": []
    },
    {
      "cell_type": "markdown",
      "source": [
        "En la versión que usa aexpr en lugar de expr el fichero de salida contiene tanto las variables antiguas como las nuevas"
      ],
      "metadata": {
        "id": "Lv4TBHEyQa2T"
      }
    },
    {
      "cell_type": "code",
      "source": [
        "# Crea una nueva variable con el módulo del viento\n",
        "# Crea una nueva variable con la temperatura en ºC\n",
        "# -------------------------------------------------\n",
        "!cdo -O aexpr,viento='sqrt(u10*u10+v10*v10);tc=t2m-273.15;' xmas.nc xmas_viento.nc\n",
        "\n",
        "# Tenemos todas las variables en el nuevo fichero\n",
        "# --------------------------------------------\n",
        "!cdo showvar xmas_viento.nc"
      ],
      "metadata": {
        "id": "OT9itJeiOww2"
      },
      "execution_count": null,
      "outputs": []
    },
    {
      "cell_type": "code",
      "source": [
        "# Dibujamos el campo de velocidad del viento (módulo del vector) recién creado\n",
        "# -----------------------------------------------------------------------------\n",
        "xr.open_dataset('xmas_viento.nc').viento.isel(time=0).plot(size=5, cmap='jet')\n",
        "\n",
        "\n",
        "# # ¿Añadimos los vectores al gráfico?\n",
        "# # --------------------------------------\n",
        "# xr.open_dataset('xmas.nc').isel(time=0).thin({'longitude':5,'latitude':5}).plot.quiver(x='longitude',y='latitude',u='u10',v='v10')\n"
      ],
      "metadata": {
        "id": "BLwYbx6XGeQv"
      },
      "execution_count": null,
      "outputs": []
    },
    {
      "cell_type": "markdown",
      "source": [
        "Es posible aplicar operaciones aritméticas sobre los ficheros involucrando constantes. Por ejemplo, el cambio de unidades de la temperatura se puede llevar a cabo de esta otra manera:\n",
        "\n"
      ],
      "metadata": {
        "id": "5xxdlNUPSX7O"
      }
    },
    {
      "cell_type": "code",
      "source": [
        "!cdo -b F32 -addc,-273.15 -selvar,t2m xmas.nc tc_xmas.nc\n",
        "\n",
        "xr.open_dataset('tc_xmas.nc').t2m.isel(time=0).plot(size=5, cmap='jet')"
      ],
      "metadata": {
        "id": "7I8JUtA0Se_j"
      },
      "execution_count": null,
      "outputs": []
    },
    {
      "cell_type": "markdown",
      "source": [
        "También se pueden realizar determinadas operaciones en pares de ficheros"
      ],
      "metadata": {
        "id": "a2FDNNA8VLCo"
      }
    },
    {
      "cell_type": "code",
      "source": [
        "!cdo -b F32 sub agosto.nc julio.nc diferencia_julio_agosto.nc\n",
        "\n",
        "xr.open_dataset('tc_xmas.nc').t2m.isel(time=0).plot(size=5, cmap='seismic')"
      ],
      "metadata": {
        "id": "A-4PWzx-Vm54"
      },
      "execution_count": null,
      "outputs": []
    },
    {
      "cell_type": "markdown",
      "source": [
        "####Ejemplo: sustracción de la variación estacional"
      ],
      "metadata": {
        "id": "OVrGWhNvdjzC"
      }
    },
    {
      "cell_type": "code",
      "source": [
        "# Extrae solamente los campos de temperatura y pasa de Kelvin a ºC\n",
        "# --------------------------------------------------------------------\n",
        "!cdo -b F32  -addc,-273.15 -selvar,t2m era5_2000.nc  tc.nc\n",
        "\n",
        "# En cada punto de rejilla sustraemos el promedio mensual de temperatura\n",
        "# --------------------------------------------------------------------\n",
        "!cdo -b F32  -monsub tc.nc -monavg tc.nc tc_sin_variacion_estacional.nc\n",
        "\n"
      ],
      "metadata": {
        "id": "1QqliETFXhYm"
      },
      "execution_count": null,
      "outputs": []
    },
    {
      "cell_type": "code",
      "source": [
        "# Dibujamos la serie temporal correspondiente a Madrid\n",
        "# ----------------------------------------------------------\n",
        "fig,(ax1,ax2)=plt.subplots(2,1)\n",
        "xr.open_dataset('tc.nc').t2m.sel(longitude=-3,latitude=40, method='nearest').plot(ax=ax1)\n",
        "xr.open_dataset('tc_sin_variacion_estacional.nc').t2m.sel(longitude=-3,latitude=40, method='nearest').plot(ax=ax2)\n",
        "plt.tight_layout()"
      ],
      "metadata": {
        "id": "IDK6NPKVeVQ7"
      },
      "execution_count": null,
      "outputs": []
    }
  ]
}