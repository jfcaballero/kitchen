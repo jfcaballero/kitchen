{
  "nbformat": 4,
  "nbformat_minor": 0,
  "metadata": {
    "colab": {
      "provenance": [],
      "toc_visible": true,
      "authorship_tag": "ABX9TyPqbNvgitEfyoUkGnQuCsT3",
      "include_colab_link": true
    },
    "kernelspec": {
      "name": "python3",
      "display_name": "Python 3"
    },
    "language_info": {
      "name": "python"
    }
  },
  "cells": [
    {
      "cell_type": "markdown",
      "metadata": {
        "id": "view-in-github",
        "colab_type": "text"
      },
      "source": [
        "<a href=\"https://colab.research.google.com/github/waveology/kitchen/blob/main/02_introduccion_cdo.ipynb\" target=\"_parent\"><img src=\"https://colab.research.google.com/assets/colab-badge.svg\" alt=\"Open In Colab\"/></a>"
      ]
    },
    {
      "cell_type": "markdown",
      "source": [
        "---\n",
        "<html><img src=\"https://owncloud.aemet.es/index.php/s/lwiFbCGBRAJHlF7/download?path=%2F&files=logo.png\"></html>\n",
        "\n",
        "\n",
        "* **Autor:** Ernesto Barrera\n",
        "* **Institución:** AEMET\n",
        "---"
      ],
      "metadata": {
        "id": "cCmwD_By6E-9"
      }
    },
    {
      "cell_type": "markdown",
      "source": [
        "# Introducción a **cdo** (Climate Data Operators)\n"
      ],
      "metadata": {
        "id": "CuUyJZcnv8ux"
      }
    },
    {
      "cell_type": "markdown",
      "source": [
        "![Sin título.png](data:image/png;base64,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)"
      ],
      "metadata": {
        "id": "pYwYN8Jse1CS"
      }
    },
    {
      "cell_type": "markdown",
      "source": [
        "* [Web del proyecto](https://code.mpimet.mpg.de/projects/cdo/wiki/Cdo#Documentation)\n",
        "* [Guía de usuario](https://code.mpimet.mpg.de/projects/cdo/embedded/cdo.pdf)"
      ],
      "metadata": {
        "id": "wmlD1n_FeNo7"
      }
    },
    {
      "cell_type": "markdown",
      "source": [
        "* **¿Qué es CDO?** Un conjunto (extenso) de operadores que actúan sobre ficheros en formato NetCDF o GRIB.\n",
        "\n",
        "* **¿Cómo se usa CDO?** Se invocan en línea de comandos aunque existe una interfaz Python.\n",
        "\n",
        "* **¿Cuándo usar CDO?** Cuando se requiera el\n",
        "preproceso eficiente en memoria, especialmente con datos masivos.\n",
        "\n",
        "* **¿Por qué CDO?** Porque funciona tanto con datos GRIB como con NetCDF\n",
        "\n",
        "\n",
        "\n"
      ],
      "metadata": {
        "id": "P3Qw8Hc4jxwE"
      }
    },
    {
      "cell_type": "markdown",
      "source": [
        "* **Uso simple**:\n",
        "\n",
        "> `$ cdo [operador]   fichero_entrada   fichero_salida`\n",
        "\n",
        "* **[Uso encadenado](https://code.mpimet.mpg.de/projects/cdo/embedded/index.html#x1-200001.2.6)**:\n",
        "\n",
        "> `$ cdo -[operador1] fichero_entrada1 -[operador2] fichero_entrada2 [...] fichero_salida`\n",
        "\n",
        "* **Paralelización OMP ([solo algunos operadores](https://code.mpimet.mpg.de/projects/cdo/embedded/index.html#x1-958000B))**:\n",
        "\n",
        "> `$ cdo -P 12 -operador_paralelizado fichero_entrada fichero_salida`\n"
      ],
      "metadata": {
        "id": "J1VOKkzwkJ6r"
      }
    },
    {
      "cell_type": "markdown",
      "source": [
        "**Organización de los operadores por tipo de acción:**\n",
        ">* Información\n",
        "* Partición/fusión de ficheros\n",
        "* Selección\n",
        "* Comparación\n",
        "* Modificación\n",
        "* Aritmética\n",
        "* Estadística\n",
        "* Correlación\n",
        "* Regresión\n",
        "* Componentes principales\n",
        "* Interpolación\n",
        "* Transformación\n",
        "* Entradas y salidas\n",
        "* Miscelánea\n"
      ],
      "metadata": {
        "id": "cGRBhhVMkEmk"
      }
    },
    {
      "cell_type": "markdown",
      "source": [
        "## Instalación desde condacolab\n",
        "---"
      ],
      "metadata": {
        "id": "f889dBnOwDaO"
      }
    },
    {
      "cell_type": "code",
      "source": [
        "# Instala conda en Colab\n",
        "# Este proceso implica un reinicio del kernel y\n",
        "# es normal que aparezca un mensaje de fallo en la sesión\n",
        "# --------------------------------------------------------\n",
        "!pip install -q condacolab\n",
        "import condacolab\n",
        "condacolab.install()"
      ],
      "metadata": {
        "id": "6V8IA5e5FjHa"
      },
      "execution_count": null,
      "outputs": []
    },
    {
      "cell_type": "code",
      "source": [
        "# Verifica la instalación\n",
        "# ------------------------\n",
        "import condacolab\n",
        "condacolab.check()\n"
      ],
      "metadata": {
        "id": "1XhEOfoIFyW2"
      },
      "execution_count": null,
      "outputs": []
    },
    {
      "cell_type": "code",
      "source": [
        "# Instala cdo\n",
        "# ----------------------\n",
        "!mamba install -q cdo"
      ],
      "metadata": {
        "id": "fIQkLBoCbIgm"
      },
      "execution_count": null,
      "outputs": []
    },
    {
      "cell_type": "markdown",
      "source": [
        "##Descarga de datos\n",
        "---"
      ],
      "metadata": {
        "id": "2mjvewp4Kfb4"
      }
    },
    {
      "cell_type": "markdown",
      "source": [
        "Descargamos ficheros de datos del reanálisis ERA/ECMWF para experimentar"
      ],
      "metadata": {
        "id": "foz1ngmXtD0g"
      }
    },
    {
      "cell_type": "code",
      "source": [
        "ifile = 'era5_t2m_w10_2020_europa_025.rar'\n",
        "!wget -q --no-check-certificate https://owncloud.aemet.es/index.php/s/7tJ8c3UpRK9sqVE/download -O {ifile} && unrar -o+ e {ifile} && rm -f {ifile}\n",
        "!mv era5_t2m_w10_2020_europa_025.nc era5_2000.nc\n",
        "\n",
        "ifile = 'era5_t2m_1987_2020_europa_025_lsm.rar'\n",
        "!wget -q --no-check-certificate https://owncloud.aemet.es/index.php/s/leirUBqlMnLxIAL/download -O {ifile} && unrar -o+ e {ifile} && rm -f {ifile}\n",
        "!mv era5_t2m_1987_2020_europa_025_lsm.nc mascara_tierra_mar.nc"
      ],
      "metadata": {
        "id": "34CvCAUOKjXO"
      },
      "execution_count": null,
      "outputs": []
    },
    {
      "cell_type": "markdown",
      "source": [
        "## Operadores de [información](https://code.mpimet.mpg.de/projects/cdo/embedded/index.html#x1-560002.1)\n",
        "---\n",
        "\n",
        "Permiten obtener metadatos de los ficheros (variables, coordenadas, tiempos, etc)"
      ],
      "metadata": {
        "id": "A_znmINboBxO"
      }
    },
    {
      "cell_type": "code",
      "source": [
        "# Información y estadística básica\n",
        "# ---------------------------------\n",
        "!cdo    info    era5_2000.nc | head -n 10"
      ],
      "metadata": {
        "id": "Q7Gd884gLJnt"
      },
      "execution_count": null,
      "outputs": []
    },
    {
      "cell_type": "code",
      "source": [
        "# Información reducida\n",
        "# ---------------------------------\n",
        "!cdo    sinfo   era5_2000.nc | head -n 20"
      ],
      "metadata": {
        "id": "zM08cMWMmgmq"
      },
      "execution_count": null,
      "outputs": []
    },
    {
      "cell_type": "code",
      "source": [
        "# Nombre de las variables\n",
        "# -----------------------\n",
        "!cdo    showname    era5_2000.nc"
      ],
      "metadata": {
        "id": "KZrwIWx_jYlF"
      },
      "execution_count": null,
      "outputs": []
    },
    {
      "cell_type": "code",
      "source": [
        "# Número de parámetros\n",
        "# ---------------------------------\n",
        "!cdo    npar    era5_2000.nc"
      ],
      "metadata": {
        "id": "G92Jv8P8mu5i"
      },
      "execution_count": null,
      "outputs": []
    },
    {
      "cell_type": "code",
      "source": [
        "# Número de niveles\n",
        "# ---------------------------------\n",
        "!cdo nlevel era5_2000.nc"
      ],
      "metadata": {
        "id": "gQMILQ-snl4i"
      },
      "execution_count": null,
      "outputs": []
    },
    {
      "cell_type": "code",
      "source": [
        "# Número de fechas\n",
        "# ---------------------------------\n",
        "!cdo ndate era5_2000.nc"
      ],
      "metadata": {
        "id": "cEDnePN6nqxS"
      },
      "execution_count": null,
      "outputs": []
    },
    {
      "cell_type": "code",
      "source": [
        "# Número de puntos de rejilla de cada variable\n",
        "# --------------------------------------------\n",
        "!cdo ngridpoints era5_2000.nc"
      ],
      "metadata": {
        "id": "0TKQ4fuCnsk6"
      },
      "execution_count": null,
      "outputs": []
    },
    {
      "cell_type": "code",
      "source": [
        "# Formato del fichero\n",
        "# --------------------\n",
        "!cdo showformat era5_2000.nc"
      ],
      "metadata": {
        "id": "65-uwN6znnHO"
      },
      "execution_count": null,
      "outputs": []
    },
    {
      "cell_type": "code",
      "source": [
        "# Atributos NetCDF locales y globales\n",
        "# ----------------.........----------\n",
        "!cdo showatts era5_2000.nc"
      ],
      "metadata": {
        "id": "-6OR9BayjZTq"
      },
      "execution_count": null,
      "outputs": []
    },
    {
      "cell_type": "markdown",
      "source": [
        "## [Operadores de ficheros](https://code.mpimet.mpg.de/projects/cdo/embedded/index.html#x1-920002.2)\n",
        "---"
      ],
      "metadata": {
        "id": "kXX846uKp3G-"
      }
    },
    {
      "cell_type": "markdown",
      "source": [
        "###Separación\n",
        "Entre los más usados están aquellos que permiten trocear o fusionar los ficheros en base a algun criterio (variables, tiempo, etc).\n",
        "\n",
        "Los operadores con prefijo 'split' se usan para separar:"
      ],
      "metadata": {
        "id": "ldOVP_wIuV1M"
      }
    },
    {
      "cell_type": "code",
      "source": [
        "# Separa un fichero de datos anuales en 12 ficheros\n",
        "# con datos mensuales\n",
        "# ---------------------------------------------------\n",
        "!cdo    splitmon    era5_2000.nc    mes_"
      ],
      "metadata": {
        "id": "rxLCRA72qltW"
      },
      "execution_count": null,
      "outputs": []
    },
    {
      "cell_type": "code",
      "source": [
        "# Muestra las fechas contenidas en el fichero correspondiente\n",
        "# al mes de febrero\n",
        "# ------------------------------------------------------------\n",
        "!cdo    showdate    mes_02.nc"
      ],
      "metadata": {
        "id": "0nBqCW1qsn7H"
      },
      "execution_count": null,
      "outputs": []
    },
    {
      "cell_type": "code",
      "source": [
        "# Separa el fichero de datos de febrero en uno por cada variable\n",
        "# ---------------------------------------------------------------\n",
        "!cdo    splitvar    mes_02.nc    febrero_"
      ],
      "metadata": {
        "id": "zryM_VG_tVGn"
      },
      "execution_count": null,
      "outputs": []
    },
    {
      "cell_type": "markdown",
      "source": [
        "###Fusion\n",
        "La operación inversa de aglutinar información de múltiples ficheros en uno se lleva a cabo con los operadores de prefijo *merge*"
      ],
      "metadata": {
        "id": "esHW1aC4uPtX"
      }
    },
    {
      "cell_type": "code",
      "source": [
        "# Separa el fichero de datos de febrero en uno por cada variable\n",
        "# ---------------------------------------------------------------\n",
        "!cdo    mergetime    mes_12.nc    mes_01.nc    mes_02.nc    DJF.nc"
      ],
      "metadata": {
        "id": "PufqlU7BuwrM"
      },
      "execution_count": null,
      "outputs": []
    },
    {
      "cell_type": "code",
      "source": [
        "# Muestra las fechas contenidas en el fichero correspondiente\n",
        "# al mes de febrero\n",
        "# ------------------------------------------------------------\n",
        "!cdo showdate DJF.nc"
      ],
      "metadata": {
        "id": "GcopyPw3jYVl"
      },
      "execution_count": null,
      "outputs": []
    },
    {
      "cell_type": "markdown",
      "source": [
        "En muchos casos, los operadores pueden encadenarse anteponiendo un guión a su nombre. Esto optimiza los procesos porque evitan la creación de ficheros intermedios y la escritura a disco es a menudo un cuello de botella en el cálculo intensivo."
      ],
      "metadata": {
        "id": "eqgYHMI51r4B"
      }
    },
    {
      "cell_type": "code",
      "source": [
        "# Encadenado de operadores\n",
        "# 1) se fusionan los datos correspondientes a los meses de verano\n",
        "# 2) la fusión resultante se separa en un fichero por cada variable\n",
        "# ----------------------------------------------------------------------\n",
        "!cdo  -splitvar    -mergetime    mes_06.nc    mes_07.nc    mes_08.nc    JJA_\n",
        "\n",
        "\n",
        "# Es lo mismo que esto\n",
        "# ----------------------\n",
        "# !cdo    mergetime    mes_06.nc    mes_07.nc    mes_08.nc  fichero_de_paso.nc\n",
        "# !cdo    splitvar    fichero_de_paso.nc  JJA_"
      ],
      "metadata": {
        "id": "9WmPi55Z0lb_"
      },
      "execution_count": null,
      "outputs": []
    },
    {
      "cell_type": "code",
      "source": [
        "# Limpieza\n",
        "# ----------------------------------\n",
        "!rm -f mes_*.nc febrero_*.nc JJA_*.nc"
      ],
      "metadata": {
        "id": "c26qjf6OwrPC"
      },
      "execution_count": null,
      "outputs": []
    },
    {
      "cell_type": "markdown",
      "source": [
        "##Operadores de [selección](https://code.mpimet.mpg.de/projects/cdo/embedded/index.html#x1-1670002.3)\n",
        "---"
      ],
      "metadata": {
        "id": "ArmLY9ee3Cu7"
      }
    },
    {
      "cell_type": "markdown",
      "source": [
        "Permiten elegir el contenido de un fichero en base a diversos criterios"
      ],
      "metadata": {
        "id": "9kDgeJVRvGCX"
      }
    },
    {
      "cell_type": "markdown",
      "source": [
        "###Ejemplo: selección de datos estacionales"
      ],
      "metadata": {
        "id": "uJ67BNSivZKr"
      }
    },
    {
      "cell_type": "code",
      "source": [
        "# Selecciona los datos correspondientes a la temperatura del invierno climatológico\n",
        "# ----------------------------------------------------------------------------------\n",
        "!cdo    select,name=t2m,season=DJF    era5_2000.nc    DJF_t2m.nc"
      ],
      "metadata": {
        "id": "esV7B6Qx3TVc"
      },
      "execution_count": null,
      "outputs": []
    },
    {
      "cell_type": "code",
      "source": [
        "# Elimina los días 29 de febrero que encuentre en\n",
        "# el fichero de entrada (dom = day of month)\n",
        "# -------------------------------------------------------\n",
        "!cdo    delete,dom=29feb    DJF_t2m.nc    DJF_t2m_sin_29feb.nc"
      ],
      "metadata": {
        "id": "Dre_VW3g4-zW"
      },
      "execution_count": null,
      "outputs": []
    },
    {
      "cell_type": "code",
      "source": [
        "# Comprobación\n",
        "# ------------------------------------------------------------\n",
        "!cdo showdate DJF_t2m.nc\n",
        "!cdo showdate DJF_t2m_sin_29feb.nc"
      ],
      "metadata": {
        "id": "DvahjvBl5164"
      },
      "execution_count": null,
      "outputs": []
    },
    {
      "cell_type": "markdown",
      "source": [
        "###Ejemplo: operadores encadenados"
      ],
      "metadata": {
        "id": "mPPC7dmnvllA"
      }
    },
    {
      "cell_type": "markdown",
      "source": [
        "Las mismas operaciones pero encadenando los operadores.\n",
        "\n",
        "* Nótese que en general, el orden de encadenamiento puede afectar a la eficiencia.\n",
        "* Cuando existe ambigüedad en el ámbito de actuación de los operadores se usan paréntesis para clarificarla."
      ],
      "metadata": {
        "id": "HaSiI62G3TEb"
      }
    },
    {
      "cell_type": "code",
      "source": [
        "# Selecciona los datos correspondientes al invierno climatológico y eliminamos el 29 de febrero del resultado\n",
        "# -O fuerza la sobreescritura de un fichero preexistente\n",
        "# El resultado de 'select' solo existe en memoria\n",
        "# ---------------------------------------------------------------------------------------------------------\n",
        "!cdo -O  -delete,dom=29feb   [ -select,name=t2m,season=DJF   era5_2000.nc ]  DJF_t2m_sin_29feb.nc"
      ],
      "metadata": {
        "id": "3YXyzG166SWF"
      },
      "execution_count": null,
      "outputs": []
    },
    {
      "cell_type": "code",
      "source": [
        "# Selecciona un rango arbitrario de fechas\n",
        "# -------------------------------------------\n",
        "!cdo seldate,'2020-07-24T00:00:00','2020-08-15T23:59:59' era5_2000.nc europa.nc\n",
        "\n",
        "## Se obtiene el mismo resultado usando el operador genérico 'select'\n",
        "## -------------------------------------------------------------------\n",
        "# !cdo -O select,startdate='2020-07-24T00:00:00',enddate='2020-08-15T23:59:59' era5_2000.nc europa.nc"
      ],
      "metadata": {
        "id": "GXOQ0ZgQ_kf1"
      },
      "execution_count": null,
      "outputs": []
    },
    {
      "cell_type": "markdown",
      "source": [
        "###Ejemplo: selección de una ventana geográfica"
      ],
      "metadata": {
        "id": "NLUlHqAAwCTN"
      }
    },
    {
      "cell_type": "code",
      "source": [
        "!cdo sinfo europa.nc | head -n 10"
      ],
      "metadata": {
        "id": "guzaASl6BhsA"
      },
      "execution_count": null,
      "outputs": []
    },
    {
      "cell_type": "code",
      "source": [
        "# Selecciona una ventana geográfica en torno a la península ibérica\n",
        "# ------------------------------------------------------------------\n",
        "!cdo sellonlatbox,-12,5,35,45 europa.nc  peninsula.nc"
      ],
      "metadata": {
        "id": "RoK4Nv3wBTGk"
      },
      "execution_count": null,
      "outputs": []
    },
    {
      "cell_type": "code",
      "source": [
        "# Importamos xarray y Matplotlib para inspeccionar gráficamente el contenido de los ficheros\n",
        "# -------------------------------------------------------------------------------------------\n",
        "import xarray as xr\n",
        "import matplotlib.pyplot as plt"
      ],
      "metadata": {
        "id": "QnfAlW2dCXGF"
      },
      "execution_count": null,
      "outputs": []
    },
    {
      "cell_type": "code",
      "source": [
        "# Dibujamos el fichero original y el resultante de la selección de ventana geográfica\n",
        "# ------------------------------------------------------------------------------------\n",
        "fig,(ax1,ax2) = plt.subplots(1,2, figsize=(12,4))\n",
        "t1 = xr.open_dataset('europa.nc').t2m.sel(time='20200731').plot(ax=ax1)\n",
        "t2 = xr.open_dataset('peninsula.nc').t2m.sel(time='20200731').plot(ax=ax2)"
      ],
      "metadata": {
        "id": "MRFn0tjqEJso"
      },
      "execution_count": null,
      "outputs": []
    },
    {
      "cell_type": "markdown",
      "source": [
        "###Ejemplo: remuestreo (sin interpolación)"
      ],
      "metadata": {
        "id": "o90Odn9XwPo7"
      }
    },
    {
      "cell_type": "code",
      "source": [
        "# Remuestreo (no requiere interpolación)\n",
        "# --------------------------------------------\n",
        "!cdo samplegrid,4 peninsula.nc remuestreo_4.nc"
      ],
      "metadata": {
        "id": "tFXnEdTOSPXZ"
      },
      "execution_count": null,
      "outputs": []
    },
    {
      "cell_type": "code",
      "source": [
        "fig,(ax1,ax2) = plt.subplots(1,2, figsize=(12,4))\n",
        "xr.open_dataset('peninsula.nc').t2m.sel(time='20200731').plot(ax=ax1)\n",
        "xr.open_dataset('remuestreo_4.nc').t2m.sel(time='20200731').plot(ax=ax2)"
      ],
      "metadata": {
        "id": "aOO_Uy28Skeo"
      },
      "execution_count": null,
      "outputs": []
    },
    {
      "cell_type": "code",
      "source": [
        "# Limpieza\n",
        "# ---------\n",
        "!rm -f europa_*.nc peninsula_*.nc"
      ],
      "metadata": {
        "id": "sNKWkpomE329"
      },
      "execution_count": null,
      "outputs": []
    },
    {
      "cell_type": "markdown",
      "source": [
        "##Operadores de [selección condicional](https://code.mpimet.mpg.de/projects/cdo/embedded/index.html#x1-2180002.4)\n",
        "---"
      ],
      "metadata": {
        "id": "kyXVeJMYTdet"
      }
    },
    {
      "cell_type": "markdown",
      "source": [
        "Permiten extraer datos de un campo en base a una máscara. Los valores de la máscara pueden ser 0 (falso) o superiores a cero (verdadero)."
      ],
      "metadata": {
        "id": "Eqr8Oklcc_wh"
      }
    },
    {
      "cell_type": "markdown",
      "source": [
        "###Ejemplo: uso de una máscara tierra-mar"
      ],
      "metadata": {
        "id": "oDEhI7YsxKaj"
      }
    },
    {
      "cell_type": "code",
      "source": [
        "# Esta máscara tiene valor 1 en tierra y valor 0 en el mar\n",
        "# --------------------------------------------------------\n",
        "!cdo showatts mascara_tierra_mar.nc"
      ],
      "metadata": {
        "id": "dY2e4aw_bVU1"
      },
      "execution_count": null,
      "outputs": []
    },
    {
      "cell_type": "code",
      "source": [
        "# Extraemos la temperatura de un día cualquiera\n",
        "# ----------------------------------------------\n",
        "!cdo select,name=t2m,date=2020-07-24T12:00:00 era5_2000.nc t.nc"
      ],
      "metadata": {
        "id": "knwifghbTcnt"
      },
      "execution_count": null,
      "outputs": []
    },
    {
      "cell_type": "code",
      "source": [
        "# Aplicamos la máscara para seleccionar solo los valores de temperatura en tierra\n",
        "# --------------------------------------------------------------------------------\n",
        "!cdo ifthen   mascara_tierra_mar.nc   t.nc   temperatura_tierra.nc"
      ],
      "metadata": {
        "id": "YJZHQnjaYBQg"
      },
      "execution_count": null,
      "outputs": []
    },
    {
      "cell_type": "code",
      "source": [
        "!cdo showvar temperatura_tierra.nc"
      ],
      "metadata": {
        "id": "VFKl4FIEYoyO"
      },
      "execution_count": null,
      "outputs": []
    },
    {
      "cell_type": "code",
      "source": [
        "fig,(ax1,ax2,ax3) = plt.subplots(1,3, figsize=(16,4))\n",
        "xr.open_dataset('t.nc').t2m.isel(time=0).plot(ax=ax1)\n",
        "xr.open_dataset('mascara_tierra_mar.nc').lsm.isel(time=0).plot(ax=ax2)\n",
        "xr.open_dataset('temperatura_tierra.nc').t2m.isel(time=0).plot(ax=ax3)"
      ],
      "metadata": {
        "id": "QuUHB6ZSWeBB"
      },
      "execution_count": null,
      "outputs": []
    },
    {
      "cell_type": "code",
      "source": [
        "# Para seleccionar la temperatura en el mar\n",
        "# Ahora encadenamos los operadores\n",
        "#------------------------------------------\n",
        "!cdo -ifnotthen  mascara_tierra_mar.nc -select,name=t2m,date=2020-07-24T12:00:00 era5_2000.nc  temperatura_mar.nc"
      ],
      "metadata": {
        "id": "DKKljubse9hH"
      },
      "execution_count": null,
      "outputs": []
    },
    {
      "cell_type": "code",
      "source": [
        "fig,(ax1,ax2,ax3) = plt.subplots(1,3, figsize=(16,4))\n",
        "xr.open_dataset('t.nc').t2m.isel(time=0).plot(ax=ax1)\n",
        "xr.open_dataset('mascara_tierra_mar.nc').lsm.isel(time=0).plot(ax=ax2)\n",
        "xr.open_dataset('temperatura_mar.nc').t2m.isel(time=0).plot(ax=ax3)"
      ],
      "metadata": {
        "id": "CcQQw_J_fNJz"
      },
      "execution_count": null,
      "outputs": []
    },
    {
      "cell_type": "markdown",
      "source": [
        "también es posible asignar un valor constante al área enmascarada"
      ],
      "metadata": {
        "id": "XRwWWUH1gNwF"
      }
    },
    {
      "cell_type": "code",
      "source": [
        "# Selección de la temperatura del mar en invierno y la de tierra en verano\n",
        "#------------------------------------------------------------------------------\n",
        "!cdo -select,name='t2m',date='2020-06-22T12:00:00' era5_2000.nc t_verano.nc\n",
        "!cdo -select,name='t2m',date='2020-12-22T12:00:00' era5_2000.nc t_invierno.nc\n",
        "!cdo -ifthenelse  mascara_tierra_mar.nc t_verano.nc t_invierno.nc hibrido.nc"
      ],
      "metadata": {
        "id": "W5U1s1tfgWe5"
      },
      "execution_count": null,
      "outputs": []
    },
    {
      "cell_type": "code",
      "source": [
        "fig,(ax1,ax2,ax3) = plt.subplots(1,3, figsize=(16,4))\n",
        "xr.open_dataset('t_verano.nc').t2m.isel(time=0).plot(ax=ax1,cmap='rainbow',vmin=280,vmax=320)\n",
        "xr.open_dataset('t_invierno.nc').t2m.isel(time=0).plot(ax=ax2,cmap='rainbow',vmin=280,vmax=320)\n",
        "xr.open_dataset('hibrido.nc').t2m.isel(time=0).plot(ax=ax3,cmap='rainbow',vmin=280,vmax=320)"
      ],
      "metadata": {
        "id": "EFUlqKZAlThp"
      },
      "execution_count": null,
      "outputs": []
    },
    {
      "cell_type": "markdown",
      "source": [
        "## Operadores de [comparación](https://code.mpimet.mpg.de/projects/cdo/embedded/index.html#x1-2390002.5)\n",
        "---"
      ],
      "metadata": {
        "id": "xTe_NFZhp4Lf"
      }
    },
    {
      "cell_type": "markdown",
      "source": [
        "Realizan comparaciones numéricas entre campos y guardan el resultado (ceros y unos) en un nuevo fichero que puede ser usado como máscara en otras operaciones."
      ],
      "metadata": {
        "id": "tZzgYWP-xuLX"
      }
    },
    {
      "cell_type": "markdown",
      "source": [
        "###Ejemplo: creación de una máscara"
      ],
      "metadata": {
        "id": "DpUbdu0YqSbm"
      }
    },
    {
      "cell_type": "code",
      "source": [
        "# Selección de datos de temperatura del 1 de julio de 2020\n",
        "# -----------------------------------------------------------\n",
        "!cdo -select,name='t2m',date='2020-07-01T12:00:00'  era5_2000.nc julio.nc\n",
        "# Selección de datos de temperatura del 1 de agosto de 2020\n",
        "# -----------------------------------------------------------\n",
        "!cdo -select,name='t2m',date='2020-08-01T12:00:00'  era5_2000.nc agosto.nc\n",
        "\n",
        "# Creación de una máscara que toma valor 1 si la temperatura en julio supera la de agosto\n",
        "# La opción -b F32 se asegura de que la comparación se realiza con la precisión necesaria\n",
        "# ----------------------------------------------------------------------------------------\n",
        "!cdo -b F32 -gt   julio.nc   agosto.nc   julio_mayor_que_agosto.nc"
      ],
      "metadata": {
        "id": "b1anj0-3qe0y"
      },
      "execution_count": null,
      "outputs": []
    },
    {
      "cell_type": "code",
      "source": [
        "fig,(ax1,ax2,ax3) = plt.subplots(1,3, figsize=(16,4))\n",
        "xr.open_dataset('julio.nc').t2m.isel(time=0).plot(ax=ax1,cmap='rainbow',vmin=280,vmax=320)\n",
        "xr.open_dataset('agosto.nc').t2m.isel(time=0).plot(ax=ax2,cmap='rainbow',vmin=280,vmax=320)\n",
        "xr.open_dataset('julio_mayor_que_agosto.nc').t2m.isel(time=0).plot(ax=ax3,cmap='rainbow',vmin=0,vmax=1)"
      ],
      "metadata": {
        "id": "Rc8M9LZSr0Cw"
      },
      "execution_count": null,
      "outputs": []
    },
    {
      "cell_type": "markdown",
      "source": [
        "##Operadores de [modificación](https://code.mpimet.mpg.de/projects/cdo/embedded/index.html#x1-2510002.6)\n",
        "---"
      ],
      "metadata": {
        "id": "AMnbq_PZ1LxZ"
      }
    },
    {
      "cell_type": "markdown",
      "source": [
        "Realizan cambios en los datos o en los metadatos. Las posibilidades son muy diversas."
      ],
      "metadata": {
        "id": "TbcyupRe_h4W"
      }
    },
    {
      "cell_type": "markdown",
      "source": [
        "###Ejemplo: cambio o adición de atributos NetCDF"
      ],
      "metadata": {
        "id": "e6FTNVZ01V50"
      }
    },
    {
      "cell_type": "code",
      "source": [
        "# Atributos antes\n",
        "# ---------------------\n",
        "!cdo showatts agosto.nc\n",
        "\n",
        "# Añadimos un atributo local a la variable t2m\n",
        "# ----------------------------------------------\n",
        "!cdo setattribute,t2m@nuevo_atributo=\"propiedad interesante\" agosto.nc tmp\n",
        "\n",
        "# Añadimos un atributo global\n",
        "# ----------------------------------------------\n",
        "!cdo setattribute,fiabilidad=\"Alta\" tmp agosto_mod.nc\n",
        "\n",
        "# Borra el fichero intermedio\n",
        "# ----------------------------\n",
        "!rm -f tmp\n",
        "\n",
        "# Atributos después\n",
        "# -------------------\n",
        "!cdo showatts agosto_mod.nc"
      ],
      "metadata": {
        "id": "cWIDvbT_1mKZ"
      },
      "execution_count": null,
      "outputs": []
    },
    {
      "cell_type": "code",
      "source": [
        "# Versión que encadena la adición de los dos atributos\n",
        "# ----------------------------------------------------\n",
        "!cdo -O -setattribute,t2m@nuevo_atributo=\"propiedad interesante\" -setattribute,fiabilidad=\"Alta\" agosto.nc agosto_modificado.nc"
      ],
      "metadata": {
        "id": "_tBmhSSn5BFe"
      },
      "execution_count": null,
      "outputs": []
    },
    {
      "cell_type": "markdown",
      "source": [
        "###Ejemplo: invertir el orden de las latitudes"
      ],
      "metadata": {
        "id": "BM5aTNJm__2r"
      }
    },
    {
      "cell_type": "code",
      "source": [
        "# Invierte el sentido del eje de latitudes\n",
        "# ----------------------------------------\n",
        "!cdo sinfo julio.nc\n",
        "!cdo invertlat julio.nc julio_invlat.nc\n",
        "!cdo sinfo julio_invlat.nc"
      ],
      "metadata": {
        "id": "oktEOF966JU9"
      },
      "execution_count": null,
      "outputs": []
    },
    {
      "cell_type": "code",
      "source": [
        "# Para algunas aplicaciones es preferible tener un eje de latitudes crecientes\n",
        "# Por ejemplo, esta extracción de un rango de latitudes en xarray da un error\n",
        "# porque en el fichero las latitudes están dispuestas de mayor a menor\n",
        "# --------------------------------------------------------------------------------\n",
        "# xr.open_dataset('julio.nc').t2m.isel(time=0).sel(latitude=slice(25,55)).plot()\n",
        "\n",
        "# Con el fichero modificado funciona sin problemas\n",
        "# --------------------------------------------------\n",
        "xr.open_dataset('julio_invlat.nc').t2m.isel(time=0).sel(latitude=slice(25,55)).plot(size=4)"
      ],
      "metadata": {
        "id": "FfOQcWSngNNq"
      },
      "execution_count": null,
      "outputs": []
    },
    {
      "cell_type": "markdown",
      "source": [
        "###Invalidación de datos mediante un área 'rectangular'"
      ],
      "metadata": {
        "id": "BJodzYZ4BMSz"
      }
    },
    {
      "cell_type": "markdown",
      "source": [
        "Para especificar una ventana delimitada por paralelos y meridianos basta con indicar las latitudes y longitudes de los contornos con el operador *masklonlatbox*\n",
        "\n",
        "Los valores exteriores al área definida se etiquetan como no válidos"
      ],
      "metadata": {
        "id": "5buPZrwdB80w"
      }
    },
    {
      "cell_type": "code",
      "source": [
        "# Enmascaramos los datos en el exterior de la región\n",
        "# Los valores se etiquetan como no válidos (missing)\n",
        "# ---------------------------------------------------\n",
        "!cdo -O masklonlatbox,-25,5,30,50 agosto.nc region.nc\n",
        "\n",
        "# Datos de temperatura en el interior de la región\n",
        "# --------------------------------------------------\n",
        "xr.open_dataset('region.nc').t2m.isel(time=0).plot(size=4)"
      ],
      "metadata": {
        "id": "YLaaHQ6YBfFM"
      },
      "execution_count": null,
      "outputs": []
    },
    {
      "cell_type": "markdown",
      "source": [
        "###Ejemplo: retención de datos mediante un área arbitraria"
      ],
      "metadata": {
        "id": "UJXo2EMGAJl6"
      }
    },
    {
      "cell_type": "code",
      "source": [
        "# Definimos una región indicando las coordenadas de los vértices\n",
        "# ---------------------------------------------------------------\n",
        "!rm -f             region.txt\n",
        "!echo \"-5 30\"   >> region.txt\n",
        "!echo \"-15 40\"  >> region.txt\n",
        "!echo \"-5 50\"   >> region.txt\n",
        "!echo \"5 40\"    >> region.txt"
      ],
      "metadata": {
        "id": "3eKd9vuz88_L"
      },
      "execution_count": null,
      "outputs": []
    },
    {
      "cell_type": "code",
      "source": [
        "# Enmascaramos los datos en el exterior de la región\n",
        "# Los valores se etiquetan como no válidos (missing)\n",
        "# ---------------------------------------------------\n",
        "!cdo maskregion,region.txt agosto.nc region.nc"
      ],
      "metadata": {
        "id": "fkH9-Wxf9lre"
      },
      "execution_count": null,
      "outputs": []
    },
    {
      "cell_type": "code",
      "source": [
        "# Datos de temperatura en el interior de la región\n",
        "# --------------------------------------------------\n",
        "xr.open_dataset('region.nc').t2m.isel(time=0).plot(size=4)"
      ],
      "metadata": {
        "id": "sP6m6N5Y9zgn"
      },
      "execution_count": null,
      "outputs": []
    },
    {
      "cell_type": "markdown",
      "source": [
        "###Ejemplo: invalidación de datos por valor"
      ],
      "metadata": {
        "id": "L8pXBp_UCsEP"
      }
    },
    {
      "cell_type": "markdown",
      "source": [
        "A veces es necesario invalidar determinados datos para que no sean tenidos en cuenta en el cómputo"
      ],
      "metadata": {
        "id": "eJdtu4jpCvB0"
      }
    },
    {
      "cell_type": "code",
      "source": [
        "# Invalidamos los datos de temperatura en el rango 293-298 K (20-25ºC)\n",
        "# ----------------------------------------------------------------------\n",
        "!cdo setrtomiss,293,298 julio.nc  julio_sin_293-298K.nc\n",
        "\n",
        "# Muestra el mapa sin los valores anulados\n",
        "# --------------------------------------------------------------------\n",
        "xr.open_dataset('julio_sin_293-298K.nc').t2m.isel(time=0).plot(size=4)"
      ],
      "metadata": {
        "id": "q-7IYPn1CtsJ"
      },
      "execution_count": null,
      "outputs": []
    },
    {
      "cell_type": "markdown",
      "source": [
        "##Operadores de [aritmética](https://code.mpimet.mpg.de/projects/cdo/embedded/index.html#x1-3370002.7)\n",
        "---"
      ],
      "metadata": {
        "id": "0SobX5eMGkBO"
      }
    },
    {
      "cell_type": "markdown",
      "source": [
        "Resultan extremadamente útiles los operadores que permiten calcular nuevos campos actuando sobre los existentes.\n",
        "\n",
        "* **expr**:  evalúa expresiones aritméticas que se guardan en un nuevo fichero\n",
        "* **aexpr**:  evalúa expresiones aritméticas que se anexan al fichero original\n",
        "\n",
        "\n",
        "Cuando las expresiones son complicadas o involucran a varios campos puede ser más conveniente que definirlas en un script independiente. En ese caso, los operadores a utilizar son:\n",
        "\n",
        "* **exprf**  \n",
        "* **aexprf**"
      ],
      "metadata": {
        "id": "8qIBDEcSGxY9"
      }
    },
    {
      "cell_type": "markdown",
      "source": [
        "###Ejemplo: nuevo campo de velocidad de viento a partir de componentes vectoriales"
      ],
      "metadata": {
        "id": "NAbz8siQDkCb"
      }
    },
    {
      "cell_type": "code",
      "source": [
        "!cdo seldate,'2020-12-24T12:00:00' era5_2000.nc xmas.nc\n",
        "!cdo showvar xmas.nc"
      ],
      "metadata": {
        "id": "Z9LbvIigJStz"
      },
      "execution_count": null,
      "outputs": []
    },
    {
      "cell_type": "markdown",
      "source": [
        "En este ejemplo el fichero de salida solo contiene el campo creado"
      ],
      "metadata": {
        "id": "wSigTUMWQNS7"
      }
    },
    {
      "cell_type": "code",
      "source": [
        "# Calcula el módulo del vector de viento\n",
        "# ---------------------------------------------\n",
        "!cdo expr,viento='sqrt(u10*u10+v10*v10)' xmas.nc xmas_viento.nc\n",
        "\n",
        "# Tenemos una única variable llamada 'viento'\n",
        "# --------------------------------------------\n",
        "!cdo showvar xmas_viento.nc"
      ],
      "metadata": {
        "id": "i_qpUZ3FKFbC"
      },
      "execution_count": null,
      "outputs": []
    },
    {
      "cell_type": "markdown",
      "source": [
        "En la versión que usa aexpr en lugar de expr el fichero de salida contiene tanto las variables antiguas como las nuevas"
      ],
      "metadata": {
        "id": "Lv4TBHEyQa2T"
      }
    },
    {
      "cell_type": "code",
      "source": [
        "# Crea una nueva variable con el módulo del viento\n",
        "# Crea una nueva variable con la temperatura en ºC\n",
        "# -------------------------------------------------\n",
        "!cdo -O aexpr,viento='sqrt(u10*u10+v10*v10);tc=t2m-273.15;' xmas.nc xmas_viento.nc\n",
        "\n",
        "# Tenemos todas las variables en el nuevo fichero\n",
        "# --------------------------------------------\n",
        "!cdo showvar xmas_viento.nc"
      ],
      "metadata": {
        "id": "OT9itJeiOww2"
      },
      "execution_count": null,
      "outputs": []
    },
    {
      "cell_type": "code",
      "source": [
        "# Dibujamos el campo de velocidad del viento (módulo del vector) recién creado\n",
        "# -----------------------------------------------------------------------------\n",
        "xr.open_dataset('xmas_viento.nc').viento.isel(time=0).plot(size=5, cmap='jet')\n",
        "\n",
        "\n",
        "# # ¿Añadimos los vectores al gráfico?\n",
        "# # --------------------------------------\n",
        "# xr.open_dataset('xmas.nc').isel(time=0).thin({'longitude':5,'latitude':5}).plot.quiver(x='longitude',y='latitude',u='u10',v='v10')\n"
      ],
      "metadata": {
        "id": "BLwYbx6XGeQv"
      },
      "execution_count": null,
      "outputs": []
    },
    {
      "cell_type": "markdown",
      "source": [
        "###Ejemplo: conversión de temperaturas de Kelvin a grados centígrados"
      ],
      "metadata": {
        "id": "sp_LGlouEa8a"
      }
    },
    {
      "cell_type": "markdown",
      "source": [
        "Es posible aplicar operaciones aritméticas sobre los ficheros involucrando constantes. Por ejemplo, el cambio de unidades de la temperatura se puede llevar a cabo de esta otra manera:\n",
        "\n"
      ],
      "metadata": {
        "id": "5xxdlNUPSX7O"
      }
    },
    {
      "cell_type": "code",
      "source": [
        "!cdo -b F32 -addc,-273.15 -selvar,t2m xmas.nc tc_xmas.nc\n",
        "\n",
        "xr.open_dataset('tc_xmas.nc').t2m.isel(time=0).plot(size=5, cmap='jet')"
      ],
      "metadata": {
        "id": "7I8JUtA0Se_j"
      },
      "execution_count": null,
      "outputs": []
    },
    {
      "cell_type": "markdown",
      "source": [
        "###Ejemplo: diferencia de campos"
      ],
      "metadata": {
        "id": "XuFTqZoQJlu-"
      }
    },
    {
      "cell_type": "markdown",
      "source": [
        "También se pueden realizar determinadas operaciones en pares de ficheros"
      ],
      "metadata": {
        "id": "a2FDNNA8VLCo"
      }
    },
    {
      "cell_type": "code",
      "source": [
        "!cdo -b F32 sub agosto.nc julio.nc diferencia_julio_agosto.nc\n",
        "\n",
        "xr.open_dataset('tc_xmas.nc').t2m.isel(time=0).plot(size=5, cmap='seismic')"
      ],
      "metadata": {
        "id": "A-4PWzx-Vm54"
      },
      "execution_count": null,
      "outputs": []
    },
    {
      "cell_type": "markdown",
      "source": [
        "###Ejemplo: cálculo de anomalías encadenando operadores"
      ],
      "metadata": {
        "id": "OVrGWhNvdjzC"
      }
    },
    {
      "cell_type": "code",
      "source": [
        "# Extrae solamente los campos de temperatura y pasa de Kelvin a ºC\n",
        "# --------------------------------------------------------------------\n",
        "!cdo -b F32  -addc,-273.15 -selvar,t2m  era5_2000.nc   tc.nc\n",
        "\n",
        "# En cada punto de rejilla sustraemos el promedio mensual de temperatura\n",
        "# --------------------------------------------------------------------\n",
        "!cdo -b F32  -monsub tc.nc -monavg  tc.nc  tc_sin_variacion_estacional.nc\n"
      ],
      "metadata": {
        "id": "1QqliETFXhYm"
      },
      "execution_count": null,
      "outputs": []
    },
    {
      "cell_type": "code",
      "source": [
        "# Dibujamos la serie temporal de anomalías correspondiente a Madrid\n",
        "# ------------------------------------------------------------------\n",
        "fig,(ax1,ax2)=plt.subplots(2,1)\n",
        "xr.open_dataset('tc.nc').t2m.sel(longitude=-3,latitude=40, method='nearest').plot(ax=ax1)\n",
        "xr.open_dataset('tc_sin_variacion_estacional.nc').t2m.sel(longitude=-3,latitude=40, method='nearest').plot(ax=ax2)\n",
        "plt.tight_layout()"
      ],
      "metadata": {
        "id": "IDK6NPKVeVQ7"
      },
      "execution_count": null,
      "outputs": []
    },
    {
      "cell_type": "markdown",
      "source": [
        "###Ejemplo: añadir nuevos campos con sus atributos"
      ],
      "metadata": {
        "id": "CyfJJfhXMCPm"
      }
    },
    {
      "cell_type": "code",
      "source": [
        "# Escribimos las instrucciones en un fichero terminadas con punto y coma\n",
        "# -----------------------------------------------------------------------\n",
        "! rm -f operaciones.txt\n",
        "! echo 'viento=sqrt(u10*u10+v10*v10);' >  operaciones.txt\n",
        "! echo 'tc=t2m-273.15;'                >> operaciones.txt\n",
        "\n",
        "# Realizamos las operaciones y guardamos los resultados en\n",
        "# un fichero independiente. Si quisiéramos anexar las nuevas\n",
        "# variables en el fichero original usaríamos el operador 'aexprf'\n",
        "# ----------------------------------------------------------------\n",
        "!cdo -O -setattribute,tc@info='Temperatura 2m',tc@unidades='°C',viento@info='viento a 10m',viento@unidades='m/s' -exprf,operaciones.txt xmas.nc xmas_viento.nc"
      ],
      "metadata": {
        "id": "YzLnLirqrvLA"
      },
      "execution_count": null,
      "outputs": []
    },
    {
      "cell_type": "code",
      "source": [
        "# Comprobamos el resultado\n",
        "# ------------------------------\n",
        "!cdo showatts xmas_viento.nc"
      ],
      "metadata": {
        "id": "vyYu3dEftZDo"
      },
      "execution_count": null,
      "outputs": []
    },
    {
      "cell_type": "markdown",
      "source": [
        "#Operadores [estadísticos](https://code.mpimet.mpg.de/projects/cdo/embedded/index.html#x1-4040002.8)\n",
        "---"
      ],
      "metadata": {
        "id": "ifplOsavwnLk"
      }
    },
    {
      "cell_type": "markdown",
      "source": [
        "Hay más de 250 operadores estadísticos en CDO.\n",
        "\n",
        "Dos cosas importantes a tener en cuenta:\n",
        "\n",
        "* cdo distingue entre los conceptos de 'mean' y 'average'. El primero descarta los valores no válidos (*missing*) mientras que el segundo no:\n",
        "\n",
        ">>mean(1,2,3, missing) = 2\n",
        "\n",
        ">>average(1,2,3, missing) = missing\n",
        "\n",
        ">>Si no hay valores 'missing' ambas operaciones dan el mismo resultado.\n",
        "\n",
        "* Cuando se calculan valores medios en rejillas latitud-longitud, el resultado se pondera por defecto con el área de los elementos de superficie.\n",
        "\n",
        "![image.png](data:image/png;base64,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)\n"
      ],
      "metadata": {
        "id": "WrdcZPSszaQM"
      }
    },
    {
      "cell_type": "markdown",
      "source": [
        "###Ejemplo: Resultados de promedios calculados con **mean** y **average**"
      ],
      "metadata": {
        "id": "fkIEAyukMzcI"
      }
    },
    {
      "cell_type": "code",
      "source": [
        "# Extraemos la temperatura del día 2 de febrero de 2020\n",
        "# Etiquetamos los valores comprendidos entre 273 y 300 K como inválidos (missing)\n",
        "# Calculamos el valor medio con 'mean' en el dominio geográfico teniendo en cuenta las áreas de cada elemento\n",
        "# Exportamos el resultado en formato tabular\n",
        "# ---------------------------------------------------------------------------------------------------\n",
        "!cdo -s -outputtab,date,lon,lat,value [ -fldmean   -setrtomiss,273,300  -select,name=t2m,date=2020-02-06T12:00:00 era5_2000.nc ]\n",
        "\n",
        "\n",
        "# Lo mismo pero calculando el valor medio con 'average'\n",
        "# -----------------------------------------------------\n",
        "!cdo -s -outputtab,date,lon,lat,value [ -fldavg    -setrtomiss,273,300  -select,name=t2m,date=2020-02-06T12:00:00 era5_2000.nc ]"
      ],
      "metadata": {
        "id": "Sle39Tqrwj70"
      },
      "execution_count": null,
      "outputs": []
    },
    {
      "cell_type": "markdown",
      "source": [
        "# Ejemplo: medias zonales (en longitud) y meridionales (en latitud)"
      ],
      "metadata": {
        "id": "nO5HwyR4NMTG"
      }
    },
    {
      "cell_type": "code",
      "source": [
        "# Extraemos la temperatura del día 10 de enero de 2020\n",
        "# ----------------------------------------------------\n",
        "!cdo -select,name=t2m,date=2020-01-10T12:00:00 era5_2000.nc t.nc\n",
        "\n",
        "# Calculamos la media zonal\n",
        "# ------------------------------------\n",
        "!cdo -zonmean t.nc media_zonal.nc\n",
        "\n",
        "# Calculamos la media meridional\n",
        "# ------------------------------------\n",
        "!cdo -mermean t.nc media_meridional.nc"
      ],
      "metadata": {
        "id": "3nHi26Mz9B1X"
      },
      "execution_count": null,
      "outputs": []
    },
    {
      "cell_type": "code",
      "source": [
        "# Representamos gráficamente los resultados\n",
        "# -------------------------------------------\n",
        "fig,(ax1,ax2,ax3) = plt.subplots(1,3, figsize=(12,3))\n",
        "xr.open_dataset('t.nc').t2m.plot(ax=ax1, cmap='jet')\n",
        "xr.open_dataset('media_zonal.nc').t2m.plot(ax=ax2)\n",
        "xr.open_dataset('media_meridional.nc').t2m.plot(ax=ax3)\n",
        "ax2.set_title('Media zonal de temperatura a 2m')\n",
        "ax3.set_title('Media meridional de temperatura a 2m')\n",
        "plt.tight_layout()"
      ],
      "metadata": {
        "id": "oMUxqdnA_B9s"
      },
      "execution_count": null,
      "outputs": []
    },
    {
      "cell_type": "markdown",
      "source": [
        "#Operadores de [interpolación](https://code.mpimet.mpg.de/projects/cdo/embedded/index.html#x1-6650002.12)"
      ],
      "metadata": {
        "id": "eUNFV-2Kmd7s"
      }
    },
    {
      "cell_type": "markdown",
      "source": [
        "* Existen múltiples opciones de interpolación que benefician de la ejecución paralela.\n",
        "\n",
        "* Los procesos de pueden optimizar guardando un fichero de pesos de interpolación"
      ],
      "metadata": {
        "id": "g08PGbdRNco-"
      }
    },
    {
      "cell_type": "markdown",
      "source": [
        "###Ejemplo: interpolaciones bilineales y bicúbicas"
      ],
      "metadata": {
        "id": "oKi1ZMtGODdS"
      }
    },
    {
      "cell_type": "markdown",
      "source": [
        "El fichero de temperaturas t.nc tiene una resolución espacial de 0.25º y un área limitada por los paralelos 20N y 60N y los meridianos 30W y 10E.\n",
        "\n",
        "Para obtener una interpolación bilineal con resolución de 0.05º solo necesitamos consignar en un fichero de texto los siguientes datos:\n",
        "\n",
        "la coordenada de partida,\n",
        "\n",
        "* xfirst = -30\n",
        "* yfirst =  10\n",
        "\n",
        "la resolución deseada,\n",
        "\n",
        "* xinc  = 0.05\n",
        "* yinc  = 0.05\n",
        "\n",
        "y el número de puntos de rejilla resultante en la nueva resolución,\n",
        "\n",
        "* xsize = |lon1 - lon2| / resolución + 1 = 801\n",
        "* ysize = |lat1 - lat2| / resolución + 1 = 801\n",
        "\n",
        "Si estuviéramos interesados en un recorte xsize e ysize deberían ajustarse como corresponda.\n"
      ],
      "metadata": {
        "id": "PZRthyaFnZIE"
      }
    },
    {
      "cell_type": "code",
      "source": [
        "!echo \"gridtype  = lonlat\"  >  gridfile\n",
        "!echo \"xsize     = 801\"     >> gridfile\n",
        "!echo \"ysize     = 801\"     >> gridfile\n",
        "!echo \"xfirst    = -30.0\"   >> gridfile\n",
        "!echo \"xinc      =  0.05\"    >> gridfile\n",
        "!echo \"yfirst    = 60.0\"    >> gridfile\n",
        "!echo \"yinc      = -0.05\"    >> gridfile\n",
        "\n",
        "# Interpolación bilineal\n",
        "# -----------------------\n",
        "!cdo remapbil,gridfile t.nc t_005.nc\n",
        "\n",
        "\n",
        "# # Interpolación bicúbica\n",
        "# # -----------------------\n",
        "# !cdo remapbic,gridfile t.nc t_005.nc"
      ],
      "metadata": {
        "id": "aLIogBNsnHiO"
      },
      "execution_count": null,
      "outputs": []
    },
    {
      "cell_type": "code",
      "source": [
        "!echo \"gridtype  = lonlat\"  >  gridfile\n",
        "!echo \"xsize     = 4001\"     >> gridfile\n",
        "!echo \"ysize     = 4001\"     >> gridfile\n",
        "!echo \"xfirst    = -30.0\"   >> gridfile\n",
        "!echo \"xinc      =  0.01\"    >> gridfile\n",
        "!echo \"yfirst    = 60.0\"    >> gridfile\n",
        "!echo \"yinc      = -0.01\"    >> gridfile\n",
        "\n",
        "# Interpolación bicúbica sin paralelización\n",
        "# -----------------------------------------\n",
        "!time cdo remapbic,gridfile t.nc t_001.nc\n",
        "\n",
        "\n",
        "# Interpolación bicúbica con paralelización\n",
        "# -----------------------------------------\n",
        "!time cdo -P 2 remapbic,gridfile t.nc t_001.nc"
      ],
      "metadata": {
        "id": "iaVOpttgln8S",
        "outputId": "026b9f89-9005-44e4-d015-816cd9e60370",
        "colab": {
          "base_uri": "https://localhost:8080/"
        }
      },
      "execution_count": 109,
      "outputs": [
        {
          "output_type": "stream",
          "name": "stdout",
          "text": [
            "\u001b[32mcdo    remapbic: \u001b[0mProcessed 25921 values from 1 variable over 1 timestep [18.85s 6299MB]\n",
            "\n",
            "real\t0m18.900s\n",
            "user\t0m10.479s\n",
            "sys\t0m7.846s\n",
            "^C\n"
          ]
        }
      ]
    },
    {
      "cell_type": "code",
      "source": [
        "# Representamos gráficamente haciendo un zoom\n",
        "# en una ventana para apreciar mejor los detalles\n",
        "# ------------------------------------------------\n",
        "fig,(ax1,ax2) = plt.subplots(1,2, figsize=(10,4))\n",
        "ds = xr.open_dataset('t.nc').t2m.isel(time=0).sel(longitude=slice(-7.5,2.5),latitude=slice(44,40))\n",
        "ds.plot(ax=ax1, cmap='jet')\n",
        "c=ds.plot.contour(ax=ax1,levels=range(270,320,2),colors='black',add_labels=True)\n",
        "ax1.clabel(c,c.levels)\n",
        "ax1.set_title('Resolución = 0.25º')\n",
        "\n",
        "ds = xr.open_dataset('t_001.nc').t2m.isel(time=0).sel(lon=slice(-7.5,2.5),lat=slice(44,40))\n",
        "ds.plot(ax=ax2, cmap='jet')\n",
        "c = ds.plot.contour(ax=ax2,levels=range(270,320,2),colors='black',add_labels=True)\n",
        "ax2.clabel(c,c.levels)\n",
        "ax2.set_title('Resolución = 0.01º')\n",
        "\n",
        "plt.tight_layout()"
      ],
      "metadata": {
        "id": "8QOAG65asqAF",
        "outputId": "d682dc37-623b-4f52-d8a5-b7111a787707",
        "colab": {
          "base_uri": "https://localhost:8080/",
          "height": 789
        }
      },
      "execution_count": 110,
      "outputs": [
        {
          "output_type": "error",
          "ename": "IndexError",
          "evalue": "ignored",
          "traceback": [
            "\u001b[0;31m---------------------------------------------------------------------------\u001b[0m",
            "\u001b[0;31mIndexError\u001b[0m                                Traceback (most recent call last)",
            "\u001b[0;32m<ipython-input-110-fdf0007d7656>\u001b[0m in \u001b[0;36m<cell line: 11>\u001b[0;34m()\u001b[0m\n\u001b[1;32m      9\u001b[0m \u001b[0max1\u001b[0m\u001b[0;34m.\u001b[0m\u001b[0mset_title\u001b[0m\u001b[0;34m(\u001b[0m\u001b[0;34m'Resolución = 0.25º'\u001b[0m\u001b[0;34m)\u001b[0m\u001b[0;34m\u001b[0m\u001b[0;34m\u001b[0m\u001b[0m\n\u001b[1;32m     10\u001b[0m \u001b[0;34m\u001b[0m\u001b[0m\n\u001b[0;32m---> 11\u001b[0;31m \u001b[0mds\u001b[0m \u001b[0;34m=\u001b[0m \u001b[0mxr\u001b[0m\u001b[0;34m.\u001b[0m\u001b[0mopen_dataset\u001b[0m\u001b[0;34m(\u001b[0m\u001b[0;34m't_001.nc'\u001b[0m\u001b[0;34m)\u001b[0m\u001b[0;34m.\u001b[0m\u001b[0mt2m\u001b[0m\u001b[0;34m.\u001b[0m\u001b[0misel\u001b[0m\u001b[0;34m(\u001b[0m\u001b[0mtime\u001b[0m\u001b[0;34m=\u001b[0m\u001b[0;36m0\u001b[0m\u001b[0;34m)\u001b[0m\u001b[0;34m.\u001b[0m\u001b[0msel\u001b[0m\u001b[0;34m(\u001b[0m\u001b[0mlon\u001b[0m\u001b[0;34m=\u001b[0m\u001b[0mslice\u001b[0m\u001b[0;34m(\u001b[0m\u001b[0;34m-\u001b[0m\u001b[0;36m7.5\u001b[0m\u001b[0;34m,\u001b[0m\u001b[0;36m2.5\u001b[0m\u001b[0;34m)\u001b[0m\u001b[0;34m,\u001b[0m\u001b[0mlat\u001b[0m\u001b[0;34m=\u001b[0m\u001b[0mslice\u001b[0m\u001b[0;34m(\u001b[0m\u001b[0;36m44\u001b[0m\u001b[0;34m,\u001b[0m\u001b[0;36m40\u001b[0m\u001b[0;34m)\u001b[0m\u001b[0;34m)\u001b[0m\u001b[0;34m\u001b[0m\u001b[0;34m\u001b[0m\u001b[0m\n\u001b[0m\u001b[1;32m     12\u001b[0m \u001b[0mds\u001b[0m\u001b[0;34m.\u001b[0m\u001b[0mplot\u001b[0m\u001b[0;34m(\u001b[0m\u001b[0max\u001b[0m\u001b[0;34m=\u001b[0m\u001b[0max2\u001b[0m\u001b[0;34m,\u001b[0m \u001b[0mcmap\u001b[0m\u001b[0;34m=\u001b[0m\u001b[0;34m'jet'\u001b[0m\u001b[0;34m)\u001b[0m\u001b[0;34m\u001b[0m\u001b[0;34m\u001b[0m\u001b[0m\n\u001b[1;32m     13\u001b[0m \u001b[0mc\u001b[0m \u001b[0;34m=\u001b[0m \u001b[0mds\u001b[0m\u001b[0;34m.\u001b[0m\u001b[0mplot\u001b[0m\u001b[0;34m.\u001b[0m\u001b[0mcontour\u001b[0m\u001b[0;34m(\u001b[0m\u001b[0max\u001b[0m\u001b[0;34m=\u001b[0m\u001b[0max2\u001b[0m\u001b[0;34m,\u001b[0m\u001b[0mlevels\u001b[0m\u001b[0;34m=\u001b[0m\u001b[0mrange\u001b[0m\u001b[0;34m(\u001b[0m\u001b[0;36m270\u001b[0m\u001b[0;34m,\u001b[0m\u001b[0;36m320\u001b[0m\u001b[0;34m,\u001b[0m\u001b[0;36m2\u001b[0m\u001b[0;34m)\u001b[0m\u001b[0;34m,\u001b[0m\u001b[0mcolors\u001b[0m\u001b[0;34m=\u001b[0m\u001b[0;34m'black'\u001b[0m\u001b[0;34m,\u001b[0m\u001b[0madd_labels\u001b[0m\u001b[0;34m=\u001b[0m\u001b[0;32mTrue\u001b[0m\u001b[0;34m)\u001b[0m\u001b[0;34m\u001b[0m\u001b[0;34m\u001b[0m\u001b[0m\n",
            "\u001b[0;32m/usr/local/lib/python3.10/dist-packages/xarray/core/dataarray.py\u001b[0m in \u001b[0;36misel\u001b[0;34m(self, indexers, drop, missing_dims, **indexers_kwargs)\u001b[0m\n\u001b[1;32m   1396\u001b[0m         \u001b[0;31m# lists, or zero or one-dimensional np.ndarray's\u001b[0m\u001b[0;34m\u001b[0m\u001b[0;34m\u001b[0m\u001b[0m\n\u001b[1;32m   1397\u001b[0m \u001b[0;34m\u001b[0m\u001b[0m\n\u001b[0;32m-> 1398\u001b[0;31m         \u001b[0mvariable\u001b[0m \u001b[0;34m=\u001b[0m \u001b[0mself\u001b[0m\u001b[0;34m.\u001b[0m\u001b[0m_variable\u001b[0m\u001b[0;34m.\u001b[0m\u001b[0misel\u001b[0m\u001b[0;34m(\u001b[0m\u001b[0mindexers\u001b[0m\u001b[0;34m,\u001b[0m \u001b[0mmissing_dims\u001b[0m\u001b[0;34m=\u001b[0m\u001b[0mmissing_dims\u001b[0m\u001b[0;34m)\u001b[0m\u001b[0;34m\u001b[0m\u001b[0;34m\u001b[0m\u001b[0m\n\u001b[0m\u001b[1;32m   1399\u001b[0m         \u001b[0mindexes\u001b[0m\u001b[0;34m,\u001b[0m \u001b[0mindex_variables\u001b[0m \u001b[0;34m=\u001b[0m \u001b[0misel_indexes\u001b[0m\u001b[0;34m(\u001b[0m\u001b[0mself\u001b[0m\u001b[0;34m.\u001b[0m\u001b[0mxindexes\u001b[0m\u001b[0;34m,\u001b[0m \u001b[0mindexers\u001b[0m\u001b[0;34m)\u001b[0m\u001b[0;34m\u001b[0m\u001b[0;34m\u001b[0m\u001b[0m\n\u001b[1;32m   1400\u001b[0m \u001b[0;34m\u001b[0m\u001b[0m\n",
            "\u001b[0;32m/usr/local/lib/python3.10/dist-packages/xarray/core/variable.py\u001b[0m in \u001b[0;36misel\u001b[0;34m(self, indexers, missing_dims, **indexers_kwargs)\u001b[0m\n\u001b[1;32m   1320\u001b[0m \u001b[0;34m\u001b[0m\u001b[0m\n\u001b[1;32m   1321\u001b[0m         \u001b[0mkey\u001b[0m \u001b[0;34m=\u001b[0m \u001b[0mtuple\u001b[0m\u001b[0;34m(\u001b[0m\u001b[0mindexers\u001b[0m\u001b[0;34m.\u001b[0m\u001b[0mget\u001b[0m\u001b[0;34m(\u001b[0m\u001b[0mdim\u001b[0m\u001b[0;34m,\u001b[0m \u001b[0mslice\u001b[0m\u001b[0;34m(\u001b[0m\u001b[0;32mNone\u001b[0m\u001b[0;34m)\u001b[0m\u001b[0;34m)\u001b[0m \u001b[0;32mfor\u001b[0m \u001b[0mdim\u001b[0m \u001b[0;32min\u001b[0m \u001b[0mself\u001b[0m\u001b[0;34m.\u001b[0m\u001b[0mdims\u001b[0m\u001b[0;34m)\u001b[0m\u001b[0;34m\u001b[0m\u001b[0;34m\u001b[0m\u001b[0m\n\u001b[0;32m-> 1322\u001b[0;31m         \u001b[0;32mreturn\u001b[0m \u001b[0mself\u001b[0m\u001b[0;34m[\u001b[0m\u001b[0mkey\u001b[0m\u001b[0;34m]\u001b[0m\u001b[0;34m\u001b[0m\u001b[0;34m\u001b[0m\u001b[0m\n\u001b[0m\u001b[1;32m   1323\u001b[0m \u001b[0;34m\u001b[0m\u001b[0m\n\u001b[1;32m   1324\u001b[0m     \u001b[0;32mdef\u001b[0m \u001b[0msqueeze\u001b[0m\u001b[0;34m(\u001b[0m\u001b[0mself\u001b[0m\u001b[0;34m,\u001b[0m \u001b[0mdim\u001b[0m\u001b[0;34m=\u001b[0m\u001b[0;32mNone\u001b[0m\u001b[0;34m)\u001b[0m\u001b[0;34m:\u001b[0m\u001b[0;34m\u001b[0m\u001b[0;34m\u001b[0m\u001b[0m\n",
            "\u001b[0;32m/usr/local/lib/python3.10/dist-packages/xarray/core/variable.py\u001b[0m in \u001b[0;36m__getitem__\u001b[0;34m(self, key)\u001b[0m\n\u001b[1;32m    868\u001b[0m         \"\"\"\n\u001b[1;32m    869\u001b[0m         \u001b[0mdims\u001b[0m\u001b[0;34m,\u001b[0m \u001b[0mindexer\u001b[0m\u001b[0;34m,\u001b[0m \u001b[0mnew_order\u001b[0m \u001b[0;34m=\u001b[0m \u001b[0mself\u001b[0m\u001b[0;34m.\u001b[0m\u001b[0m_broadcast_indexes\u001b[0m\u001b[0;34m(\u001b[0m\u001b[0mkey\u001b[0m\u001b[0;34m)\u001b[0m\u001b[0;34m\u001b[0m\u001b[0;34m\u001b[0m\u001b[0m\n\u001b[0;32m--> 870\u001b[0;31m         \u001b[0mdata\u001b[0m \u001b[0;34m=\u001b[0m \u001b[0mas_indexable\u001b[0m\u001b[0;34m(\u001b[0m\u001b[0mself\u001b[0m\u001b[0;34m.\u001b[0m\u001b[0m_data\u001b[0m\u001b[0;34m)\u001b[0m\u001b[0;34m[\u001b[0m\u001b[0mindexer\u001b[0m\u001b[0;34m]\u001b[0m\u001b[0;34m\u001b[0m\u001b[0;34m\u001b[0m\u001b[0m\n\u001b[0m\u001b[1;32m    871\u001b[0m         \u001b[0;32mif\u001b[0m \u001b[0mnew_order\u001b[0m\u001b[0;34m:\u001b[0m\u001b[0;34m\u001b[0m\u001b[0;34m\u001b[0m\u001b[0m\n\u001b[1;32m    872\u001b[0m             \u001b[0mdata\u001b[0m \u001b[0;34m=\u001b[0m \u001b[0mnp\u001b[0m\u001b[0;34m.\u001b[0m\u001b[0mmoveaxis\u001b[0m\u001b[0;34m(\u001b[0m\u001b[0mdata\u001b[0m\u001b[0;34m,\u001b[0m \u001b[0mrange\u001b[0m\u001b[0;34m(\u001b[0m\u001b[0mlen\u001b[0m\u001b[0;34m(\u001b[0m\u001b[0mnew_order\u001b[0m\u001b[0;34m)\u001b[0m\u001b[0;34m)\u001b[0m\u001b[0;34m,\u001b[0m \u001b[0mnew_order\u001b[0m\u001b[0;34m)\u001b[0m\u001b[0;34m\u001b[0m\u001b[0;34m\u001b[0m\u001b[0m\n",
            "\u001b[0;32m/usr/local/lib/python3.10/dist-packages/xarray/core/indexing.py\u001b[0m in \u001b[0;36m__getitem__\u001b[0;34m(self, key)\u001b[0m\n\u001b[1;32m    655\u001b[0m \u001b[0;34m\u001b[0m\u001b[0m\n\u001b[1;32m    656\u001b[0m     \u001b[0;32mdef\u001b[0m \u001b[0m__getitem__\u001b[0m\u001b[0;34m(\u001b[0m\u001b[0mself\u001b[0m\u001b[0;34m,\u001b[0m \u001b[0mkey\u001b[0m\u001b[0;34m)\u001b[0m\u001b[0;34m:\u001b[0m\u001b[0;34m\u001b[0m\u001b[0;34m\u001b[0m\u001b[0m\n\u001b[0;32m--> 657\u001b[0;31m         \u001b[0;32mreturn\u001b[0m \u001b[0mtype\u001b[0m\u001b[0;34m(\u001b[0m\u001b[0mself\u001b[0m\u001b[0;34m)\u001b[0m\u001b[0;34m(\u001b[0m\u001b[0m_wrap_numpy_scalars\u001b[0m\u001b[0;34m(\u001b[0m\u001b[0mself\u001b[0m\u001b[0;34m.\u001b[0m\u001b[0marray\u001b[0m\u001b[0;34m[\u001b[0m\u001b[0mkey\u001b[0m\u001b[0;34m]\u001b[0m\u001b[0;34m)\u001b[0m\u001b[0;34m)\u001b[0m\u001b[0;34m\u001b[0m\u001b[0;34m\u001b[0m\u001b[0m\n\u001b[0m\u001b[1;32m    658\u001b[0m \u001b[0;34m\u001b[0m\u001b[0m\n\u001b[1;32m    659\u001b[0m     \u001b[0;32mdef\u001b[0m \u001b[0mtranspose\u001b[0m\u001b[0;34m(\u001b[0m\u001b[0mself\u001b[0m\u001b[0;34m,\u001b[0m \u001b[0morder\u001b[0m\u001b[0;34m)\u001b[0m\u001b[0;34m:\u001b[0m\u001b[0;34m\u001b[0m\u001b[0;34m\u001b[0m\u001b[0m\n",
            "\u001b[0;32m/usr/local/lib/python3.10/dist-packages/xarray/core/indexing.py\u001b[0m in \u001b[0;36m__getitem__\u001b[0;34m(self, key)\u001b[0m\n\u001b[1;32m    624\u001b[0m \u001b[0;34m\u001b[0m\u001b[0m\n\u001b[1;32m    625\u001b[0m     \u001b[0;32mdef\u001b[0m \u001b[0m__getitem__\u001b[0m\u001b[0;34m(\u001b[0m\u001b[0mself\u001b[0m\u001b[0;34m,\u001b[0m \u001b[0mkey\u001b[0m\u001b[0;34m)\u001b[0m\u001b[0;34m:\u001b[0m\u001b[0;34m\u001b[0m\u001b[0;34m\u001b[0m\u001b[0m\n\u001b[0;32m--> 626\u001b[0;31m         \u001b[0;32mreturn\u001b[0m \u001b[0mtype\u001b[0m\u001b[0;34m(\u001b[0m\u001b[0mself\u001b[0m\u001b[0;34m)\u001b[0m\u001b[0;34m(\u001b[0m\u001b[0m_wrap_numpy_scalars\u001b[0m\u001b[0;34m(\u001b[0m\u001b[0mself\u001b[0m\u001b[0;34m.\u001b[0m\u001b[0marray\u001b[0m\u001b[0;34m[\u001b[0m\u001b[0mkey\u001b[0m\u001b[0;34m]\u001b[0m\u001b[0;34m)\u001b[0m\u001b[0;34m)\u001b[0m\u001b[0;34m\u001b[0m\u001b[0;34m\u001b[0m\u001b[0m\n\u001b[0m\u001b[1;32m    627\u001b[0m \u001b[0;34m\u001b[0m\u001b[0m\n\u001b[1;32m    628\u001b[0m     \u001b[0;32mdef\u001b[0m \u001b[0mtranspose\u001b[0m\u001b[0;34m(\u001b[0m\u001b[0mself\u001b[0m\u001b[0;34m,\u001b[0m \u001b[0morder\u001b[0m\u001b[0;34m)\u001b[0m\u001b[0;34m:\u001b[0m\u001b[0;34m\u001b[0m\u001b[0;34m\u001b[0m\u001b[0m\n",
            "\u001b[0;32m/usr/local/lib/python3.10/dist-packages/xarray/core/indexing.py\u001b[0m in \u001b[0;36m__getitem__\u001b[0;34m(self, indexer)\u001b[0m\n\u001b[1;32m    531\u001b[0m             \u001b[0marray\u001b[0m \u001b[0;34m=\u001b[0m \u001b[0mLazilyVectorizedIndexedArray\u001b[0m\u001b[0;34m(\u001b[0m\u001b[0mself\u001b[0m\u001b[0;34m.\u001b[0m\u001b[0marray\u001b[0m\u001b[0;34m,\u001b[0m \u001b[0mself\u001b[0m\u001b[0;34m.\u001b[0m\u001b[0mkey\u001b[0m\u001b[0;34m)\u001b[0m\u001b[0;34m\u001b[0m\u001b[0;34m\u001b[0m\u001b[0m\n\u001b[1;32m    532\u001b[0m             \u001b[0;32mreturn\u001b[0m \u001b[0marray\u001b[0m\u001b[0;34m[\u001b[0m\u001b[0mindexer\u001b[0m\u001b[0;34m]\u001b[0m\u001b[0;34m\u001b[0m\u001b[0;34m\u001b[0m\u001b[0m\n\u001b[0;32m--> 533\u001b[0;31m         \u001b[0;32mreturn\u001b[0m \u001b[0mtype\u001b[0m\u001b[0;34m(\u001b[0m\u001b[0mself\u001b[0m\u001b[0;34m)\u001b[0m\u001b[0;34m(\u001b[0m\u001b[0mself\u001b[0m\u001b[0;34m.\u001b[0m\u001b[0marray\u001b[0m\u001b[0;34m,\u001b[0m \u001b[0mself\u001b[0m\u001b[0;34m.\u001b[0m\u001b[0m_updated_key\u001b[0m\u001b[0;34m(\u001b[0m\u001b[0mindexer\u001b[0m\u001b[0;34m)\u001b[0m\u001b[0;34m)\u001b[0m\u001b[0;34m\u001b[0m\u001b[0;34m\u001b[0m\u001b[0m\n\u001b[0m\u001b[1;32m    534\u001b[0m \u001b[0;34m\u001b[0m\u001b[0m\n\u001b[1;32m    535\u001b[0m     \u001b[0;32mdef\u001b[0m \u001b[0m__setitem__\u001b[0m\u001b[0;34m(\u001b[0m\u001b[0mself\u001b[0m\u001b[0;34m,\u001b[0m \u001b[0mkey\u001b[0m\u001b[0;34m,\u001b[0m \u001b[0mvalue\u001b[0m\u001b[0;34m)\u001b[0m\u001b[0;34m:\u001b[0m\u001b[0;34m\u001b[0m\u001b[0;34m\u001b[0m\u001b[0m\n",
            "\u001b[0;32m/usr/local/lib/python3.10/dist-packages/xarray/core/indexing.py\u001b[0m in \u001b[0;36m_updated_key\u001b[0;34m(self, new_key)\u001b[0m\n\u001b[1;32m    503\u001b[0m                 \u001b[0mfull_key\u001b[0m\u001b[0;34m.\u001b[0m\u001b[0mappend\u001b[0m\u001b[0;34m(\u001b[0m\u001b[0mk\u001b[0m\u001b[0;34m)\u001b[0m\u001b[0;34m\u001b[0m\u001b[0;34m\u001b[0m\u001b[0m\n\u001b[1;32m    504\u001b[0m             \u001b[0;32melse\u001b[0m\u001b[0;34m:\u001b[0m\u001b[0;34m\u001b[0m\u001b[0;34m\u001b[0m\u001b[0m\n\u001b[0;32m--> 505\u001b[0;31m                 \u001b[0mfull_key\u001b[0m\u001b[0;34m.\u001b[0m\u001b[0mappend\u001b[0m\u001b[0;34m(\u001b[0m\u001b[0m_index_indexer_1d\u001b[0m\u001b[0;34m(\u001b[0m\u001b[0mk\u001b[0m\u001b[0;34m,\u001b[0m \u001b[0mnext\u001b[0m\u001b[0;34m(\u001b[0m\u001b[0miter_new_key\u001b[0m\u001b[0;34m)\u001b[0m\u001b[0;34m,\u001b[0m \u001b[0msize\u001b[0m\u001b[0;34m)\u001b[0m\u001b[0;34m)\u001b[0m\u001b[0;34m\u001b[0m\u001b[0;34m\u001b[0m\u001b[0m\n\u001b[0m\u001b[1;32m    506\u001b[0m         \u001b[0mfull_key\u001b[0m \u001b[0;34m=\u001b[0m \u001b[0mtuple\u001b[0m\u001b[0;34m(\u001b[0m\u001b[0mfull_key\u001b[0m\u001b[0;34m)\u001b[0m\u001b[0;34m\u001b[0m\u001b[0;34m\u001b[0m\u001b[0m\n\u001b[1;32m    507\u001b[0m \u001b[0;34m\u001b[0m\u001b[0m\n",
            "\u001b[0;32m/usr/local/lib/python3.10/dist-packages/xarray/core/indexing.py\u001b[0m in \u001b[0;36m_index_indexer_1d\u001b[0;34m(old_indexer, applied_indexer, size)\u001b[0m\n\u001b[1;32m    276\u001b[0m             \u001b[0mindexer\u001b[0m \u001b[0;34m=\u001b[0m \u001b[0mslice_slice\u001b[0m\u001b[0;34m(\u001b[0m\u001b[0mold_indexer\u001b[0m\u001b[0;34m,\u001b[0m \u001b[0mapplied_indexer\u001b[0m\u001b[0;34m,\u001b[0m \u001b[0msize\u001b[0m\u001b[0;34m)\u001b[0m\u001b[0;34m\u001b[0m\u001b[0;34m\u001b[0m\u001b[0m\n\u001b[1;32m    277\u001b[0m         \u001b[0;32melse\u001b[0m\u001b[0;34m:\u001b[0m\u001b[0;34m\u001b[0m\u001b[0;34m\u001b[0m\u001b[0m\n\u001b[0;32m--> 278\u001b[0;31m             \u001b[0mindexer\u001b[0m \u001b[0;34m=\u001b[0m \u001b[0m_expand_slice\u001b[0m\u001b[0;34m(\u001b[0m\u001b[0mold_indexer\u001b[0m\u001b[0;34m,\u001b[0m \u001b[0msize\u001b[0m\u001b[0;34m)\u001b[0m\u001b[0;34m[\u001b[0m\u001b[0mapplied_indexer\u001b[0m\u001b[0;34m]\u001b[0m\u001b[0;34m\u001b[0m\u001b[0;34m\u001b[0m\u001b[0m\n\u001b[0m\u001b[1;32m    279\u001b[0m     \u001b[0;32melse\u001b[0m\u001b[0;34m:\u001b[0m\u001b[0;34m\u001b[0m\u001b[0;34m\u001b[0m\u001b[0m\n\u001b[1;32m    280\u001b[0m         \u001b[0mindexer\u001b[0m \u001b[0;34m=\u001b[0m \u001b[0mold_indexer\u001b[0m\u001b[0;34m[\u001b[0m\u001b[0mapplied_indexer\u001b[0m\u001b[0;34m]\u001b[0m\u001b[0;34m\u001b[0m\u001b[0;34m\u001b[0m\u001b[0m\n",
            "\u001b[0;31mIndexError\u001b[0m: index 0 is out of bounds for axis 0 with size 0"
          ]
        },
        {
          "output_type": "display_data",
          "data": {
            "text/plain": [
              "<Figure size 1000x400 with 3 Axes>"
            ],
            "image/png": "[encoded data removed]"
          },
          "metadata": {}
        }
      ]
    },
    {
      "cell_type": "markdown",
      "source": [
        "#Operadores de [importación / exportación](https://code.mpimet.mpg.de/projects/cdo/embedded/index.html#x1-7980002.14)"
      ],
      "metadata": {
        "id": "K-u3jsDrOx0R"
      }
    },
    {
      "cell_type": "markdown",
      "source": [
        "CDO puede interactuar con otras aplicaciones con las que puede intercambiar ficheros. El formato más extendido es el ASCII."
      ],
      "metadata": {
        "id": "XUgVuygOOS1a"
      }
    },
    {
      "cell_type": "markdown",
      "source": [
        "###Ejemplo: Extracción de valores en formato ASCII"
      ],
      "metadata": {
        "id": "A_iDvPS0Om0b"
      }
    },
    {
      "cell_type": "code",
      "source": [
        "# Extracción de datos ASCII en 8 columnas\n",
        "# -----------------------------------------\n",
        "!cdo outputf,%8.4g,8 t.nc | head"
      ],
      "metadata": {
        "id": "3ifPaI_RPCow"
      },
      "execution_count": null,
      "outputs": []
    },
    {
      "cell_type": "code",
      "source": [
        "# Selección y extracción encadenadas\n",
        "# -----------------------------------\n",
        "!cdo -outputf,%8.4g,8 [ -select,name=t2m,date=2020-07-24T12:00:00 era5_2000.nc ] | head"
      ],
      "metadata": {
        "id": "YlXY_WNWUMno"
      },
      "execution_count": null,
      "outputs": []
    },
    {
      "cell_type": "markdown",
      "source": [
        "###Ejemplo: Extracción de datos en tabla ASCII"
      ],
      "metadata": {
        "id": "sS3Ysvd1O3Fm"
      }
    },
    {
      "cell_type": "code",
      "source": [
        "# Exportación en tabla ASCII de una selección de datos\n",
        "!cdo -outputtab,name,date,day,month,year,time,lon,lat,value [ -select,name=t2m,date=2020-07-24T12:00:00 era5_2000.nc ] | head"
      ],
      "metadata": {
        "id": "Mh58xWVBUkdd"
      },
      "execution_count": null,
      "outputs": []
    },
    {
      "cell_type": "code",
      "source": [
        "# Generación de una nueva variable que se exporta en una tabla ASCII\n",
        "# -------------------------------------------------------------------\n",
        "!cdo -outputtab,name,date,time,lon,lat,value -expr,'viento=sqrt(u10*u10+v10*v10);' era5_2000.nc | head"
      ],
      "metadata": {
        "id": "0yFdcm4fVU8K"
      },
      "execution_count": null,
      "outputs": []
    },
    {
      "cell_type": "markdown",
      "source": [
        "##Más herramientas\n",
        "\n",
        "* [Acceso a datos NetCDF de Copernicus/ECMWF](https://colab.research.google.com/github/waveology/kitchen/blob/main/00_acceso_a_datos_netcdf_copernicus_ecmwf.ipynb)\n",
        "\n",
        "* [Introducción al trabajo con NetCDF](https://colab.research.google.com/github/waveology/kitchen/blob/main/01_introduccion_al_trabajo_con_netcdf.ipynb)\n",
        "\n",
        "* [Introducción a xarray](https://colab.research.google.com/github/waveology/kitchen/blob/main/03_introduccion_xarray.ipynb)\n",
        "\n",
        "* [Introducción a Cartopy](https://colab.research.google.com/github/waveology/kitchen/blob/main/04_introduccion_cartopy.ipynb)\n",
        "\n",
        "* [Introducción a Netcdf4](https://colab.research.google.com/github/waveology/kitchen/blob/main/05_introduccion_netcdf4.ipynb)\n",
        "\n",
        "* [Introducción a nco](https://colab.research.google.com/github/waveology/kitchen/blob/main/06_introduccion_nco.ipynb)\n"
      ],
      "metadata": {
        "id": "rWl0oIJ-wq9J"
      }
    }
  ]
}