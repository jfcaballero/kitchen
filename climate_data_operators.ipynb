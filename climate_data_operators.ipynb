{
  "nbformat": 4,
  "nbformat_minor": 0,
  "metadata": {
    "colab": {
      "provenance": [],
      "authorship_tag": "ABX9TyN4Cg30NUqWrXoYgbUnhNi/",
      "include_colab_link": true
    },
    "kernelspec": {
      "name": "python3",
      "display_name": "Python 3"
    },
    "language_info": {
      "name": "python"
    }
  },
  "cells": [
    {
      "cell_type": "markdown",
      "metadata": {
        "id": "view-in-github",
        "colab_type": "text"
      },
      "source": [
        "<a href=\"https://colab.research.google.com/github/waveology/kitchen/blob/main/climate_data_operators.ipynb\" target=\"_parent\"><img src=\"https://colab.research.google.com/assets/colab-badge.svg\" alt=\"Open In Colab\"/></a>"
      ]
    },
    {
      "cell_type": "markdown",
      "source": [
        "# Climate Data Operators (*cdo*)\n",
        "---"
      ],
      "metadata": {
        "id": "CuUyJZcnv8ux"
      }
    },
    {
      "cell_type": "code",
      "source": [
        "ifile = 'cdobin.tar.gz'\n",
        "!wget -q --no-check-certificate https://owncloud.aemet.es/index.php/s/9FY0yMF1KipxkT9/download -O {ifile} && tar xvfz {ifile}"
      ],
      "metadata": {
        "id": "hreY3cwOo1wy"
      },
      "execution_count": null,
      "outputs": []
    },
    {
      "cell_type": "code",
      "source": [
        "#%cd cdo-2.2.0/\n",
        "!./configure -h\n",
        "#!make install"
      ],
      "metadata": {
        "id": "SKKgVdcuplGq"
      },
      "execution_count": null,
      "outputs": []
    },
    {
      "cell_type": "code",
      "source": [
        "#!./configure\n",
        "!make install"
      ],
      "metadata": {
        "id": "fFBari2Vp0Vj"
      },
      "execution_count": null,
      "outputs": []
    },
    {
      "cell_type": "code",
      "source": [
        "!/usr/local/bin/cdo"
      ],
      "metadata": {
        "id": "Azlzcfq1v76z"
      },
      "execution_count": null,
      "outputs": []
    },
    {
      "cell_type": "code",
      "source": [
        "!pip install -q condacolab\n",
        "import condacolab\n",
        "condacolab.install()"
      ],
      "metadata": {
        "id": "PYK80UrZfmAV"
      },
      "execution_count": null,
      "outputs": []
    },
    {
      "cell_type": "code",
      "source": [
        "!conda install cdo -c conda-forge -y"
      ],
      "metadata": {
        "id": "HDmKHY5sf61T"
      },
      "execution_count": null,
      "outputs": []
    },
    {
      "cell_type": "markdown",
      "source": [
        "## Instalación de Climate Data Operators\n"
      ],
      "metadata": {
        "id": "f889dBnOwDaO"
      }
    },
    {
      "cell_type": "code",
      "source": [
        "!date\n",
        "!wget https://code.mpimet.mpg.de/attachments/download/28013/cdo-2.2.0.tar.gz\n",
        "!tar xfz cdo-2.2.0.tar.gz\n",
        "%cd /content/cdo-2.2.0\n",
        "!./configure --prefix=/content/cdo\n",
        "!make\n",
        "!make install\n",
        "!cdo -h\n",
        "!date\n",
        "%cd .."
      ],
      "metadata": {
        "id": "bMS_6xwgwPRp"
      },
      "execution_count": null,
      "outputs": []
    },
    {
      "cell_type": "code",
      "source": [
        "import os\n",
        "os.environ['PATH'] += \":/content/cdo/bin\"\n",
        "!cdo"
      ],
      "metadata": {
        "id": "_UYnNTDW2KGb"
      },
      "execution_count": null,
      "outputs": []
    },
    {
      "cell_type": "code",
      "source": [
        "!pwd"
      ],
      "metadata": {
        "id": "G0u7AmJ_5CuY"
      },
      "execution_count": null,
      "outputs": []
    },
    {
      "cell_type": "code",
      "source": [
        "!/usr/bin/ls -la\n",
        "!/usr/bin/tar cvf cdobin.tar cdo\n",
        "!/usr/bin/gzip cdobin.tar"
      ],
      "metadata": {
        "id": "q5MiokYhmaPh"
      },
      "execution_count": null,
      "outputs": []
    },
    {
      "cell_type": "code",
      "source": [
        "%cd /content\n",
        "!ls -larth\n",
        "!cdo sinfo  oper.nc"
      ],
      "metadata": {
        "id": "TKX-KUxV9xdR"
      },
      "execution_count": null,
      "outputs": []
    }
  ]
}