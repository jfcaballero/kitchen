{
  "nbformat": 4,
  "nbformat_minor": 0,
  "metadata": {
    "colab": {
      "provenance": [],
      "authorship_tag": "ABX9TyNs1GhZSXcEgShRHHZPhc+w",
      "include_colab_link": true
    },
    "kernelspec": {
      "name": "python3",
      "display_name": "Python 3"
    },
    "language_info": {
      "name": "python"
    }
  },
  "cells": [
    {
      "cell_type": "markdown",
      "metadata": {
        "id": "view-in-github",
        "colab_type": "text"
      },
      "source": [
        "<a href=\"https://colab.research.google.com/github/waveology/kitchen/blob/main/climate_data_operators.ipynb\" target=\"_parent\"><img src=\"https://colab.research.google.com/assets/colab-badge.svg\" alt=\"Open In Colab\"/></a>"
      ]
    },
    {
      "cell_type": "markdown",
      "source": [
        "# Climate Data Operators (*cdo*)\n"
      ],
      "metadata": {
        "id": "CuUyJZcnv8ux"
      }
    },
    {
      "cell_type": "markdown",
      "source": [
        "## Instalación de Climate Data Operators\n"
      ],
      "metadata": {
        "id": "f889dBnOwDaO"
      }
    },
    {
      "cell_type": "markdown",
      "source": [
        "###A partir de condacolab:"
      ],
      "metadata": {
        "id": "-mhogDk6Fa_h"
      }
    },
    {
      "cell_type": "code",
      "source": [
        "!pip install -q condacolab\n",
        "import condacolab\n",
        "condacolab.install()"
      ],
      "metadata": {
        "id": "6V8IA5e5FjHa"
      },
      "execution_count": null,
      "outputs": []
    },
    {
      "cell_type": "code",
      "source": [
        "condacolab.check()\n",
        "!mamba install -q cdo"
      ],
      "metadata": {
        "id": "1XhEOfoIFyW2"
      },
      "execution_count": null,
      "outputs": []
    },
    {
      "cell_type": "markdown",
      "source": [
        "###Compilación a partir de fuentes:"
      ],
      "metadata": {
        "id": "ae5FrmHBIFn-"
      }
    },
    {
      "cell_type": "markdown",
      "source": [
        "Esta es la forma convencional de instalar cdo a partir del código fuente. Se toma algún tiempo por lo que no vamos a usarla aquí."
      ],
      "metadata": {
        "id": "9NKv7bdy_m7g"
      }
    },
    {
      "cell_type": "code",
      "source": [
        "# !wget https://code.mpimet.mpg.de/attachments/download/28013/cdo-2.2.0.tar.gz\n",
        "# !tar xfz cdo-2.2.0.tar.gz\n",
        "# %cd /content/cdo-2.2.0\n",
        "# !./configure --prefix=/content/cdo\n",
        "# !make\n",
        "# !make install\n",
        "# %cd .."
      ],
      "metadata": {
        "id": "bMS_6xwgwPRp"
      },
      "execution_count": null,
      "outputs": []
    },
    {
      "cell_type": "markdown",
      "source": [
        "### A partir de conda:"
      ],
      "metadata": {
        "id": "MuyW4_7hEksJ"
      }
    },
    {
      "cell_type": "code",
      "source": [
        "!python --version"
      ],
      "metadata": {
        "id": "899iiP0zAMVO"
      },
      "execution_count": null,
      "outputs": []
    },
    {
      "cell_type": "code",
      "source": [
        "# ifile = 'Miniconda3-latest-Linux-x86_64.sh'\n",
        "# !wget https://repo.anaconda.com/miniconda/{ifile}\n",
        "# ! chmod +x {ifile}\n",
        "# ! bash ./{ifile} -b -f -p /usr/local/\n",
        "# !conda install --channel defaults conda python=3.10 --yes\n",
        "# !conda update --channel defaults --all --yes\n",
        "# !conda config --add channels conda-forge\n",
        "# os.environ['PATH'] += \":/usr/local/lib/python3.10/site-packages\"\n",
        "# !conda install cdo -y"
      ],
      "metadata": {
        "id": "hOTkn32cA3wA"
      },
      "execution_count": null,
      "outputs": []
    },
    {
      "cell_type": "markdown",
      "source": [
        "###Versión precompilada:"
      ],
      "metadata": {
        "id": "UkRXqytDIMlY"
      }
    },
    {
      "cell_type": "markdown",
      "source": [
        "Para ganar tiempo, usaremos una versión precompilada recientemente en esta misma plataforma"
      ],
      "metadata": {
        "id": "XPc1gXfA_2BB"
      }
    },
    {
      "cell_type": "code",
      "source": [
        "ifile = 'cdobin.tar.gz'\n",
        "!wget -q --no-check-certificate https://owncloud.aemet.es/index.php/s/9FY0yMF1KipxkT9/download -O {ifile} && tar xvfz {ifile}\n",
        "import os\n",
        "os.environ['PATH'] += \":/content/cdo/bin\""
      ],
      "metadata": {
        "id": "hreY3cwOo1wy"
      },
      "execution_count": null,
      "outputs": []
    },
    {
      "cell_type": "markdown",
      "source": [
        "###Descarga de datos"
      ],
      "metadata": {
        "id": "2mjvewp4Kfb4"
      }
    },
    {
      "cell_type": "code",
      "source": [
        "ifile = 'era5_t2m_w10_2020_europa_025.rar'\n",
        "!wget -q --no-check-certificate https://owncloud.aemet.es/index.php/s/7tJ8c3UpRK9sqVE/download -O {ifile} && unrar -o+ e {ifile} && rm -f {ifile}\n",
        "ifile = 'era5_t2m_w10_2020_europa_025.nc'"
      ],
      "metadata": {
        "id": "34CvCAUOKjXO"
      },
      "execution_count": null,
      "outputs": []
    },
    {
      "cell_type": "code",
      "source": [
        "\n",
        "!cdo info {ifile}"
      ],
      "metadata": {
        "id": "Q7Gd884gLJnt"
      },
      "execution_count": null,
      "outputs": []
    },
    {
      "cell_type": "code",
      "source": [
        "!cdo splityearmon {ifile} test"
      ],
      "metadata": {
        "id": "RDXcVg-rLggO"
      },
      "execution_count": null,
      "outputs": []
    }
  ]
}