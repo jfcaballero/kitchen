{
  "nbformat": 4,
  "nbformat_minor": 0,
  "metadata": {
    "colab": {
      "provenance": [],
      "authorship_tag": "ABX9TyN809EhrV4P4qVs3ajbW4CI",
      "include_colab_link": true
    },
    "kernelspec": {
      "name": "python3",
      "display_name": "Python 3"
    },
    "language_info": {
      "name": "python"
    }
  },
  "cells": [
    {
      "cell_type": "markdown",
      "metadata": {
        "id": "view-in-github",
        "colab_type": "text"
      },
      "source": [
        "<a href=\"https://colab.research.google.com/github/waveology/kitchen/blob/main/climate_data_operators.ipynb\" target=\"_parent\"><img src=\"https://colab.research.google.com/assets/colab-badge.svg\" alt=\"Open In Colab\"/></a>"
      ]
    },
    {
      "cell_type": "code",
      "execution_count": null,
      "metadata": {
        "id": "0y5I_F3Jv1Q0"
      },
      "outputs": [],
      "source": []
    },
    {
      "cell_type": "markdown",
      "source": [
        "# Climate Data Operators (*cdo*)\n",
        "---"
      ],
      "metadata": {
        "id": "CuUyJZcnv8ux"
      }
    },
    {
      "cell_type": "markdown",
      "source": [
        "### Nueva sección\n"
      ],
      "metadata": {
        "id": "f889dBnOwDaO"
      }
    },
    {
      "cell_type": "code",
      "source": [
        "!wget https://code.mpimet.mpg.de/attachments/download/28013/cdo-2.2.0.tar.gz\n",
        "!tar xfz cdo-2.2.0.tar.gz\n",
        "%cd /content/cdo-2.2.0\n",
        "!./configure\n",
        "!make\n",
        "!make install\n",
        "!cdo -h\n",
        "% cd ../.."
      ],
      "metadata": {
        "id": "bMS_6xwgwPRp"
      },
      "execution_count": null,
      "outputs": []
    },
    {
      "cell_type": "code",
      "source": [
        "%cd /content\n",
        "!ls -larth\n",
        "!cdo sinfo  oper.nc"
      ],
      "metadata": {
        "id": "TKX-KUxV9xdR"
      },
      "execution_count": null,
      "outputs": []
    }
  ]
}