{
  "nbformat": 4,
  "nbformat_minor": 0,
  "metadata": {
    "colab": {
      "provenance": [],
      "authorship_tag": "ABX9TyOA2h69JZiXJQtoYiHIG9Js",
      "include_colab_link": true
    },
    "kernelspec": {
      "name": "python3",
      "display_name": "Python 3"
    },
    "language_info": {
      "name": "python"
    }
  },
  "cells": [
    {
      "cell_type": "markdown",
      "metadata": {
        "id": "view-in-github",
        "colab_type": "text"
      },
      "source": [
        "<a href=\"https://colab.research.google.com/github/waveology/kitchen/blob/main/introducci%C3%B3n_a_netcdf_y_xarray.ipynb\" target=\"_parent\"><img src=\"https://colab.research.google.com/assets/colab-badge.svg\" alt=\"Open In Colab\"/></a>"
      ]
    },
    {
      "cell_type": "markdown",
      "source": [
        "#Introducción al NetCDF con xarray"
      ],
      "metadata": {
        "id": "DrBstcBls5da"
      }
    },
    {
      "cell_type": "markdown",
      "source": [
        "Descarga de ficheros de datos"
      ],
      "metadata": {
        "id": "7wCRZOa2tW2X"
      }
    },
    {
      "cell_type": "code",
      "execution_count": null,
      "metadata": {
        "id": "NjrQjN2me0-O"
      },
      "outputs": [],
      "source": [
        "# Datos de temperatura a 2 metros - ERA5 - [1987-2020]  -  res=0.25º\n",
        "# -------------------------------------------------------------------\n",
        "!wget https://owncloud.aemet.es/index.php/s/Ns1t4FXmZoi5hK4/download -O era5_t2m_1987_2020_europa_025.rar\n",
        "!unrar e era5_t2m_1987_2020_europa_025.rar && rm -f era5_t2m_1987_2020_europa_025.rar\n",
        "\n",
        "## Datos de temperatura a 2 metros - ERA5 - [1987-2020]  -  res=0.50º\n",
        "## -------------------------------------------------------------------\n",
        "#!wget https://owncloud.aemet.es/index.php/s/Bxjcb2T5pPq1PYP/download -O era5_t2m_1987_2020_europa_05.rar\n",
        "#!unrar e era5_t2m_1987_2020_europa_05.rar && rm -f era5_t2m_1987_2020_europa_05.rar\n",
        "\n",
        "# Datos de temperatura en niveles verticales - ERA5 - [2020]  -  res=0.25º\n",
        "# -----------------------------------------------------------------------\n",
        "!wget https://owncloud.aemet.es/index.php/s/NoAwwclSdzI1A1g/download -O era5_pl_t_2020_global_025.rar\n",
        "!unrar e era5_pl_t_2020_global_025.rar && rm -f era5_pl_t_2020_global_025.rar"
      ]
    },
    {
      "cell_type": "markdown",
      "source": [
        "Importamos las extensiones xarray y Matplotlib (gráficos)"
      ],
      "metadata": {
        "id": "_4fE168Ptm0k"
      }
    },
    {
      "cell_type": "code",
      "source": [
        "# Tratamiento de datos multidimensionales\n",
        "# ------------------------------------------------\n",
        "import xarray as xr\n",
        "\n",
        "# Librería gráfica\n",
        "# -------------------------------\n",
        "import matplotlib.pyplot as plt"
      ],
      "metadata": {
        "id": "-lxdjRe5ti4f"
      },
      "execution_count": null,
      "outputs": []
    },
    {
      "cell_type": "markdown",
      "source": [
        "##Lectura de datos\n",
        "---"
      ],
      "metadata": {
        "id": "UruUXayRrxFk"
      }
    },
    {
      "cell_type": "markdown",
      "source": [
        "En xarray podemos abrir ficheros con la función [open_dataset](https://docs.xarray.dev/en/stable/generated/xarray.open_dataset.html). El argumento puede ser un fichero local o bien la URL de un servidor remoto OpenDAP. Aquí trabajaremos con un fichero local que contiene 33 años de reanálisis de datos de temperaturas superficial en Europa."
      ],
      "metadata": {
        "id": "XihASK6dP0N5"
      }
    },
    {
      "cell_type": "code",
      "source": [
        "ds = xr.open_dataset('/content/era5_t2m_1987_2020_europa_025.nc')"
      ],
      "metadata": {
        "id": "WwrRVHO_t136"
      },
      "execution_count": null,
      "outputs": []
    },
    {
      "cell_type": "markdown",
      "source": [],
      "metadata": {
        "id": "MbKUZCR3ReQp"
      }
    },
    {
      "cell_type": "code",
      "source": [
        "# Esto es un tipo de dato Dataset\n",
        "# --------------------------------\n",
        "ds"
      ],
      "metadata": {
        "id": "NLd7a2dNvYnB"
      },
      "execution_count": null,
      "outputs": []
    },
    {
      "cell_type": "code",
      "source": [
        "# Variables del Dataset\n",
        "# ----------------------\n",
        "ds.data_vars"
      ],
      "metadata": {
        "id": "eApjU7y6veGi"
      },
      "execution_count": null,
      "outputs": []
    },
    {
      "cell_type": "code",
      "source": [
        "# Dimensiones del Dataset\n",
        "# ------------------------\n",
        "ds.dims"
      ],
      "metadata": {
        "id": "tfGYMSjeSClx"
      },
      "execution_count": null,
      "outputs": []
    },
    {
      "cell_type": "code",
      "source": [
        "# Coordenadas del Dataset\n",
        "# -----------------------\n",
        "ds.coords"
      ],
      "metadata": {
        "id": "U89JoP6VSQh9"
      },
      "execution_count": null,
      "outputs": []
    },
    {
      "cell_type": "markdown",
      "source": [
        "Las variables del Dataset son datos de tipo DataArray y se puede acceder ellos de la misma forma que se accede a las columnas en Pandas"
      ],
      "metadata": {
        "id": "YWIe12asSzdX"
      }
    },
    {
      "cell_type": "code",
      "source": [
        "# Acceso mediante el nombre entre paréntesis\n",
        "# -------------------------------------------\n",
        "ds['t2m']"
      ],
      "metadata": {
        "id": "Cq-X6yI6vvW_"
      },
      "execution_count": null,
      "outputs": []
    },
    {
      "cell_type": "code",
      "source": [
        "# Acceso concatenando el nombre con un punto\n",
        "# -------------------------------------------\n",
        "ds.t2m"
      ],
      "metadata": {
        "id": "4zLCdukpv4fH"
      },
      "execution_count": null,
      "outputs": []
    },
    {
      "cell_type": "markdown",
      "source": [
        "##Selección: *isel, sel y slice*\n",
        "---"
      ],
      "metadata": {
        "id": "aeCk6DSjr6hu"
      }
    },
    {
      "cell_type": "markdown",
      "source": [
        "xarray se asienta en Numpy y por eso los DataArray comparten métodos y su trato resulta familiar."
      ],
      "metadata": {
        "id": "NZ0eTilax4CC"
      }
    },
    {
      "cell_type": "code",
      "source": [
        "# Extracción del DataArray de temperaturas del Dataset\n",
        "# Los datos están en K y los pasamos a ºC\n",
        "# ------------------------------------------------------\n",
        "t2m = ds.t2m - 273.15"
      ],
      "metadata": {
        "id": "aeXLa7GPwnBO"
      },
      "execution_count": null,
      "outputs": []
    },
    {
      "cell_type": "code",
      "source": [
        "# Podemos usar shape para inspeccionar las dimensiones\n",
        "# ---------------------------------------------------\n",
        "t2m.shape"
      ],
      "metadata": {
        "id": "6A1HttScwtgO"
      },
      "execution_count": null,
      "outputs": []
    },
    {
      "cell_type": "markdown",
      "source": [
        "En Numpy seleccionaríamos elementos del array de esta manera:"
      ],
      "metadata": {
        "id": "TEq9xP51yHTN"
      }
    },
    {
      "cell_type": "code",
      "source": [
        "# Selección al estilo Numpy, indicando valores o rangos de los índices\n",
        "# ---------------------------------------------------------------------\n",
        "t2m[0,10:20,15:25]"
      ],
      "metadata": {
        "id": "Rhtn3aDVyMVt"
      },
      "execution_count": null,
      "outputs": []
    },
    {
      "cell_type": "markdown",
      "source": [
        "En xarray disponemos de dos operadores muy cómodos:\n",
        "\n",
        "*   ***isel*** : selecciona por índices\n",
        "*   ***sel***  : selecciona por valores\n",
        "\n",
        "Veamos unos ejemplos seleccionando tiempos (más info [aquí](https://docs.xarray.dev/en/stable/user-guide/time-series.html)):"
      ],
      "metadata": {
        "id": "OLwte7RByd6T"
      }
    },
    {
      "cell_type": "code",
      "source": [
        "# Selección de los datos correspondientes al primer valor de tiempo\n",
        "# -----------------------------------------------------------------\n",
        "t2m.isel(time=0)"
      ],
      "metadata": {
        "id": "jpyXdnKXy2PW"
      },
      "execution_count": null,
      "outputs": []
    },
    {
      "cell_type": "code",
      "source": [
        "# Selección de los datos correspondientes a un valor específico del tiempo\n",
        "# ------------------------------------------------------------------------\n",
        "t2m.sel(time='1987-02-20T12:00:00')"
      ],
      "metadata": {
        "id": "7cJzvVPMzmT4"
      },
      "execution_count": null,
      "outputs": []
    },
    {
      "cell_type": "code",
      "source": [
        "# ¿Y si el valor específico del tiempo no está presente en los datos?\n",
        "#  Usamos 'method' para especificar que use el tiempo más próximo.\n",
        "# -------------------------------------------------------------------------------\n",
        "#t2m.sel(time='1987-02-18T12:00:00')\n",
        "t2m.sel(time='1987-02-18T12:00:00',method='nearest')"
      ],
      "metadata": {
        "id": "ctSjBZ290L1G"
      },
      "execution_count": null,
      "outputs": []
    },
    {
      "cell_type": "markdown",
      "source": [
        "Para especificar un rango en lugar de un valor concreto usamos la función ***slice***:"
      ],
      "metadata": {
        "id": "pM6vjnqxZ4yA"
      }
    },
    {
      "cell_type": "code",
      "source": [
        "# Selección de los datos correspondientes a un periodo de tiempo\n",
        "# ---------------------------------------------------------------\n",
        "t2m.sel(time=slice('1987-02-20T12:00:00', '1987-04-16T12:00:00'))"
      ],
      "metadata": {
        "id": "59x86ZllYcRU"
      },
      "execution_count": null,
      "outputs": []
    },
    {
      "cell_type": "code",
      "source": [
        "# Selección de los datos correspondientes a un periodo de tiempo\n",
        "# especificando solo mes y año\n",
        "# ---------------------------------------------------------------\n",
        "t2m.sel(time=slice('1993-07', '1994-02'))"
      ],
      "metadata": {
        "id": "VrgmsPG8Yyao"
      },
      "execution_count": null,
      "outputs": []
    },
    {
      "cell_type": "markdown",
      "source": [
        "Las funciones ***sel***, ***isel*** y ***slice*** funcionan exactamente igual con el resto de coordenadas. Algunos ejemplos con la latitud y la longitud:"
      ],
      "metadata": {
        "id": "NdfZbzq6aHzI"
      }
    },
    {
      "cell_type": "code",
      "source": [
        "# Selección de una ventana geográfica:\n",
        "# norte = 40º sur = 30º / oeste = -30º / este = 0º\n",
        "# Nota: en ERA5 las latitudes se almanenan invertidas\n",
        "# --------------------------------------------------------\n",
        "t2m.sel(latitude=slice(40,30), longitude=slice(-20,0))"
      ],
      "metadata": {
        "id": "tCLzeDdJaaVW"
      },
      "execution_count": null,
      "outputs": []
    },
    {
      "cell_type": "code",
      "source": [
        "# isel y sel admiten múltiples selectores simultáneos\n",
        "# Selección de datos en una fecha específica y en una ventana geográfica:\n",
        "# ---------------------------------------------------------------------------------------\n",
        "t2m.sel(time='1987-02-20T12:00:00',latitude=slice(40,30), longitude=slice(-20,0))"
      ],
      "metadata": {
        "id": "1Hkj6r7mbhld"
      },
      "execution_count": null,
      "outputs": []
    },
    {
      "cell_type": "code",
      "source": [
        "# También pueden encadenarse y funcionan igualemente con Datasets\n",
        "# ---------------------------------------------------------------\n",
        "ds.isel(time=0).sel(latitude=slice(40,30), longitude=slice(-20,0))"
      ],
      "metadata": {
        "id": "tqCr3yv_duP8"
      },
      "execution_count": null,
      "outputs": []
    },
    {
      "cell_type": "markdown",
      "source": [
        "##Gráficos\n",
        "---"
      ],
      "metadata": {
        "id": "p1B8wbi_sBVV"
      }
    },
    {
      "cell_type": "markdown",
      "source": [
        "xarray tiene una prestación muy cómoda en relación con los gráficos: intenta deducir a partir de las dimensiones de los datos qué tipo de dibujo queremos.\n",
        "\n",
        "Por ejemplo si eliminamos la dimensión temporal, la función *plot()* representará un mapa:"
      ],
      "metadata": {
        "id": "ZNpYJLEVe2S4"
      }
    },
    {
      "cell_type": "code",
      "source": [
        "# Seleccionamos un tiempo y una ventana geográfica  f(x,y,t) --> f=f(x,y)\n",
        "# ------------------------------------------------------------------------\n",
        "t2m.isel(time=0).sel(latitude = slice(45,36) , longitude = slice(-13,5)).plot(cmap = 'jet', size = 7)"
      ],
      "metadata": {
        "id": "XIqIj0UhfbmX"
      },
      "execution_count": null,
      "outputs": []
    },
    {
      "cell_type": "code",
      "source": [
        "# Seleccionamos rangos de las tres variables:  f(x,y,t) --> f=f(x,y,t)\n",
        "# -----------------------------------------------------------------------------------------------------\n",
        "t2m.sel(time=slice('2001-01','2004-05'), latitude=slice(45,36), longitude=slice(-13,5)).plot(size=5)\n"
      ],
      "metadata": {
        "id": "6MaFy65fi2Z-"
      },
      "execution_count": null,
      "outputs": []
    },
    {
      "cell_type": "code",
      "source": [
        "# Seleccionamos un rango de tiempos y las coordenadas de un punto:  f(x,y,t) --> f=f(t)\n",
        "# ----------------------------------------------------------------------------------------\n",
        "t2m.sel(time=slice('2001-01','2004-05')).sel(latitude=40.4,longitude=-3.7,method = 'nearest').plot(size=6)"
      ],
      "metadata": {
        "id": "EZUYfpG5kFdU"
      },
      "execution_count": null,
      "outputs": []
    },
    {
      "cell_type": "markdown",
      "source": [
        "**Sobre la personalización de los gráficos**: la función *plot()* admite varios argumentos que permiten hacer ajustes en los gráficos (más info [aquí](https://docs.xarray.dev/en/stable/user-guide/plotting.html)). Una alternativa sencilla pasa por crear un contenedor y pasar los ejes como argumento a *plot()*:"
      ],
      "metadata": {
        "id": "EIe61zQlkpOM"
      }
    },
    {
      "cell_type": "code",
      "source": [
        "# Creamos una figura\n",
        "# --------------------\n",
        "fig, ax = plt.subplots()\n",
        "\n",
        "# Pasamos los ejes como argumento\n",
        "# ----------------------------------\n",
        "t2m.sel(time=slice('2001-01','2005-12')).sel(latitude=40.4, longitude=-3.7, method = 'nearest').plot(ax=ax)\n",
        "\n",
        "# Personalizamos el gráfico añadiendo elementos\n",
        "# ----------------------------------------------\n",
        "ax.grid(True)\n",
        "ax.set_xlabel('Tiempo')\n",
        "ax.set_ylabel('Temperatura')\n",
        "ax.set_title('Evolución de la temperatura a 2m en el periodo 2001-2005, en Madrid')"
      ],
      "metadata": {
        "id": "OSYgwJMClsuX"
      },
      "execution_count": null,
      "outputs": []
    },
    {
      "cell_type": "markdown",
      "source": [
        "Veamos un ejemplo con un fichero que contiene además una coordenada vertical."
      ],
      "metadata": {
        "id": "FF9uUo4SqK3H"
      }
    },
    {
      "cell_type": "code",
      "source": [
        "# Leemos el fichero\n",
        "# --------------------\n",
        "ds = xr.open_dataset('/content/era5_pl_t_2020_global_025.nc')"
      ],
      "metadata": {
        "id": "Jus5kls6qS2_"
      },
      "execution_count": null,
      "outputs": []
    },
    {
      "cell_type": "code",
      "source": [
        "# Dataset\n",
        "# ----------\n",
        "ds"
      ],
      "metadata": {
        "id": "oQAR09vlqv9W"
      },
      "execution_count": null,
      "outputs": []
    },
    {
      "cell_type": "code",
      "source": [
        "# Extraemos el DataArray de temperaturas temp = temp(t,x,y,z)\n",
        "# Pasamos de Kelvin a ºC\n",
        "# -------------------------------------------------------------\n",
        "t = ds.t - 273.15\n",
        "\n",
        "t"
      ],
      "metadata": {
        "id": "PY9A-_xyrCwW"
      },
      "execution_count": null,
      "outputs": []
    },
    {
      "cell_type": "code",
      "source": [
        "# Extraemos el mapa correspondiente al primer valor de tiempo y al último nivel de presión (1000 hPa)\n",
        "# Trazamos un paralelo y un meridiano para los cortes verticales\n",
        "# -----------------------------------------------------------------\n",
        "fig,ax = plt.subplots()\n",
        "t.isel(time=0).isel(level=-1).plot(cmap='jet', ax=ax)\n",
        "ax.axhline(y=-25)\n",
        "ax.axvline(x=25)"
      ],
      "metadata": {
        "id": "IOnDxVYHriD6"
      },
      "execution_count": null,
      "outputs": []
    },
    {
      "cell_type": "code",
      "source": [
        "# Corte vertical por un meridiano que pasa por África\n",
        "# --------------------------------------------------------\n",
        "t.isel(time=0).sel(longitude=25,method='nearest').plot(cmap='jet',yincrease=False,size=7)"
      ],
      "metadata": {
        "id": "2VFOQITXsSdy"
      },
      "execution_count": null,
      "outputs": []
    },
    {
      "cell_type": "code",
      "source": [
        "# Corte vertical por un paralelo en la latitud de Australia\n",
        "# ----------------------------------------------------------\n",
        "t.isel(time=0).sel(longitude=-25,method='nearest').plot(cmap='jet',yincrease=False,size=7)"
      ],
      "metadata": {
        "id": "CUIka8wrs6Sd"
      },
      "execution_count": null,
      "outputs": []
    },
    {
      "cell_type": "markdown",
      "source": [
        "##Estadística\n",
        "---"
      ],
      "metadata": {
        "id": "cs5UWXnKsHs_"
      }
    },
    {
      "cell_type": "markdown",
      "source": [
        "##Agrupamientos\n",
        "---"
      ],
      "metadata": {
        "id": "M50YLTU0sOHv"
      }
    },
    {
      "cell_type": "markdown",
      "source": [
        "##Remuestreo\n",
        "---"
      ],
      "metadata": {
        "id": "TCqN2s7isYbH"
      }
    },
    {
      "cell_type": "markdown",
      "source": [
        "##Máscaras\n",
        "---"
      ],
      "metadata": {
        "id": "Pyokb1vVshVq"
      }
    },
    {
      "cell_type": "markdown",
      "source": [
        "##Múltiples fuentes\n",
        "---"
      ],
      "metadata": {
        "id": "HAcyrYB2smN2"
      }
    },
    {
      "cell_type": "markdown",
      "source": [
        "##Salida en NetCDF\n",
        "---"
      ],
      "metadata": {
        "id": "09yqcvY-stMd"
      }
    }
  ]
}