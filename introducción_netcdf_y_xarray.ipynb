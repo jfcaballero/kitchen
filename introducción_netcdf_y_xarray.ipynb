{
  "nbformat": 4,
  "nbformat_minor": 0,
  "metadata": {
    "colab": {
      "provenance": [],
      "toc_visible": true,
      "authorship_tag": "ABX9TyPrzeebBdUniAB8pFcz2+Ff",
      "include_colab_link": true
    },
    "kernelspec": {
      "name": "python3",
      "display_name": "Python 3"
    },
    "language_info": {
      "name": "python"
    }
  },
  "cells": [
    {
      "cell_type": "markdown",
      "metadata": {
        "id": "view-in-github",
        "colab_type": "text"
      },
      "source": [
        "<a href=\"https://colab.research.google.com/github/waveology/kitchen/blob/main/introducci%C3%B3n_netcdf_y_xarray.ipynb\" target=\"_parent\"><img src=\"https://colab.research.google.com/assets/colab-badge.svg\" alt=\"Open In Colab\"/></a>"
      ]
    },
    {
      "cell_type": "markdown",
      "source": [
        "#Introducción al NetCDF con xarray"
      ],
      "metadata": {
        "id": "DrBstcBls5da"
      }
    },
    {
      "cell_type": "markdown",
      "source": [
        "Descarga de ficheros de datos"
      ],
      "metadata": {
        "id": "7wCRZOa2tW2X"
      }
    },
    {
      "cell_type": "code",
      "execution_count": null,
      "metadata": {
        "id": "NjrQjN2me0-O"
      },
      "outputs": [],
      "source": [
        "# Datos de temperatura a 2 metros - ERA5 - [1987-2020]  -  res=0.25º\n",
        "# -------------------------------------------------------------------\n",
        "ifile = 'era5_t2m_1987_2020_europa_025.rar'\n",
        "!wget -q --no-check-certificate https://owncloud.aemet.es/index.php/s/Ns1t4FXmZoi5hK4/download -O {ifile} && unrar -o+ e {ifile} && rm -f {ifile}\n",
        "\n",
        "# Datos de temperatura en niveles verticales - ERA5 - [2020]  -  res=0.25º\n",
        "# -----------------------------------------------------------------------\n",
        "ifile = 'era5_pl_t_2020_global_025.rar'\n",
        "!wget -q --no-check-certificate https://owncloud.aemet.es/index.php/s/NoAwwclSdzI1A1g/download -O {ifile} && unrar -o+ e {ifile} && rm -f {ifile}\n",
        "\n",
        "# Máscara tierra-suelo - ERA5 - [1987-2020]  -  res=0.25º\n",
        "# ----------------------------------------------------------\n",
        "ifile = 'era5_t2m_1987_2020_europa_025_lsm.rar'\n",
        "!wget -q --no-check-certificate https://owncloud.aemet.es/index.php/s/leirUBqlMnLxIAL/download -O {ifile} && unrar -o+ e {ifile} && rm -f {ifile}\n",
        "\n",
        "# Datos del año 2017\n",
        "# -------------------\n",
        "ifile = 'era5_t2m_europa_05_2017.rar'\n",
        "!wget -q --no-check-certificate https://owncloud.aemet.es/index.php/s/Vhr5GyRlTt3fSgg/download -O {ifile} && unrar -o+ e {ifile} && rm -f {ifile}\n",
        "\n",
        "# Datos del año 2018\n",
        "# -------------------\n",
        "ifile = 'era5_t2m_europa_05_2018.rar'\n",
        "!wget -q --no-check-certificate https://owncloud.aemet.es/index.php/s/HJ0IteRty8Mh29Y/download -O {ifile} && unrar -o+ e {ifile} && rm -f {ifile}\n",
        "\n",
        "# Datos del año 2019\n",
        "# -------------------\n",
        "ifile = 'era5_t2m_europa_05_2019.rar'\n",
        "!wget -q --no-check-certificate https://owncloud.aemet.es/index.php/s/HFUtgstnA4Cqg75/download -O {ifile} && unrar -o+ e {ifile} && rm -f {ifile}\n",
        "\n",
        "# Datos de viento a 10m y temperatura a 2m - ERA5 - 2020 - res=0.25ºC\n",
        "# --------------------------------------------------------------------\n",
        "ifile = 'era5_t2m_w10_2020_europa_025.rar'\n",
        "!wget -q --no-check-certificate https://owncloud.aemet.es/index.php/s/7tJ8c3UpRK9sqVE/download -O {ifile} && unrar -o+ e {ifile} && rm -f {ifile}\n",
        "\n",
        "\n"
      ]
    },
    {
      "cell_type": "markdown",
      "source": [
        "Importamos las extensiones xarray y Matplotlib (gráficos)"
      ],
      "metadata": {
        "id": "_4fE168Ptm0k"
      }
    },
    {
      "cell_type": "code",
      "source": [
        "# Tratamiento de datos multidimensionales\n",
        "# ------------------------------------------------\n",
        "import xarray as xr\n",
        "\n",
        "# Librería gráfica\n",
        "# -------------------------------\n",
        "import matplotlib.pyplot as plt"
      ],
      "metadata": {
        "id": "-lxdjRe5ti4f"
      },
      "execution_count": null,
      "outputs": []
    },
    {
      "cell_type": "markdown",
      "source": [
        "##Lectura de datos\n",
        "---"
      ],
      "metadata": {
        "id": "UruUXayRrxFk"
      }
    },
    {
      "cell_type": "markdown",
      "source": [
        "En xarray podemos abrir ficheros con la función [open_dataset](https://docs.xarray.dev/en/stable/generated/xarray.open_dataset.html). El argumento puede ser un fichero local o bien la URL de un servidor remoto OpenDAP. Aquí trabajaremos con un fichero local que contiene 33 años de reanálisis de datos de temperaturas superficial en Europa."
      ],
      "metadata": {
        "id": "XihASK6dP0N5"
      }
    },
    {
      "cell_type": "code",
      "source": [
        "ds = xr.open_dataset('/content/era5_t2m_1987_2020_europa_025.nc')"
      ],
      "metadata": {
        "id": "WwrRVHO_t136"
      },
      "execution_count": null,
      "outputs": []
    },
    {
      "cell_type": "code",
      "source": [
        "# Esto es un tipo de dato Dataset\n",
        "# --------------------------------\n",
        "ds"
      ],
      "metadata": {
        "id": "NLd7a2dNvYnB"
      },
      "execution_count": null,
      "outputs": []
    },
    {
      "cell_type": "code",
      "source": [
        "# Variables del Dataset\n",
        "# ----------------------\n",
        "ds.data_vars"
      ],
      "metadata": {
        "id": "eApjU7y6veGi"
      },
      "execution_count": null,
      "outputs": []
    },
    {
      "cell_type": "code",
      "source": [
        "# Dimensiones del Dataset\n",
        "# ------------------------\n",
        "ds.dims"
      ],
      "metadata": {
        "id": "tfGYMSjeSClx"
      },
      "execution_count": null,
      "outputs": []
    },
    {
      "cell_type": "code",
      "source": [
        "# Coordenadas del Dataset\n",
        "# -----------------------\n",
        "ds.coords"
      ],
      "metadata": {
        "id": "U89JoP6VSQh9"
      },
      "execution_count": null,
      "outputs": []
    },
    {
      "cell_type": "markdown",
      "source": [
        "Las variables del Dataset son datos de tipo DataArray y se puede acceder ellos de la misma forma que se accede a las columnas en Pandas"
      ],
      "metadata": {
        "id": "YWIe12asSzdX"
      }
    },
    {
      "cell_type": "code",
      "source": [
        "# Acceso mediante el nombre entre paréntesis\n",
        "# -------------------------------------------\n",
        "ds['t2m']"
      ],
      "metadata": {
        "id": "Cq-X6yI6vvW_"
      },
      "execution_count": null,
      "outputs": []
    },
    {
      "cell_type": "code",
      "source": [
        "# Acceso concatenando el nombre con un punto\n",
        "# -------------------------------------------\n",
        "ds.t2m"
      ],
      "metadata": {
        "id": "4zLCdukpv4fH"
      },
      "execution_count": null,
      "outputs": []
    },
    {
      "cell_type": "markdown",
      "source": [
        "##Selección: *isel, sel y slice*\n",
        "---"
      ],
      "metadata": {
        "id": "aeCk6DSjr6hu"
      }
    },
    {
      "cell_type": "markdown",
      "source": [
        "xarray se asienta en Numpy y por eso los DataArray comparten métodos y su trato resulta familiar."
      ],
      "metadata": {
        "id": "NZ0eTilax4CC"
      }
    },
    {
      "cell_type": "code",
      "source": [
        "# Extracción del DataArray de temperaturas del Dataset\n",
        "# Los datos están en K y los pasamos a ºC\n",
        "# ------------------------------------------------------\n",
        "t2m = ds.t2m - 273.15"
      ],
      "metadata": {
        "id": "aeXLa7GPwnBO"
      },
      "execution_count": null,
      "outputs": []
    },
    {
      "cell_type": "code",
      "source": [
        "# Podemos usar shape para inspeccionar las dimensiones\n",
        "# ---------------------------------------------------\n",
        "t2m.shape"
      ],
      "metadata": {
        "id": "6A1HttScwtgO"
      },
      "execution_count": null,
      "outputs": []
    },
    {
      "cell_type": "markdown",
      "source": [
        "En Numpy seleccionaríamos elementos del array de esta manera:"
      ],
      "metadata": {
        "id": "TEq9xP51yHTN"
      }
    },
    {
      "cell_type": "code",
      "source": [
        "# Selección al estilo Numpy, indicando valores o rangos de los índices\n",
        "# ---------------------------------------------------------------------\n",
        "t2m[0,10:20,15:25]"
      ],
      "metadata": {
        "id": "Rhtn3aDVyMVt"
      },
      "execution_count": null,
      "outputs": []
    },
    {
      "cell_type": "markdown",
      "source": [
        "En xarray disponemos de dos operadores muy cómodos:\n",
        "\n",
        "*   ***isel*** : selecciona por índices\n",
        "*   ***sel***  : selecciona por valores\n",
        "\n",
        "Veamos unos ejemplos seleccionando tiempos (más info [aquí](https://docs.xarray.dev/en/stable/user-guide/time-series.html)):"
      ],
      "metadata": {
        "id": "OLwte7RByd6T"
      }
    },
    {
      "cell_type": "code",
      "source": [
        "# Selección de los datos correspondientes al primer valor de tiempo\n",
        "# -----------------------------------------------------------------\n",
        "t2m.isel(time=0)"
      ],
      "metadata": {
        "id": "jpyXdnKXy2PW"
      },
      "execution_count": null,
      "outputs": []
    },
    {
      "cell_type": "code",
      "source": [
        "# Selección de los datos correspondientes a un valor específico del tiempo\n",
        "# ------------------------------------------------------------------------\n",
        "t2m.sel(time='1987-02-20T12:00:00')"
      ],
      "metadata": {
        "id": "7cJzvVPMzmT4"
      },
      "execution_count": null,
      "outputs": []
    },
    {
      "cell_type": "code",
      "source": [
        "# ¿Y si el valor específico del tiempo no está presente en los datos?\n",
        "#  Usamos 'method' para especificar que use el tiempo más próximo.\n",
        "# -------------------------------------------------------------------------------\n",
        "#t2m.sel(time='1987-02-18T12:00:00')\n",
        "t2m.sel(time='1987-02-18T12:00:00',method='nearest')"
      ],
      "metadata": {
        "id": "ctSjBZ290L1G"
      },
      "execution_count": null,
      "outputs": []
    },
    {
      "cell_type": "markdown",
      "source": [
        "Para especificar un rango en lugar de un valor concreto usamos la función ***slice***:"
      ],
      "metadata": {
        "id": "pM6vjnqxZ4yA"
      }
    },
    {
      "cell_type": "code",
      "source": [
        "# Selección de los datos correspondientes a un periodo de tiempo\n",
        "# ---------------------------------------------------------------\n",
        "t2m.sel(time=slice('1987-02-20T12:00:00', '1987-04-16T12:00:00'))"
      ],
      "metadata": {
        "id": "59x86ZllYcRU"
      },
      "execution_count": null,
      "outputs": []
    },
    {
      "cell_type": "code",
      "source": [
        "# Selección de los datos correspondientes a un periodo de tiempo\n",
        "# especificando solo mes y año\n",
        "# ---------------------------------------------------------------\n",
        "t2m.sel(time=slice('1993-07', '1994-02'))"
      ],
      "metadata": {
        "id": "VrgmsPG8Yyao"
      },
      "execution_count": null,
      "outputs": []
    },
    {
      "cell_type": "markdown",
      "source": [
        "Las funciones ***sel***, ***isel*** y ***slice*** funcionan exactamente igual con el resto de coordenadas. Algunos ejemplos con la latitud y la longitud:"
      ],
      "metadata": {
        "id": "NdfZbzq6aHzI"
      }
    },
    {
      "cell_type": "code",
      "source": [
        "# Selección de una ventana geográfica:\n",
        "# norte = 40º sur = 30º / oeste = -30º / este = 0º\n",
        "# Nota: en ERA5 las latitudes se almanenan invertidas\n",
        "# --------------------------------------------------------\n",
        "t2m.sel(latitude=slice(40,30), longitude=slice(-20,0))"
      ],
      "metadata": {
        "id": "tCLzeDdJaaVW"
      },
      "execution_count": null,
      "outputs": []
    },
    {
      "cell_type": "code",
      "source": [
        "# isel y sel admiten múltiples selectores simultáneos\n",
        "# Selección de datos en una fecha específica y en una ventana geográfica:\n",
        "# ---------------------------------------------------------------------------------------\n",
        "t2m.sel(time='1987-02-20T12:00:00',latitude=slice(40,30), longitude=slice(-20,0))"
      ],
      "metadata": {
        "id": "1Hkj6r7mbhld"
      },
      "execution_count": null,
      "outputs": []
    },
    {
      "cell_type": "code",
      "source": [
        "# También pueden encadenarse y funcionan igualemente con Datasets\n",
        "# ---------------------------------------------------------------\n",
        "ds.isel(time=0).sel(latitude=slice(40,30), longitude=slice(-20,0))"
      ],
      "metadata": {
        "id": "tqCr3yv_duP8"
      },
      "execution_count": null,
      "outputs": []
    },
    {
      "cell_type": "markdown",
      "source": [
        "##Gráficos\n",
        "---"
      ],
      "metadata": {
        "id": "p1B8wbi_sBVV"
      }
    },
    {
      "cell_type": "markdown",
      "source": [
        "xarray tiene una prestación muy cómoda en relación con los gráficos: intenta deducir a partir de las dimensiones de los datos qué tipo de dibujo queremos.\n",
        "\n",
        "Por ejemplo si eliminamos la dimensión temporal, la función *plot()* representará un mapa.\n",
        "\n",
        "Notas:\n",
        "\n",
        "* cmap = 'jet' especifica un mapa de color. Más opciones [aquí](https://matplotlib.org/stable/tutorials/colors/colormaps.html).\n",
        "* El ajuste de la escala de color es automático pero podemos usar los argumentos vmn/vmax para ajustarlos."
      ],
      "metadata": {
        "id": "ZNpYJLEVe2S4"
      }
    },
    {
      "cell_type": "code",
      "source": [
        "# Seleccionamos un tiempo y una ventana geográfica  f(x,y,t) --> f=f(x,y)\n",
        "# ------------------------------------------------------------------------\n",
        "t2m.isel(time=0).sel(latitude = slice(45,36) , longitude = slice(-13,5)).plot(cmap = 'jet', size = 7)"
      ],
      "metadata": {
        "id": "XIqIj0UhfbmX"
      },
      "execution_count": null,
      "outputs": []
    },
    {
      "cell_type": "code",
      "source": [
        "# Seleccionamos rangos de las tres variables:  f(x,y,t) --> f=f(x,y,t)\n",
        "# -----------------------------------------------------------------------------------------------------\n",
        "t2m.sel(time=slice('2001-01','2004-05'), latitude=slice(45,36), longitude=slice(-13,5)).plot(size=5)\n"
      ],
      "metadata": {
        "id": "6MaFy65fi2Z-"
      },
      "execution_count": null,
      "outputs": []
    },
    {
      "cell_type": "code",
      "source": [
        "# Seleccionamos un rango de tiempos y las coordenadas de un punto:  f(x,y,t) --> f=f(t)\n",
        "# ----------------------------------------------------------------------------------------\n",
        "t2m.sel(time=slice('2001-01','2004-05')).sel(latitude=40.4,longitude=-3.7,method = 'nearest').plot(size=6)"
      ],
      "metadata": {
        "id": "EZUYfpG5kFdU"
      },
      "execution_count": null,
      "outputs": []
    },
    {
      "cell_type": "markdown",
      "source": [
        "**Sobre la personalización de los gráficos**: la función *plot()* admite varios argumentos que permiten hacer ajustes en los gráficos (más info [aquí](https://docs.xarray.dev/en/stable/user-guide/plotting.html)). Una alternativa sencilla pasa por crear un contenedor y pasar los ejes como argumento a *plot()*:"
      ],
      "metadata": {
        "id": "EIe61zQlkpOM"
      }
    },
    {
      "cell_type": "code",
      "source": [
        "# Creamos una figura\n",
        "# --------------------\n",
        "fig, ax = plt.subplots()\n",
        "\n",
        "# Pasamos los ejes como argumento\n",
        "# ----------------------------------\n",
        "t2m.sel(time=slice('2001-01','2005-12')).sel(latitude=40.4, longitude=-3.7, method = 'nearest').plot(ax=ax)\n",
        "\n",
        "# Personalizamos el gráfico añadiendo elementos\n",
        "# ----------------------------------------------\n",
        "ax.grid(True)\n",
        "ax.set_xlabel('Tiempo')\n",
        "ax.set_ylabel('Temperatura')\n",
        "ax.set_title('Evolución de la temperatura a 2m en el periodo 2001-2005, en Madrid')"
      ],
      "metadata": {
        "id": "OSYgwJMClsuX"
      },
      "execution_count": null,
      "outputs": []
    },
    {
      "cell_type": "markdown",
      "source": [
        "Veamos un ejemplo con un fichero que contiene además una coordenada vertical."
      ],
      "metadata": {
        "id": "FF9uUo4SqK3H"
      }
    },
    {
      "cell_type": "code",
      "source": [
        "# Leemos el fichero\n",
        "# --------------------\n",
        "ds = xr.open_dataset('/content/era5_pl_t_2020_global_025.nc')"
      ],
      "metadata": {
        "id": "Jus5kls6qS2_"
      },
      "execution_count": null,
      "outputs": []
    },
    {
      "cell_type": "code",
      "source": [
        "# Dataset\n",
        "# ----------\n",
        "ds"
      ],
      "metadata": {
        "id": "oQAR09vlqv9W"
      },
      "execution_count": null,
      "outputs": []
    },
    {
      "cell_type": "code",
      "source": [
        "# Extraemos el DataArray de temperaturas temp = temp(t,x,y,z)\n",
        "# Pasamos de Kelvin a ºC\n",
        "# -------------------------------------------------------------\n",
        "t = ds.t - 273.15\n",
        "\n",
        "t"
      ],
      "metadata": {
        "id": "PY9A-_xyrCwW"
      },
      "execution_count": null,
      "outputs": []
    },
    {
      "cell_type": "code",
      "source": [
        "# Extraemos el mapa correspondiente al primer valor de tiempo y al último nivel de presión (1000 hPa)\n",
        "# Trazamos un paralelo y un meridiano para los cortes verticales\n",
        "# -----------------------------------------------------------------\n",
        "fig,ax = plt.subplots()\n",
        "t.isel(time=0).isel(level=-1).plot(cmap='jet', ax=ax)\n",
        "ax.axhline(y=-25)\n",
        "ax.axvline(x=25)"
      ],
      "metadata": {
        "id": "IOnDxVYHriD6"
      },
      "execution_count": null,
      "outputs": []
    },
    {
      "cell_type": "code",
      "source": [
        "# Corte vertical por un meridiano que pasa por África\n",
        "# --------------------------------------------------------\n",
        "t.isel(time=0).sel(longitude=25,method='nearest').plot(cmap='jet',yincrease=False,size=7)"
      ],
      "metadata": {
        "id": "2VFOQITXsSdy"
      },
      "execution_count": null,
      "outputs": []
    },
    {
      "cell_type": "code",
      "source": [
        "# Corte vertical por un paralelo en la latitud de Australia\n",
        "# Especificamos que la coordenada vertical disminuye con la altura con yincrease=False\n",
        "# --------------------------------------------------------------------------------------\n",
        "t.isel(time=0).sel(longitude=-25,method='nearest').plot(cmap='jet',yincrease=False,size=7)"
      ],
      "metadata": {
        "id": "CUIka8wrs6Sd"
      },
      "execution_count": null,
      "outputs": []
    },
    {
      "cell_type": "markdown",
      "source": [
        "##Estadística\n",
        "---"
      ],
      "metadata": {
        "id": "cs5UWXnKsHs_"
      }
    },
    {
      "cell_type": "markdown",
      "source": [
        "En xarray podemos usar las mismas funciones estadísticas que tenemos en Numpy"
      ],
      "metadata": {
        "id": "jDQZf8YDTFsJ"
      }
    },
    {
      "cell_type": "code",
      "source": [
        "# Volvemos a abrir el fichero de temperaturas en superficie\n",
        "# -------------------------------------------------------------\n",
        "ds = xr.open_dataset('/content/era5_t2m_1987_2020_europa_025.nc')\n",
        "\n",
        "# Inspeccionamos el contenido\n",
        "# ----------------------------\n",
        "ds\n",
        "\n",
        "# Extraemos el DataArray y pasamos de Kelvin a ºC\n",
        "# ------------------------------------------------\n",
        "t2m = ds.t2m - 273.15"
      ],
      "metadata": {
        "id": "iuoaHEmoTn09"
      },
      "execution_count": null,
      "outputs": []
    },
    {
      "cell_type": "code",
      "source": [
        "# Métodos de numpy para estadística\n",
        "# -----------------------------------\n",
        "# Valor medio\n",
        "# -----------------\n",
        "media = t2m.mean()\n",
        "\n",
        "# El resultado es un DataArray\n",
        "# ----------------------------\n",
        "print(media)\n",
        "\n",
        "# Extracción del valor de\n",
        "# un DataArray de un solo elemento\n",
        "# -----------------------------------\n",
        "print(media.item())"
      ],
      "metadata": {
        "id": "qP6VE9l9UO3y"
      },
      "execution_count": null,
      "outputs": []
    },
    {
      "cell_type": "code",
      "source": [
        "# Análogamente para otras funciones estadísticas\n",
        "# -----------------------------------------------\n",
        "d = {\n",
        "    'dev_std'            :  t2m.std(),\n",
        "    'varianza'           :  t2m.var(),\n",
        "    'mediana'            :  t2m.median(),\n",
        "    'percentil5'         :  t2m.quantile(0.05),\n",
        "    'percentil95'        :  t2m.quantile(0.95),\n",
        "    'minimo'             :  t2m.min(),\n",
        "    'maximo'             :  t2m.max(),\n",
        "}\n",
        "\n",
        "for stat in d :\n",
        "  print('%s = %.3f' % (stat, d[stat].item()))"
      ],
      "metadata": {
        "id": "6IhZJxpub0Iy"
      },
      "execution_count": null,
      "outputs": []
    },
    {
      "cell_type": "markdown",
      "source": [
        "Las funciones estadísticas pueden usarse sobre dimensiones diferentes si se especifican con el argumento ***dim***:"
      ],
      "metadata": {
        "id": "S-eYuFLJcxR2"
      }
    },
    {
      "cell_type": "code",
      "source": [
        "# Estructura de t2m\n",
        "# -----------------\n",
        "t2m.coords"
      ],
      "metadata": {
        "id": "uAri2ylRdib2"
      },
      "execution_count": null,
      "outputs": []
    },
    {
      "cell_type": "code",
      "source": [
        "# Media temporal de temperaturas\n",
        "# ------------------------------\n",
        "t2m.mean(dim='time').plot(cmap='jet', size=6)"
      ],
      "metadata": {
        "id": "b_vr4MSgX70h"
      },
      "execution_count": null,
      "outputs": []
    },
    {
      "cell_type": "code",
      "source": [
        "# El percentil 95 es el valor que solo es superado por un 5% de los datos\n",
        "# -----------------------------------------------------------------------\n",
        "t2m.quantile(0.95,dim='time').plot(cmap='jet')"
      ],
      "metadata": {
        "id": "zepuHzxAfFhN"
      },
      "execution_count": null,
      "outputs": []
    },
    {
      "cell_type": "code",
      "source": [
        "# La desviación estándar mide la dispersión en torno al valor medio\n",
        "# ---------------------------------------------------------------------\n",
        "fig,ax = plt.subplots(ncols=3, nrows=1, figsize=(15,5))\n",
        "\n",
        "t2m.std(dim='time').plot(ax=ax[0], cmap='jet')\n",
        "ax[0].set_title('Desviación estándar')\n",
        "\n",
        "t2m.min(dim='time').plot(ax=ax[1], cmap='jet', vmin=-30,vmax=50)\n",
        "ax[1].set_title('Mínimas')\n",
        "\n",
        "t2m.max(dim='time').plot(ax=ax[2], cmap='jet', vmin=-30,vmax=50)\n",
        "ax[2].set_title('Máximas')\n",
        "\n",
        "# Título superior\n",
        "# ----------------\n",
        "plt.suptitle('Temperaturas en superficie')"
      ],
      "metadata": {
        "id": "CqlrPyoGgAOz"
      },
      "execution_count": null,
      "outputs": []
    },
    {
      "cell_type": "markdown",
      "source": [
        "Vamos a calcular una climatología. Siguiendo la recomendación de la Organización Meteorológica Mundial tomaremos un periodo de 30 años como referencia (1981-2010)."
      ],
      "metadata": {
        "id": "E046gfKIqvWV"
      }
    },
    {
      "cell_type": "code",
      "source": [
        "# Promediamos todos los mapas en la ventana de tiempo 1981-2010\n",
        "# ---------------------------------------------------------------\n",
        "clim = t2m.sel(time=slice('1981-01','2010-12')).mean(dim='time')\n",
        "clim"
      ],
      "metadata": {
        "id": "F1is5GBmqthK"
      },
      "execution_count": null,
      "outputs": []
    },
    {
      "cell_type": "code",
      "source": [
        "# Dibujamos\n",
        "# ------------------\n",
        "clim.plot(cmap='jet')"
      ],
      "metadata": {
        "id": "o-bfR-7krPMK"
      },
      "execution_count": null,
      "outputs": []
    },
    {
      "cell_type": "markdown",
      "source": [
        "En la función ***sel*** podemos añadir condiciones para restringir el periodo especificado con la función ***slice***. Por ejemplo, si quisiéramos la climatología del mes de agosto haríamos lo siguiente:"
      ],
      "metadata": {
        "id": "Fduht9ujrx_x"
      }
    },
    {
      "cell_type": "code",
      "source": [
        "# Climatología del mes de agosto en el periodo 1981-2010\n",
        "# ---------------------------------------------------------\n",
        "clim_agosto = t2m.sel(time = slice('1981-01','2010-12') and t2m.time.dt.month.isin([8,])).mean(dim='time')\n"
      ],
      "metadata": {
        "id": "gsADOaNfrwqO"
      },
      "execution_count": null,
      "outputs": []
    },
    {
      "cell_type": "markdown",
      "source": [
        "Ahora podemos calcular las anomalías correspondientes a un día de agosto cualquiera sin más que sustraer la climatología:"
      ],
      "metadata": {
        "id": "ETqEy8lqsmLi"
      }
    },
    {
      "cell_type": "code",
      "source": [
        "# Calcula la anomalía del 25/08/2020 restando la climatología de agosto en el periodo [1981-2010]\n",
        "# -------------------------------------------------------------------------------------------------\n",
        "(t2m.sel(time='2020-08-25T12:00:00') - clim_agosto).plot(cmap='seismic')\n"
      ],
      "metadata": {
        "id": "Ed_oP5HkszAH"
      },
      "execution_count": null,
      "outputs": []
    },
    {
      "cell_type": "markdown",
      "source": [
        "Calculamos ahora la anomalía anual"
      ],
      "metadata": {
        "id": "n5K8pfQuuY96"
      }
    },
    {
      "cell_type": "code",
      "source": [
        "# Calcula la anomalías de todos los días restando a cada un la climatología anual del periodo [1981-2010]\n",
        "# -------------------------------------------------------------------------------------.-----------------\n",
        "anom = t2m - clim"
      ],
      "metadata": {
        "id": "_yXrGRNsufef"
      },
      "execution_count": null,
      "outputs": []
    },
    {
      "cell_type": "markdown",
      "source": [
        "Promediando todos los datos de cada mapa podemos generar una serie temporal de anomalías:"
      ],
      "metadata": {
        "id": "GJ1g_AM6vXQ6"
      }
    },
    {
      "cell_type": "code",
      "source": [
        "# Calcula la serie temporal de anomalías y la representa\n",
        "# -------------------------------------------------------\n",
        "anom.mean(dim=('longitude','latitude')).plot()"
      ],
      "metadata": {
        "id": "P17SWjpNvn1-"
      },
      "execution_count": null,
      "outputs": []
    },
    {
      "cell_type": "code",
      "source": [
        "anom.sel(time=slice('1990-01','1991-12')).mean(dim=('longitude','latitude')).plot()"
      ],
      "metadata": {
        "id": "4QAtOmMewi7K"
      },
      "execution_count": null,
      "outputs": []
    },
    {
      "cell_type": "markdown",
      "source": [
        "##Remuestreo\n",
        "---"
      ],
      "metadata": {
        "id": "TCqN2s7isYbH"
      }
    },
    {
      "cell_type": "markdown",
      "source": [
        "Nuestras anomalías de temperatura contienen la variación natural del ciclo estacional. Eso dificulta cualquier diagnóstico de evolución de largo plazo. Necesitaríamos empaquetar todos los datos de cada año y promediarlos. Podemos realizar esa operación con la función ***resample()***.\n",
        "\n",
        "* Es muy flexible y acepta periodos del tipo \"2W\", \"3M\" o \"5Y\" para muestrear cada 2 semanas, 3 meses o cinco años, por ejemplo.\n",
        "* Más info sobre \"alias\" de tiempo [aquí](https://pandas.pydata.org/pandas-docs/stable/user_guide/timeseries.html#offset-aliases8) para usar con ***resample()***"
      ],
      "metadata": {
        "id": "pkiY-SgMwXBl"
      }
    },
    {
      "cell_type": "code",
      "source": [
        "# Remuestreamos la serie temporal original sustituyendo\n",
        "# los valores de cada año por su promedio\n",
        "# ------------------------------------------------------\n",
        "anom_anual = anom.resample(time='Y').mean(dim='time')\n",
        "anom_anual.time"
      ],
      "metadata": {
        "id": "1qURUa0qx01X"
      },
      "execution_count": null,
      "outputs": []
    },
    {
      "cell_type": "markdown",
      "source": [
        "En estas condiciones resulta más fácil diagnosticar un cambio de largo plazo:"
      ],
      "metadata": {
        "id": "Xx19CQI-zw8D"
      }
    },
    {
      "cell_type": "code",
      "source": [
        "anom_anual.mean(dim=('longitude','latitude')).plot()"
      ],
      "metadata": {
        "id": "zFuLSFTu0AON"
      },
      "execution_count": null,
      "outputs": []
    },
    {
      "cell_type": "code",
      "source": [
        "# Un ejemplo de evolución de anomalías en regiones distintas sobre un\n",
        "# mismo gráfico\n",
        "# ---------------------------------------------------------------------\n",
        "fig,ax = plt.subplots()\n",
        "\n",
        "anom_anual.mean(dim=('longitude','latitude')).plot(ax=ax,label='Área completa (20N-60N)')\n",
        "anom_anual.sel(latitude=slice(40,20)).mean(dim=('longitude','latitude')).plot(ax=ax,label='Sur (20N-40N)')\n",
        "anom_anual.sel(latitude=slice(60,40)).mean(dim=('longitude','latitude')).plot(ax=ax,label='Norte (40N-60N)')\n",
        "ax.set_title('Evolución de anomalías de temperatura a 2m (1C)')\n",
        "ax.set_xlabel('Longitud')\n",
        "ax.set_ylabel('Latitud')\n",
        "ax.grid(True)\n",
        "ax.legend()\n"
      ],
      "metadata": {
        "id": "3jzh6j1_0Wg-"
      },
      "execution_count": null,
      "outputs": []
    },
    {
      "cell_type": "markdown",
      "source": [
        "##Agrupamientos\n",
        "---"
      ],
      "metadata": {
        "id": "M50YLTU0sOHv"
      }
    },
    {
      "cell_type": "markdown",
      "source": [
        "Los agrupamientos permiten aplicar a los datos una estrategia de \"dividir-aplicar-combinar\":\n",
        "* se realiza una separación por grupos en base a algún criterio,\n",
        "* se aplica alguna operación sobre cada grupo\n",
        "* se vuelven a recombinar los grupos\n",
        "\n",
        "Podemos hacer agrupamientos con las funciones ***groupby_bin()*** y ***groupby()***"
      ],
      "metadata": {
        "id": "cqwn19bK03jK"
      }
    },
    {
      "cell_type": "code",
      "source": [
        "for i,d in anom_anual.groupby_bins('latitude', bins=4) :\n",
        "    print(i,d.dims,d.shape)"
      ],
      "metadata": {
        "id": "lNpArSu302jq"
      },
      "execution_count": null,
      "outputs": []
    },
    {
      "cell_type": "code",
      "source": [
        "anom_anual.groupby_bins('latitude', bins=4).mean(dim=('longitude','latitude')).plot(x='time', hue='latitude_bins')"
      ],
      "metadata": {
        "id": "Ctgo_tvk2uF6"
      },
      "execution_count": null,
      "outputs": []
    },
    {
      "cell_type": "markdown",
      "source": [
        "Con la función groupby() podemos especificar otros criterios para el agrupamiento. En este ejemplo vamos a generar mapas promedio de temperatura superficial para cada estación del año.\n",
        "\n",
        "* Más \"coordenadas virtuales de tiempo\" [aquí](https://docs.xarray.dev/en/stable/user-guide/time-series.html)\n"
      ],
      "metadata": {
        "id": "0WqCDG5Z35x6"
      }
    },
    {
      "cell_type": "code",
      "source": [
        "# Generamos un grupo con los datos de temperatura correspondientes a cada\n",
        "# estación (DJF/MAM/JJA/SON) y a continuación promediamos cada grupo\n",
        "# -----------------------------------------------------------------------------------------\n",
        "estaciones = t2m.groupby('time.season').mean(dim='time')\n",
        "print(estaciones)"
      ],
      "metadata": {
        "id": "hepfcPE034SL"
      },
      "execution_count": null,
      "outputs": []
    },
    {
      "cell_type": "code",
      "source": [
        "# Dibujamos el primer miembro del grupo\n",
        "# ----------------------------------------\n",
        "estaciones[0].plot()"
      ],
      "metadata": {
        "id": "zwiadkKB5NjT"
      },
      "execution_count": null,
      "outputs": []
    },
    {
      "cell_type": "code",
      "source": [
        "estaciones.plot(col='season')"
      ],
      "metadata": {
        "id": "ofJiRcK_5tBm"
      },
      "execution_count": null,
      "outputs": []
    },
    {
      "cell_type": "code",
      "source": [
        "estaciones.plot(col='season',col_wrap=2,cmap='jet')"
      ],
      "metadata": {
        "id": "0W0H1DRP5ukD"
      },
      "execution_count": null,
      "outputs": []
    },
    {
      "cell_type": "markdown",
      "source": [
        "Un ejemplo con mapas mensuales"
      ],
      "metadata": {
        "id": "0UreBVRh6EL5"
      }
    },
    {
      "cell_type": "code",
      "source": [
        "t2m.groupby('time.month').mean(dim='time').plot(col='month',col_wrap=4,cmap='jet',size=2)"
      ],
      "metadata": {
        "id": "zGX08Ut76LaC"
      },
      "execution_count": null,
      "outputs": []
    },
    {
      "cell_type": "markdown",
      "source": [
        "##Máscaras\n",
        "---"
      ],
      "metadata": {
        "id": "Pyokb1vVshVq"
      }
    },
    {
      "cell_type": "markdown",
      "source": [
        "Las máscaras permiten elegir qué parte de los datos queremos usar. A diferencia de las funciones isel() y sel(), las máscaras preservan las dimensiones originales de los datos. Podemos enmascarar nuestros datos de forma muy eficaz a través de la función ***where()*** que acepta una o más condiciones de selección. Esta función puede encadenarse a otras como hemos visto anteriormente.\n",
        "\n",
        "* Mas información sobre el enmascaramiento de datos con ***where()***, [aquí](https://docs.xarray.dev/en/stable/user-guide/indexing.html#masking-with-where)"
      ],
      "metadata": {
        "id": "zoXa-b1oID4N"
      }
    },
    {
      "cell_type": "markdown",
      "source": [
        "El criterio de enmascaramiento puede estar ***basado en los valores de los datos***. En el siguiente ejemplo seleccionamos el mapa correspondiente al primer valor de tiempo y seguidamente enmascaramos los valores de temperatura menores o iguales que cero:"
      ],
      "metadata": {
        "id": "FsUAIO2_LPPF"
      }
    },
    {
      "cell_type": "code",
      "source": [
        "# Máscara por valor: retenemos solo los valores de\n",
        "# temperatura que son mayores que cero\n",
        "# --------------------------------------------------------\n",
        "t2m.isel(time=0).where(t2m.isel(time=0)>10).plot(cmap='jet')"
      ],
      "metadata": {
        "id": "oxbnIyJnI-Rl"
      },
      "execution_count": null,
      "outputs": []
    },
    {
      "cell_type": "code",
      "source": [
        "# Creamos un DataArray con datos del primer\n",
        "# valor de tiempo\n",
        "# -----------------------------------------\n",
        "z = t2m.isel(time=0)\n",
        "\n",
        "# Encadenamos máscaras que retienen solamente\n",
        "# los valores de temperatura en el intervalo (10,20)\n",
        "# ---------------------------------------------------\n",
        "z.where(z>10).where(z<20).plot(cmap='jet')"
      ],
      "metadata": {
        "id": "agoOSqCpMhKF"
      },
      "execution_count": null,
      "outputs": []
    },
    {
      "cell_type": "code",
      "source": [
        "# El mismo resultado incluyendo múltiples argumentos\n",
        "# en la misma llamada a la función where()\n",
        "# -------------------------------------------------\n",
        "z.where((z>10) & (z<20)).plot(cmap='jet')"
      ],
      "metadata": {
        "id": "lb_d3VQ7N2kD"
      },
      "execution_count": null,
      "outputs": []
    },
    {
      "cell_type": "markdown",
      "source": [
        "Se puede enmascarar el DataArray entero con un criterio basado en un campo y después hacer una selección. Es importante tener en cuenta el orden de las operaciones para optimizar recursos."
      ],
      "metadata": {
        "id": "89cQXRa5P7FN"
      }
    },
    {
      "cell_type": "code",
      "source": [
        "# Creamos un DataArray con datos del primer\n",
        "# valor de tiempo\n",
        "# -----------------------------------------\n",
        "z = t2m.isel(time=0)\n",
        "\n",
        "# Enmascaramos todo el DataArray t2m para retener\n",
        "# valores de temperatura en el intervalo (10,20) y a\n",
        "# continuación seleccionamos el campo correspondiente al índice\n",
        "# de tiempo número 40.\n",
        "# La operación sería más eficiente invirtiendo el orden de\n",
        "# las funciones.\n",
        "# -------------------------------------------------------------------\n",
        "t2m.where((z>10) & (z<20)).isel(time=40).plot(cmap='jet')\n",
        "\n",
        "# La misma operación sería más eficiente invirtiendo\n",
        "#el orden de las funciones.\n",
        "# -------------------------------------------------------------------\n",
        "# t2m.isel(time=40).where((z>10) & (z<20)).plot(cmap='jet')\n"
      ],
      "metadata": {
        "id": "cE7-bOvcPGDq"
      },
      "execution_count": null,
      "outputs": []
    },
    {
      "cell_type": "markdown",
      "source": [
        "Es posible rellenar la zona enmascarada con valores prestablecidos que indicamos en el segundo argumento de ***where()***"
      ],
      "metadata": {
        "id": "Gz9KvkLQUa9N"
      }
    },
    {
      "cell_type": "code",
      "source": [
        "# rellenando la zona correspondiente a temperturas inferiores\n",
        "# a 0ºC con el valor cero\n",
        "# -----------------------------------------------------------\n",
        "z.where(z<10, 0).plot(cmap='jet')"
      ],
      "metadata": {
        "id": "KeB7yWi7Uk4X"
      },
      "execution_count": null,
      "outputs": []
    },
    {
      "cell_type": "markdown",
      "source": [
        "Las máscaras pueden definirse también **en base a las coordenadas**. En el siguiente ejemplo retenemos solo los datos de la mitad norte del dominio geográfico"
      ],
      "metadata": {
        "id": "Eo_nGlz6U3Ig"
      }
    },
    {
      "cell_type": "code",
      "source": [
        "# Retenemos solamente los datos de latitud superior a 40ºN\n",
        "# y asignamos el valor cero al resto\n",
        "# ---------------------------------------------------------\n",
        "z.where(z.latitude>40,0).plot(cmap='jet')"
      ],
      "metadata": {
        "id": "xduh6NSMVMF-"
      },
      "execution_count": null,
      "outputs": []
    },
    {
      "cell_type": "code",
      "source": [
        "# Retenemos los datos de z (01/01/1987) con latitud superior\n",
        "# a 40ºN y asignamos al resto los datos del campo de temperaturas\n",
        "# correspondiente al índice de tiempo 36 (30/06/1987)\n",
        "# -------------------------------------------------------------\n",
        "z.where(z.latitude>40, t2m.isel(time=36)).plot(cmap='jet')"
      ],
      "metadata": {
        "id": "P6NUIeITVnkF"
      },
      "execution_count": null,
      "outputs": []
    },
    {
      "cell_type": "markdown",
      "source": [
        "Determinados campos se usan habitualmente para discriminar por tipos de superficie. Por ejemplo, el denominado *máscara tierra mar* (land sea mask) que toma valores cero o uno para indicar qué coordenadas corresponden al océano o a a tierra respectivamente"
      ],
      "metadata": {
        "id": "FiLLofQwXv42"
      }
    },
    {
      "cell_type": "code",
      "source": [
        "# Leemos los datos de la máscara tierra mar\n",
        "# Seleccionamos la correspondiente al primer\n",
        "# valor de tiempo y asumimos que no cambia\n",
        "# ------------------------------------------\n",
        "lsm = xr.open_dataset('/content/era5_t2m_1987_2020_europa_025_lsm.nc').lsm.isel(time=0)"
      ],
      "metadata": {
        "id": "d40Be6NQY9a4"
      },
      "execution_count": null,
      "outputs": []
    },
    {
      "cell_type": "code",
      "source": [
        "# Retenemos los datos de temperatura correspondientes\n",
        "# a tierra (lsm=1)\n",
        "# ---------------------------------\n",
        "z.where(lsm > 0).plot(cmap='jet')"
      ],
      "metadata": {
        "id": "YaM_c6qKfHDq"
      },
      "execution_count": null,
      "outputs": []
    },
    {
      "cell_type": "markdown",
      "source": [
        "A continuación repetiremos el experimento que hicimos anteriormente para determinar la evolución temporal de anomalías de temperatura. En esta ocasión, discriminando entre el mar y la tierra"
      ],
      "metadata": {
        "id": "qYumSnI_flfp"
      }
    },
    {
      "cell_type": "code",
      "source": [
        "# Climatología 1991-2020\n",
        "# ------------------------\n",
        "clim = t2m.sel(time=slice('1991-01','2020-12')).mean(dim='time')\n",
        "\n",
        "# Anomalias diarias respecto de la climatología 1991-2020\n",
        "# --------------------------------------------------------\n",
        "anom = t2m - clim\n",
        "\n",
        "# Anomalías anuales respecto de la climatología 1991-2020\n",
        "# ------------------------------------------------------------\n",
        "#anom_anual = anom.sel(time=slice('1991-01','2020-12')).resample(time='Y').mean(dim='time')\n",
        "anom_anual = anom.resample(time='Y').mean(dim='time')"
      ],
      "metadata": {
        "id": "yiX06RNRf-lU"
      },
      "execution_count": null,
      "outputs": []
    },
    {
      "cell_type": "code",
      "source": [
        "fig, ax = plt.subplots()\n",
        "anom_anual.where(lsm < 1).mean(dim=('latitude','longitude')).plot(ax=ax,label='mar')\n",
        "anom_anual.where(lsm > 0).mean(dim=('latitude','longitude')).plot(ax=ax,label='tierra')\n",
        "anom_anual.mean(dim=('latitude','longitude')).plot(ax=ax,label='total')\n",
        "ax.legend()\n",
        "ax.grid()\n",
        "ax.set_title('Evolución de la anomalía media anual ($^\\circ$C)')\n",
        "ax.set_xlabel('Tiempo')\n",
        "ax.set_ylabel('Anomalía')"
      ],
      "metadata": {
        "id": "BdAUBy-Cgfyt"
      },
      "execution_count": null,
      "outputs": []
    },
    {
      "cell_type": "markdown",
      "source": [
        "##Múltiples fuentes\n",
        "---"
      ],
      "metadata": {
        "id": "HAcyrYB2smN2"
      }
    },
    {
      "cell_type": "markdown",
      "source": [
        "Suele ser habitual que en los repositorios de datos estos se encuentren fragmentados en multitud de ficheros para facilitar el acceso y optimizar el ancho de banda de los servidores. Sin embargo, trabajar con múltiples ficheros puede dificultar la operativa de análisis.\n",
        "\n",
        "xarray ofrece un mecanismo muy cómodo para resolver este problema. Se trata de la función mfdataset(), que permite abrir múltiples ficheros asignándolos al mismo dataset"
      ],
      "metadata": {
        "id": "gOuKWclBjRXW"
      }
    },
    {
      "cell_type": "code",
      "source": [
        "# Declaramos los nombres de varios ficheros de datos\n",
        "# en una lista\n",
        "# ------------------------------------------------------\n",
        "ficheros = ['/content/era5_t2m_europa_05_2017.nc',\n",
        "            '/content/era5_t2m_europa_05_2018.nc',\n",
        "            '/content/era5_t2m_europa_05_2019.nc']"
      ],
      "metadata": {
        "id": "1J6D66QWj7wh"
      },
      "execution_count": null,
      "outputs": []
    },
    {
      "cell_type": "code",
      "source": [
        "# Los abrimos todos asignándólos a un único dataset\n",
        "# ------------------------------------------------\n",
        "ds = xr.open_mfdataset(ficheros)"
      ],
      "metadata": {
        "id": "52bRaNBCkNTq"
      },
      "execution_count": null,
      "outputs": []
    },
    {
      "cell_type": "code",
      "source": [
        "t2m = ds.t2m\n",
        "t2m.mean(dim=('longitude','latitude')).plot()"
      ],
      "metadata": {
        "id": "j7_CGFHflQhW"
      },
      "execution_count": null,
      "outputs": []
    },
    {
      "cell_type": "code",
      "source": [
        "t2m.sel(latitude=slice(45,35),longitude=slice(-10,0)).mean(dim='time').plot(cmap='jet')"
      ],
      "metadata": {
        "id": "Q5pH6SholgGc"
      },
      "execution_count": null,
      "outputs": []
    },
    {
      "cell_type": "markdown",
      "source": [
        "##Salida en NetCDF\n",
        "---"
      ],
      "metadata": {
        "id": "09yqcvY-stMd"
      }
    },
    {
      "cell_type": "markdown",
      "source": [
        "Para guardar el resultado de nuestro trabajo en formato NetCDF usamos la función to_netcdf() que, a efectos prácticos, puede usarse tanto en Datasets como en DataArrays."
      ],
      "metadata": {
        "id": "ogg8DOPClqsg"
      }
    },
    {
      "cell_type": "code",
      "source": [
        "# Leemos datos de viento y temperatura\n",
        "# --------------------------------------\n",
        "ds = xr.open_dataset('/content/era5_t2m_w10_2020_europa_025.nc').isel(time=slice(0,10))\n",
        "\n",
        "# Inspeccionamos el contenido del dataset\n",
        "# ----------------------------------------\n",
        "ds"
      ],
      "metadata": {
        "id": "MkyAKnpmob-W"
      },
      "execution_count": null,
      "outputs": []
    },
    {
      "cell_type": "code",
      "source": [
        "# Eliminamos el viento del dataset\n",
        "# Nos quedamos solo con la temperatura\n",
        "# -------------------------------------\n",
        "nuevo_ds = ds.drop(['u10','v10'])\n",
        "nuevo_ds"
      ],
      "metadata": {
        "id": "Zx2OWAHuo55K"
      },
      "execution_count": null,
      "outputs": []
    },
    {
      "cell_type": "code",
      "source": [
        "# Guardamos el nuevo dataset en formato NetCDF\n",
        "# -------------------------------------------------\n",
        "nuevo_ds.to_netcdf('/content/temperatura.nc', mode='w')"
      ],
      "metadata": {
        "id": "XPssya_IpLnO"
      },
      "execution_count": null,
      "outputs": []
    },
    {
      "cell_type": "code",
      "source": [
        "# El fichero creado contiene un dataset solamente\n",
        "# con la temperatura\n",
        "# ------------------------------------------------\n",
        "xr.open_dataset('/content/temperatura.nc')"
      ],
      "metadata": {
        "id": "7twZMc6OpnCJ"
      },
      "execution_count": null,
      "outputs": []
    },
    {
      "cell_type": "markdown",
      "source": [
        "Podemos operar de igual manera a nivel de DataArray"
      ],
      "metadata": {
        "id": "Cj2q0IT8qC_b"
      }
    },
    {
      "cell_type": "code",
      "source": [
        "# Extraemos DataArray con las componentes vectoriales\n",
        "# del viento a 10 metros\n",
        "# ---------------------------------------------------\n",
        "u = ds.u10\n",
        "v = ds.v10\n",
        "\n",
        "# Creamos un nuevo dataset solamente con el viento\n",
        "# y guardamos el resultado en un nuevo fichero NetCDF\n",
        "# --------------------------------------------------\n",
        "xr.Dataset({'u':u,'v':v}).to_netcdf('/content/viento.nc','w')"
      ],
      "metadata": {
        "id": "1kGLfawdqIq5"
      },
      "execution_count": null,
      "outputs": []
    },
    {
      "cell_type": "code",
      "source": [
        "# El fichero creado contiene un dataset solamente\n",
        "# con el viento\n",
        "# ------------------------------------------------\n",
        "xr.open_dataset('/content/viento.nc')"
      ],
      "metadata": {
        "id": "T7dTIf04qqAp"
      },
      "execution_count": null,
      "outputs": []
    },
    {
      "cell_type": "markdown",
      "source": [
        "##Compresión de datos\n",
        "---"
      ],
      "metadata": {
        "id": "m82GPPbEq43a"
      }
    },
    {
      "cell_type": "markdown",
      "source": [
        "El formato NetCDF permite la compresión sin pérdida de información. Para usarla en nuestros ficheros basta con declararla en el diccionario ***enconding***.\n",
        "La eficiencia de la compresión dependerá de los datos."
      ],
      "metadata": {
        "id": "BirRhIKgq8lV"
      }
    },
    {
      "cell_type": "code",
      "source": [
        "# Leemos datos de viento y temperatura\n",
        "# --------------------------------------\n",
        "ds = xr.open_dataset('/content/era5_t2m_w10_2020_europa_025.nc')\n",
        "\n",
        "# Inspeccionamos el contenido del dataset\n",
        "# ----------------------------------------\n",
        "ds\n"
      ],
      "metadata": {
        "id": "WiD_Au7yrWgt"
      },
      "execution_count": null,
      "outputs": []
    },
    {
      "cell_type": "code",
      "source": [
        "t2m = ds.t2m\n",
        "\n",
        "# El diccionario encoding contiene metadatos del array de temperaturas\n",
        "# ---------------------------------------------------------------------\n",
        "t2m.encoding"
      ],
      "metadata": {
        "id": "P3SuNiuyr013"
      },
      "execution_count": null,
      "outputs": []
    },
    {
      "cell_type": "code",
      "source": [
        "# En algunas plataformas la compresión no funciona correctamente\n",
        "# si no está instalada la librería NetCDF4 de Python\n",
        "# -------------------------------------------------------\n",
        "! pip -q install netcdf4"
      ],
      "metadata": {
        "id": "i_sQ8toC8NYi"
      },
      "execution_count": null,
      "outputs": []
    },
    {
      "cell_type": "code",
      "source": [
        "# Creamos un Dataset a partir del DataArray asignándole\n",
        "# un nombre a la variable.\n",
        "# ------------------------------------------------------\n",
        "temperatura = t2m.to_dataset(name='temperatura')\n",
        "\n",
        "# Guardamos el Dataset en un fichero NetCDF sin compresión\n",
        "# ---------------------------------------------------------\n",
        "temperatura.to_netcdf('/content/t2m_sin_compresion.nc','w')\n",
        "\n",
        "# Guardamos el Dataset en un fichero NetCDF especificando en el encoding\n",
        "# que queremos compresión 'zlib' con un nivel 4\n",
        "# ---------------------------------------------------------------------\n",
        "temperatura.to_netcdf('/content/t2m_con_compresion.nc','w', encoding={'temperatura':{'zlib':True,'complevel':4}})"
      ],
      "metadata": {
        "id": "hAwxwkfvsI1i"
      },
      "execution_count": null,
      "outputs": []
    },
    {
      "cell_type": "code",
      "source": [
        "# Obtenemos una compresión del 33%\n",
        "# ----------------------------------\n",
        "!ls -larth *_compresion.nc"
      ],
      "metadata": {
        "id": "98OfqHRHuayO"
      },
      "execution_count": null,
      "outputs": []
    }
  ]
}